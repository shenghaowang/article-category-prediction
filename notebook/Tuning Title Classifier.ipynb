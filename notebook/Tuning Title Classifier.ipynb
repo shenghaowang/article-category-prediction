{
 "cells": [
  {
   "cell_type": "code",
   "execution_count": 2,
   "metadata": {},
   "outputs": [],
   "source": [
    "import os\n",
    "import numpy as np\n",
    "import pandas as pd\n",
    "import time\n",
    "from xgboost import XGBClassifier\n",
    "from sklearn.feature_extraction.text import TfidfVectorizer\n",
    "from sklearn.model_selection import KFold\n",
    "from sklearn.model_selection import train_test_split\n",
    "from sklearn.model_selection import GridSearchCV\n",
    "from sklearn.metrics import (classification_report, accuracy_score,\n",
    "                             precision_score, recall_score, f1_score)"
   ]
  },
  {
   "cell_type": "markdown",
   "metadata": {},
   "source": [
    "# Prepare training and test data"
   ]
  },
  {
   "cell_type": "code",
   "execution_count": 3,
   "metadata": {},
   "outputs": [
    {
     "name": "stdout",
     "output_type": "stream",
     "text": [
      "Loading article titles and their labels.\n"
     ]
    }
   ],
   "source": [
    "print(\"Loading article titles and their labels.\")\n",
    "train_articles_df = pd.read_csv('input/train_v2.csv', index_col='article_id')\n",
    "test_articles_df = pd.read_csv('input/test_v2.csv', index_col='article_id')\n",
    "\n",
    "x_train, x_val, y_train, y_val = train_test_split(train_articles_df[\"title\"], train_articles_df[\"category\"],\n",
    "                                                  test_size = 0.2)\n",
    "x_train = np.array(x_train)\n",
    "x_val = np.array(x_val)\n",
    "y_train = np.array(y_train)\n",
    "y_val = np.array(y_val)"
   ]
  },
  {
   "cell_type": "markdown",
   "metadata": {},
   "source": [
    "# Build baseline model"
   ]
  },
  {
   "cell_type": "code",
   "execution_count": 4,
   "metadata": {},
   "outputs": [
    {
     "name": "stdout",
     "output_type": "stream",
     "text": [
      "Constructing TF-IDF matrix for articles.\n",
      "Accuracy on training set 0.7469\n",
      "Accuracy on validation set 0.6501\n"
     ]
    }
   ],
   "source": [
    "print(\"Constructing TF-IDF matrix for articles.\")\n",
    "tfidf_vect_ngram = TfidfVectorizer(analyzer='word', token_pattern=r'\\w{1,}', ngram_range=(1,3), max_features=3500)\n",
    "tfidf_vect_ngram.fit(train_articles_df[\"title\"])\n",
    "train_tfidf_ngram = tfidf_vect_ngram.transform(x_train)\n",
    "val_tfidf_ngram = tfidf_vect_ngram.transform(x_val)\n",
    "base_model = XGBClassifier(max_depth=5, learning_rate=0.1, n_estimators=140).fit(train_tfidf_ngram, y_train)\n",
    "predicts = base_model.predict(train_tfidf_ngram)\n",
    "print(\"Accuracy on training set %s\" %round(accuracy_score(y_train, predicts), 4))\n",
    "predicts = base_model.predict(val_tfidf_ngram)\n",
    "print(\"Accuracy on validation set %s\" %round(accuracy_score(y_val, predicts), 4))"
   ]
  },
  {
   "cell_type": "markdown",
   "metadata": {},
   "source": [
    "# Parameter Tuning\n",
    "### max_depth and min_child_weight"
   ]
  },
  {
   "cell_type": "code",
   "execution_count": 4,
   "metadata": {},
   "outputs": [
    {
     "name": "stdout",
     "output_type": "stream",
     "text": [
      "[0.64570588 0.64383736 0.63740668 0.6486098  0.64798438 0.64342092\n",
      " 0.65213592 0.64881426 0.64425403 0.64819766 0.64529417 0.64072662]\n",
      "[{'max_depth': 3, 'min_child_weight': 1}, {'max_depth': 3, 'min_child_weight': 3}, {'max_depth': 3, 'min_child_weight': 5}, {'max_depth': 5, 'min_child_weight': 1}, {'max_depth': 5, 'min_child_weight': 3}, {'max_depth': 5, 'min_child_weight': 5}, {'max_depth': 7, 'min_child_weight': 1}, {'max_depth': 7, 'min_child_weight': 3}, {'max_depth': 7, 'min_child_weight': 5}, {'max_depth': 9, 'min_child_weight': 1}, {'max_depth': 9, 'min_child_weight': 3}, {'max_depth': 9, 'min_child_weight': 5}]\n",
      "{'max_depth': 7, 'min_child_weight': 1}\n",
      "0.652135918632812\n"
     ]
    }
   ],
   "source": [
    "param_test1 = {\n",
    "    'max_depth': range(3, 10, 2),\n",
    "    'min_child_weight': range(1, 6, 2)\n",
    "}\n",
    "# y_train_bi = label_binarize(y, classes=[0, 1, 2, 3])\n",
    "gsearch1 = GridSearchCV(estimator = XGBClassifier(learning_rate =0.1, n_estimators=140, max_depth=5,\n",
    "                                                  min_child_weight=1, gamma=0, subsample=0.8, \n",
    "                                                  colsample_bytree=0.8, nthread=4, scale_pos_weight=1, seed=27),\n",
    "                        param_grid = param_test1, n_jobs=4, scoring='accuracy', iid=False, cv=5)\n",
    "gsearch1.fit(train_tfidf_ngram, y_train)\n",
    "print(gsearch1.cv_results_['mean_test_score'])\n",
    "print(gsearch1.cv_results_['params'])\n",
    "print(gsearch1.best_params_)\n",
    "print(gsearch1.best_score_)"
   ]
  },
  {
   "cell_type": "code",
   "execution_count": 6,
   "metadata": {},
   "outputs": [
    {
     "name": "stdout",
     "output_type": "stream",
     "text": [
      "[0.64777928 0.64860915 0.64570738 0.64259211 0.64964672 0.65296773\n",
      " 0.6486098  0.64757116 0.65047336 0.6506804  0.65068169 0.64860808\n",
      " 0.64985203 0.65296493 0.65213592 0.65068536 0.6508967  0.6496493\n",
      " 0.64944614 0.65151523]\n",
      "[{'max_depth': 4, 'min_child_weight': 0.1}, {'max_depth': 4, 'min_child_weight': 0.5}, {'max_depth': 4, 'min_child_weight': 1}, {'max_depth': 4, 'min_child_weight': 2}, {'max_depth': 5, 'min_child_weight': 0.1}, {'max_depth': 5, 'min_child_weight': 0.5}, {'max_depth': 5, 'min_child_weight': 1}, {'max_depth': 5, 'min_child_weight': 2}, {'max_depth': 6, 'min_child_weight': 0.1}, {'max_depth': 6, 'min_child_weight': 0.5}, {'max_depth': 6, 'min_child_weight': 1}, {'max_depth': 6, 'min_child_weight': 2}, {'max_depth': 7, 'min_child_weight': 0.1}, {'max_depth': 7, 'min_child_weight': 0.5}, {'max_depth': 7, 'min_child_weight': 1}, {'max_depth': 7, 'min_child_weight': 2}, {'max_depth': 8, 'min_child_weight': 0.1}, {'max_depth': 8, 'min_child_weight': 0.5}, {'max_depth': 8, 'min_child_weight': 1}, {'max_depth': 8, 'min_child_weight': 2}]\n",
      "{'max_depth': 5, 'min_child_weight': 0.5}\n",
      "0.6529677344580704\n",
      "Elapsed time: %s seconds... 1134.9765\n"
     ]
    }
   ],
   "source": [
    "param_test2 = {\n",
    "    'max_depth': [4, 5, 6, 7, 8],\n",
    "    'min_child_weight': [0.1, 0.5, 1, 2]\n",
    "}\n",
    "start_time = time.time()\n",
    "gsearch2 = GridSearchCV(estimator = XGBClassifier(learning_rate =0.1, n_estimators=140, max_depth=5,\n",
    "                                                  min_child_weight=1, gamma=0, subsample=0.8, \n",
    "                                                  colsample_bytree=0.8, nthread=4, scale_pos_weight=1, seed=27),\n",
    "                        param_grid = param_test2, n_jobs=4, scoring='accuracy', iid=False, cv=5)\n",
    "gsearch2.fit(train_tfidf_ngram, y_train)\n",
    "print(gsearch2.cv_results_['mean_test_score'])\n",
    "print(gsearch2.cv_results_['params'])\n",
    "print(gsearch2.best_params_)\n",
    "print(gsearch2.best_score_)\n",
    "print(\"Elapsed time: %s seconds...\", round(time.time() - start_time, 4))"
   ]
  },
  {
   "cell_type": "markdown",
   "metadata": {},
   "source": [
    "### gamma"
   ]
  },
  {
   "cell_type": "code",
   "execution_count": 7,
   "metadata": {},
   "outputs": [
    {
     "name": "stdout",
     "output_type": "stream",
     "text": [
      "[0.6486098  0.65047616 0.64902647 0.64923092 0.64881684]\n",
      "[{'gamma': 0.0}, {'gamma': 0.1}, {'gamma': 0.2}, {'gamma': 0.3}, {'gamma': 0.4}]\n",
      "{'gamma': 0.1}\n",
      "0.6504761649136339\n",
      "Elapsed time: %s seconds... 238.445\n"
     ]
    }
   ],
   "source": [
    "param_test3 = {\n",
    "    'gamma':[i/10.0 for i in range(0,5)]\n",
    "}\n",
    "start_time = time.time()\n",
    "gsearch3 = GridSearchCV(estimator = XGBClassifier(learning_rate =0.1, n_estimators=140, max_depth=5,\n",
    "                                                  min_child_weight=1, gamma=0, subsample=0.8, \n",
    "                                                  colsample_bytree=0.8, nthread=4, scale_pos_weight=1, seed=27),\n",
    "                        param_grid = param_test3, n_jobs=4, scoring='accuracy', iid=False, cv=5)\n",
    "gsearch3.fit(train_tfidf_ngram, y_train)\n",
    "print(gsearch3.cv_results_['mean_test_score'])\n",
    "print(gsearch3.cv_results_['params'])\n",
    "print(gsearch3.best_params_)\n",
    "print(gsearch3.best_score_)\n",
    "print(\"Elapsed time: %s seconds...\", round(time.time() - start_time, 4))"
   ]
  },
  {
   "cell_type": "markdown",
   "metadata": {},
   "source": [
    "### colsample_bytree and subsample"
   ]
  },
  {
   "cell_type": "code",
   "execution_count": 10,
   "metadata": {},
   "outputs": [
    {
     "name": "stdout",
     "output_type": "stream",
     "text": [
      "[0.64944011 0.65026934 0.6521385  0.65359036 0.65005821 0.64861497\n",
      " 0.65068363 0.65192866 0.64529115 0.64653963 0.6486098  0.6486083\n",
      " 0.64632764 0.65171883 0.64943925 0.64860744]\n",
      "[{'colsample_bytree': 0.6, 'subsample': 0.6}, {'colsample_bytree': 0.6, 'subsample': 0.7}, {'colsample_bytree': 0.6, 'subsample': 0.8}, {'colsample_bytree': 0.6, 'subsample': 0.9}, {'colsample_bytree': 0.7, 'subsample': 0.6}, {'colsample_bytree': 0.7, 'subsample': 0.7}, {'colsample_bytree': 0.7, 'subsample': 0.8}, {'colsample_bytree': 0.7, 'subsample': 0.9}, {'colsample_bytree': 0.8, 'subsample': 0.6}, {'colsample_bytree': 0.8, 'subsample': 0.7}, {'colsample_bytree': 0.8, 'subsample': 0.8}, {'colsample_bytree': 0.8, 'subsample': 0.9}, {'colsample_bytree': 0.9, 'subsample': 0.6}, {'colsample_bytree': 0.9, 'subsample': 0.7}, {'colsample_bytree': 0.9, 'subsample': 0.8}, {'colsample_bytree': 0.9, 'subsample': 0.9}]\n",
      "{'colsample_bytree': 0.6, 'subsample': 0.9}\n",
      "0.6535903587725659\n",
      "Elapsed time: %s seconds... 689.6296\n"
     ]
    }
   ],
   "source": [
    "param_test4 = {\n",
    "    'subsample':[i/10.0 for i in range(6, 10)],\n",
    "    'colsample_bytree':[i/10.0 for i in range(6, 10)]\n",
    "}\n",
    "start_time = time.time()\n",
    "gsearch4 = GridSearchCV(estimator = XGBClassifier(learning_rate =0.1, n_estimators=140, max_depth=5,\n",
    "                                                  min_child_weight=1, gamma=0, subsample=0.8, \n",
    "                                                  colsample_bytree=0.8, nthread=4, scale_pos_weight=1, seed=27),\n",
    "                        param_grid = param_test4, n_jobs=4, scoring='accuracy', iid=False, cv=5)\n",
    "gsearch4.fit(train_tfidf_ngram, y_train)\n",
    "print(gsearch4.cv_results_['mean_test_score'])\n",
    "print(gsearch4.cv_results_['params'])\n",
    "print(gsearch4.best_params_)\n",
    "print(gsearch4.best_score_)\n",
    "print(\"Elapsed time: %s seconds...\", round(time.time() - start_time, 4))"
   ]
  },
  {
   "cell_type": "code",
   "execution_count": 11,
   "metadata": {},
   "outputs": [
    {
     "name": "stdout",
     "output_type": "stream",
     "text": [
      "[0.63927799 0.64238508 0.6463326  0.64529115 0.64072985 0.64425424\n",
      " 0.64467133 0.64632764 0.63990126 0.64425833 0.6423868  0.6498516 ]\n",
      "[{'colsample_bytree': 0.8, 'subsample': 0.3}, {'colsample_bytree': 0.8, 'subsample': 0.4}, {'colsample_bytree': 0.8, 'subsample': 0.5}, {'colsample_bytree': 0.8, 'subsample': 0.6}, {'colsample_bytree': 0.9, 'subsample': 0.3}, {'colsample_bytree': 0.9, 'subsample': 0.4}, {'colsample_bytree': 0.9, 'subsample': 0.5}, {'colsample_bytree': 0.9, 'subsample': 0.6}, {'colsample_bytree': 1.0, 'subsample': 0.3}, {'colsample_bytree': 1.0, 'subsample': 0.4}, {'colsample_bytree': 1.0, 'subsample': 0.5}, {'colsample_bytree': 1.0, 'subsample': 0.6}]\n",
      "{'colsample_bytree': 1.0, 'subsample': 0.6}\n",
      "0.6498516002925523\n",
      "Elapsed time: %s seconds... 520.1734\n"
     ]
    }
   ],
   "source": [
    "param_test5 = {\n",
    "    'subsample':[i/10.0 for i in range(3, 7)],\n",
    "    'colsample_bytree':[i/10.0 for i in range(8, 11)]\n",
    "}\n",
    "start_time = time.time()\n",
    "gsearch5 = GridSearchCV(estimator = XGBClassifier(learning_rate =0.1, n_estimators=140, max_depth=5,\n",
    "                                                  min_child_weight=1, gamma=0, subsample=0.8, \n",
    "                                                  colsample_bytree=0.8, nthread=4, scale_pos_weight=1, seed=27),\n",
    "                        param_grid = param_test5, n_jobs=4, scoring='accuracy', iid=False, cv=5)\n",
    "gsearch5.fit(train_tfidf_ngram, y_train)\n",
    "print(gsearch5.cv_results_['mean_test_score'])\n",
    "print(gsearch5.cv_results_['params'])\n",
    "print(gsearch5.best_params_)\n",
    "print(gsearch5.best_score_)\n",
    "print(\"Elapsed time: %s seconds...\", round(time.time() - start_time, 4))"
   ]
  },
  {
   "cell_type": "markdown",
   "metadata": {},
   "source": [
    "### regularization parameter"
   ]
  },
  {
   "cell_type": "code",
   "execution_count": 14,
   "metadata": {},
   "outputs": [
    {
     "name": "stdout",
     "output_type": "stream",
     "text": [
      "[0.6486098  0.64902388 0.65026805 0.64757332 0.48288454]\n",
      "[{'reg_alpha': 1e-05}, {'reg_alpha': 0.01}, {'reg_alpha': 0.1}, {'reg_alpha': 1}, {'reg_alpha': 100}]\n",
      "{'reg_alpha': 0.1}\n",
      "0.6502680470302425\n",
      "Elapsed time: %s seconds... 228.2328\n"
     ]
    }
   ],
   "source": [
    "param_test6 = {\n",
    "    'reg_alpha':[1e-5, 1e-2, 0.1, 1, 100]\n",
    "}\n",
    "start_time = time.time()\n",
    "gsearch6 = GridSearchCV(estimator = XGBClassifier(learning_rate =0.1, n_estimators=140, max_depth=5,\n",
    "                                                  min_child_weight=1, gamma=0, subsample=0.8, \n",
    "                                                  colsample_bytree=0.8, nthread=4, scale_pos_weight=1, seed=27),\n",
    "                        param_grid = param_test6, n_jobs=4, scoring='accuracy', iid=False, cv=5)\n",
    "gsearch6.fit(train_tfidf_ngram, y_train)\n",
    "print(gsearch6.cv_results_['mean_test_score'])\n",
    "print(gsearch6.cv_results_['params'])\n",
    "print(gsearch6.best_params_)\n",
    "print(gsearch6.best_score_)\n",
    "print(\"Elapsed time: %s seconds...\", round(time.time() - start_time, 4))"
   ]
  },
  {
   "cell_type": "code",
   "execution_count": 15,
   "metadata": {},
   "outputs": [
    {
     "name": "stdout",
     "output_type": "stream",
     "text": [
      "[0.6486098  0.64902388 0.6523408  0.65026805 0.6477782 ]\n",
      "[{'reg_alpha': 0}, {'reg_alpha': 0.01}, {'reg_alpha': 0.05}, {'reg_alpha': 0.1}, {'reg_alpha': 0.5}]\n",
      "{'reg_alpha': 0.05}\n",
      "0.6523408022249206\n",
      "Elapsed time: %s seconds... 237.7314\n"
     ]
    }
   ],
   "source": [
    "param_test7 = {\n",
    "    'reg_alpha':[0, 0.01, 0.05, 0.1, 0.5]\n",
    "}\n",
    "start_time = time.time()\n",
    "gsearch7 = GridSearchCV(estimator = XGBClassifier(learning_rate =0.1, n_estimators=140, max_depth=5,\n",
    "                                                  min_child_weight=1, gamma=0, subsample=0.8, \n",
    "                                                  colsample_bytree=0.8, nthread=4, scale_pos_weight=1, seed=27),\n",
    "                        param_grid = param_test7, n_jobs=4, scoring='accuracy', iid=False, cv=5)\n",
    "gsearch7.fit(train_tfidf_ngram, y_train)\n",
    "print(gsearch7.cv_results_['mean_test_score'])\n",
    "print(gsearch7.cv_results_['params'])\n",
    "print(gsearch7.best_params_)\n",
    "print(gsearch7.best_score_)\n",
    "print(\"Elapsed time: %s seconds...\", round(time.time() - start_time, 4))"
   ]
  },
  {
   "cell_type": "markdown",
   "metadata": {},
   "source": [
    "## Apply classifier with tuned parameters"
   ]
  },
  {
   "cell_type": "code",
   "execution_count": 17,
   "metadata": {},
   "outputs": [],
   "source": [
    "## Optimized parameters\n",
    "opt_max_depth = 5\n",
    "opt_min_child_weight = 0.5\n",
    "opt_gamma = 0.1\n",
    "opt_colsample_bytree = 0.6\n",
    "opt_subsample = 0.9\n",
    "opt_reg_alpha = 0.05"
   ]
  },
  {
   "cell_type": "code",
   "execution_count": 20,
   "metadata": {},
   "outputs": [
    {
     "name": "stdout",
     "output_type": "stream",
     "text": [
      "Training accuracy: 0.7586\n",
      "Validation accuracy: 0.6609\n",
      "Elapsed time: %s seconds... 2.3341\n"
     ]
    }
   ],
   "source": [
    "start_time = time.time()\n",
    "model2 = XGBClassifier(learning_rate=0.1, n_estimators=140, max_depth=opt_max_depth, \n",
    "                       min_child_weight=opt_min_child_weight, gamma=opt_gamma, subsample=opt_subsample,\n",
    "                       colsample_bytree=opt_colsample_bytree, reg_alpha=opt_reg_alpha,\n",
    "                       nthread=4, scale_pos_weight=1, seed=27).fit(train_tfidf_ngram, y_train)\n",
    "predicts = model2.predict(train_tfidf_ngram)\n",
    "print(\"Training accuracy: %s\" %round(accuracy_score(y_train, predicts), 4))\n",
    "predicts = model2.predict(val_tfidf_ngram)\n",
    "print(\"Validation accuracy: %s\" %round(accuracy_score(y_val, predicts), 4))\n",
    "print(\"Elapsed time: %s seconds...\", round(time.time() - start_time, 4))"
   ]
  },
  {
   "cell_type": "markdown",
   "metadata": {},
   "source": [
    "## Predict on test dataset"
   ]
  },
  {
   "cell_type": "code",
   "execution_count": 23,
   "metadata": {},
   "outputs": [
    {
     "name": "stdout",
     "output_type": "stream",
     "text": [
      "Training accuracy: 0.7445\n",
      "[4 4 4 ... 1 4 0]\n",
      "Elapsed time: %s seconds... 2.5442\n"
     ]
    }
   ],
   "source": [
    "train_tfidf_ngram = tfidf_vect_ngram.transform(train_articles_df[\"title\"])\n",
    "test_tfidf_ngram = tfidf_vect_ngram.transform(test_articles_df[\"title\"])\n",
    "start_time = time.time()\n",
    "model3 = XGBClassifier(learning_rate=0.1, n_estimators=140, max_depth=opt_max_depth, \n",
    "                       min_child_weight=opt_min_child_weight, gamma=opt_gamma, subsample=opt_subsample,\n",
    "                       colsample_bytree=opt_colsample_bytree, reg_alpha=opt_reg_alpha,\n",
    "                       nthread=4, scale_pos_weight=1, seed=27).fit(train_tfidf_ngram, train_articles_df[\"category\"])\n",
    "predicts = model3.predict(train_tfidf_ngram)\n",
    "print(\"Training accuracy: %s\" %round(accuracy_score(train_articles_df[\"category\"], predicts), 4))\n",
    "test_predicts = model3.predict(test_tfidf_ngram)\n",
    "print(test_predicts)\n",
    "print(\"Elapsed time: %s seconds...\", round(time.time() - start_time, 4))"
   ]
  },
  {
   "cell_type": "code",
   "execution_count": 24,
   "metadata": {},
   "outputs": [
    {
     "data": {
      "text/plain": [
       "array([ 655,  207,  765,  259, 1940])"
      ]
     },
     "execution_count": 24,
     "metadata": {},
     "output_type": "execute_result"
    }
   ],
   "source": [
    "np.bincount(test_predicts)"
   ]
  },
  {
   "cell_type": "code",
   "execution_count": 28,
   "metadata": {},
   "outputs": [
    {
     "data": {
      "text/html": [
       "<div>\n",
       "<style scoped>\n",
       "    .dataframe tbody tr th:only-of-type {\n",
       "        vertical-align: middle;\n",
       "    }\n",
       "\n",
       "    .dataframe tbody tr th {\n",
       "        vertical-align: top;\n",
       "    }\n",
       "\n",
       "    .dataframe thead th {\n",
       "        text-align: right;\n",
       "    }\n",
       "</style>\n",
       "<table border=\"1\" class=\"dataframe\">\n",
       "  <thead>\n",
       "    <tr style=\"text-align: right;\">\n",
       "      <th></th>\n",
       "      <th>0</th>\n",
       "      <th>1</th>\n",
       "      <th>2</th>\n",
       "      <th>3</th>\n",
       "      <th>4</th>\n",
       "    </tr>\n",
       "    <tr>\n",
       "      <th>article_id</th>\n",
       "      <th></th>\n",
       "      <th></th>\n",
       "      <th></th>\n",
       "      <th></th>\n",
       "      <th></th>\n",
       "    </tr>\n",
       "  </thead>\n",
       "  <tbody>\n",
       "    <tr>\n",
       "      <th>1</th>\n",
       "      <td>0.253800</td>\n",
       "      <td>0.039501</td>\n",
       "      <td>0.213675</td>\n",
       "      <td>0.022572</td>\n",
       "      <td>0.470451</td>\n",
       "    </tr>\n",
       "    <tr>\n",
       "      <th>2</th>\n",
       "      <td>0.129405</td>\n",
       "      <td>0.037981</td>\n",
       "      <td>0.246888</td>\n",
       "      <td>0.034831</td>\n",
       "      <td>0.550896</td>\n",
       "    </tr>\n",
       "    <tr>\n",
       "      <th>3</th>\n",
       "      <td>0.078194</td>\n",
       "      <td>0.159028</td>\n",
       "      <td>0.268225</td>\n",
       "      <td>0.060864</td>\n",
       "      <td>0.433688</td>\n",
       "    </tr>\n",
       "    <tr>\n",
       "      <th>4</th>\n",
       "      <td>0.072881</td>\n",
       "      <td>0.113535</td>\n",
       "      <td>0.233527</td>\n",
       "      <td>0.047538</td>\n",
       "      <td>0.532519</td>\n",
       "    </tr>\n",
       "    <tr>\n",
       "      <th>5</th>\n",
       "      <td>0.077134</td>\n",
       "      <td>0.044515</td>\n",
       "      <td>0.247796</td>\n",
       "      <td>0.060040</td>\n",
       "      <td>0.570515</td>\n",
       "    </tr>\n",
       "  </tbody>\n",
       "</table>\n",
       "</div>"
      ],
      "text/plain": [
       "                   0         1         2         3         4\n",
       "article_id                                                  \n",
       "1           0.253800  0.039501  0.213675  0.022572  0.470451\n",
       "2           0.129405  0.037981  0.246888  0.034831  0.550896\n",
       "3           0.078194  0.159028  0.268225  0.060864  0.433688\n",
       "4           0.072881  0.113535  0.233527  0.047538  0.532519\n",
       "5           0.077134  0.044515  0.247796  0.060040  0.570515"
      ]
     },
     "execution_count": 28,
     "metadata": {},
     "output_type": "execute_result"
    }
   ],
   "source": [
    "prob_predicts = model3.predict_proba(test_tfidf_ngram)\n",
    "prob_predicts_df = pd.DataFrame(data=prob_predicts, index=test_articles_df.index)\n",
    "prob_predicts_df.to_csv('../predictions/title_prediction.csv')\n",
    "prob_predicts_df.head()"
   ]
  },
  {
   "cell_type": "code",
   "execution_count": null,
   "metadata": {},
   "outputs": [],
   "source": []
  }
 ],
 "metadata": {
  "kernelspec": {
   "display_name": "Python 3",
   "language": "python",
   "name": "python3"
  },
  "language_info": {
   "codemirror_mode": {
    "name": "ipython",
    "version": 3
   },
   "file_extension": ".py",
   "mimetype": "text/x-python",
   "name": "python",
   "nbconvert_exporter": "python",
   "pygments_lexer": "ipython3",
   "version": "3.7.0"
  }
 },
 "nbformat": 4,
 "nbformat_minor": 2
}
