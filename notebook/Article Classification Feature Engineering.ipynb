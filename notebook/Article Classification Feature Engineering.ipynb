{
 "cells": [
  {
   "cell_type": "code",
   "execution_count": 59,
   "metadata": {},
   "outputs": [],
   "source": [
    "import pandas as pd\n",
    "import numpy as np\n",
    "import seaborn as sns\n",
    "import matplotlib.pyplot as plt\n",
    "import xgboost as xgb\n",
    "from sklearn.ensemble import RandomForestClassifier\n",
    "from sklearn.model_selection import KFold\n",
    "from sklearn.metrics import (classification_report, precision_score, recall_score, f1_score, \n",
    "                             accuracy_score, confusion_matrix)"
   ]
  },
  {
   "cell_type": "markdown",
   "metadata": {},
   "source": [
    "# Chapter I - Data Acquisition"
   ]
  },
  {
   "cell_type": "code",
   "execution_count": 13,
   "metadata": {},
   "outputs": [
    {
     "data": {
      "text/html": [
       "<div>\n",
       "<style scoped>\n",
       "    .dataframe tbody tr th:only-of-type {\n",
       "        vertical-align: middle;\n",
       "    }\n",
       "\n",
       "    .dataframe tbody tr th {\n",
       "        vertical-align: top;\n",
       "    }\n",
       "\n",
       "    .dataframe thead th {\n",
       "        text-align: right;\n",
       "    }\n",
       "</style>\n",
       "<table border=\"1\" class=\"dataframe\">\n",
       "  <thead>\n",
       "    <tr style=\"text-align: right;\">\n",
       "      <th></th>\n",
       "      <th>title</th>\n",
       "      <th>url</th>\n",
       "      <th>publisher</th>\n",
       "      <th>hostname</th>\n",
       "      <th>timestamp</th>\n",
       "      <th>category</th>\n",
       "    </tr>\n",
       "    <tr>\n",
       "      <th>article_id</th>\n",
       "      <th></th>\n",
       "      <th></th>\n",
       "      <th></th>\n",
       "      <th></th>\n",
       "      <th></th>\n",
       "      <th></th>\n",
       "    </tr>\n",
       "  </thead>\n",
       "  <tbody>\n",
       "    <tr>\n",
       "      <th>1</th>\n",
       "      <td>Forex - Pound drops to one-month lows against ...</td>\n",
       "      <td>http://www.nasdaq.com/article/forex-pound-drop...</td>\n",
       "      <td>NASDAQ</td>\n",
       "      <td>www.nasdaq.com</td>\n",
       "      <td>1.390000e+12</td>\n",
       "      <td>4</td>\n",
       "    </tr>\n",
       "    <tr>\n",
       "      <th>2</th>\n",
       "      <td>Hertz to Exit Equipment Rental Business in $2....</td>\n",
       "      <td>http://www.foxbusiness.com/industries/2014/03/...</td>\n",
       "      <td>Fox Business</td>\n",
       "      <td>www.foxbusiness.com</td>\n",
       "      <td>1.400000e+12</td>\n",
       "      <td>2</td>\n",
       "    </tr>\n",
       "    <tr>\n",
       "      <th>3</th>\n",
       "      <td>Gold ETF inflows return</td>\n",
       "      <td>http://www.resourceinvestor.com/2014/03/09/gol...</td>\n",
       "      <td>Resource Investor</td>\n",
       "      <td>www.resourceinvestor.com</td>\n",
       "      <td>1.390000e+12</td>\n",
       "      <td>4</td>\n",
       "    </tr>\n",
       "    <tr>\n",
       "      <th>4</th>\n",
       "      <td>Hackers call Mt. Gox CEO a liar, say he still ...</td>\n",
       "      <td>http://bgr.com/2014/03/10/mt-gox-fraud-accusat...</td>\n",
       "      <td>BGR</td>\n",
       "      <td>bgr.com</td>\n",
       "      <td>1.390000e+12</td>\n",
       "      <td>4</td>\n",
       "    </tr>\n",
       "    <tr>\n",
       "      <th>5</th>\n",
       "      <td>Gold Climbs To Near 6-Month High On Concerns A...</td>\n",
       "      <td>http://www.forbes.com/sites/kitconews/2014/03/...</td>\n",
       "      <td>Forbes</td>\n",
       "      <td>www.forbes.com</td>\n",
       "      <td>1.390000e+12</td>\n",
       "      <td>4</td>\n",
       "    </tr>\n",
       "  </tbody>\n",
       "</table>\n",
       "</div>"
      ],
      "text/plain": [
       "                                                        title  \\\n",
       "article_id                                                      \n",
       "1           Forex - Pound drops to one-month lows against ...   \n",
       "2           Hertz to Exit Equipment Rental Business in $2....   \n",
       "3                                     Gold ETF inflows return   \n",
       "4           Hackers call Mt. Gox CEO a liar, say he still ...   \n",
       "5           Gold Climbs To Near 6-Month High On Concerns A...   \n",
       "\n",
       "                                                          url  \\\n",
       "article_id                                                      \n",
       "1           http://www.nasdaq.com/article/forex-pound-drop...   \n",
       "2           http://www.foxbusiness.com/industries/2014/03/...   \n",
       "3           http://www.resourceinvestor.com/2014/03/09/gol...   \n",
       "4           http://bgr.com/2014/03/10/mt-gox-fraud-accusat...   \n",
       "5           http://www.forbes.com/sites/kitconews/2014/03/...   \n",
       "\n",
       "                    publisher                  hostname     timestamp  \\\n",
       "article_id                                                              \n",
       "1                      NASDAQ            www.nasdaq.com  1.390000e+12   \n",
       "2                Fox Business       www.foxbusiness.com  1.400000e+12   \n",
       "3           Resource Investor  www.resourceinvestor.com  1.390000e+12   \n",
       "4                         BGR                   bgr.com  1.390000e+12   \n",
       "5                      Forbes            www.forbes.com  1.390000e+12   \n",
       "\n",
       "            category  \n",
       "article_id            \n",
       "1                  4  \n",
       "2                  2  \n",
       "3                  4  \n",
       "4                  4  \n",
       "5                  4  "
      ]
     },
     "execution_count": 13,
     "metadata": {},
     "output_type": "execute_result"
    }
   ],
   "source": [
    "articles_info_df = pd.read_csv('input/train_v2.csv', index_col='article_id')\n",
    "articles_info_df.head()"
   ]
  },
  {
   "cell_type": "markdown",
   "metadata": {},
   "source": [
    "Distribution of different publishers"
   ]
  },
  {
   "cell_type": "code",
   "execution_count": 5,
   "metadata": {},
   "outputs": [
    {
     "data": {
      "text/html": [
       "<div>\n",
       "<style scoped>\n",
       "    .dataframe tbody tr th:only-of-type {\n",
       "        vertical-align: middle;\n",
       "    }\n",
       "\n",
       "    .dataframe tbody tr th {\n",
       "        vertical-align: top;\n",
       "    }\n",
       "\n",
       "    .dataframe thead th {\n",
       "        text-align: right;\n",
       "    }\n",
       "</style>\n",
       "<table border=\"1\" class=\"dataframe\">\n",
       "  <thead>\n",
       "    <tr style=\"text-align: right;\">\n",
       "      <th></th>\n",
       "      <th>publisher</th>\n",
       "      <th>count</th>\n",
       "    </tr>\n",
       "  </thead>\n",
       "  <tbody>\n",
       "    <tr>\n",
       "      <th>956</th>\n",
       "      <td>Reuters</td>\n",
       "      <td>167</td>\n",
       "    </tr>\n",
       "    <tr>\n",
       "      <th>158</th>\n",
       "      <td>Businessweek</td>\n",
       "      <td>99</td>\n",
       "    </tr>\n",
       "    <tr>\n",
       "      <th>778</th>\n",
       "      <td>NASDAQ</td>\n",
       "      <td>95</td>\n",
       "    </tr>\n",
       "    <tr>\n",
       "      <th>443</th>\n",
       "      <td>GlobalPost</td>\n",
       "      <td>73</td>\n",
       "    </tr>\n",
       "    <tr>\n",
       "      <th>992</th>\n",
       "      <td>San Francisco Chronicle</td>\n",
       "      <td>71</td>\n",
       "    </tr>\n",
       "  </tbody>\n",
       "</table>\n",
       "</div>"
      ],
      "text/plain": [
       "                   publisher  count\n",
       "956                  Reuters    167\n",
       "158             Businessweek     99\n",
       "778                   NASDAQ     95\n",
       "443               GlobalPost     73\n",
       "992  San Francisco Chronicle     71"
      ]
     },
     "execution_count": 5,
     "metadata": {},
     "output_type": "execute_result"
    }
   ],
   "source": [
    "publisher_counts = articles_info_df.groupby('publisher').size().reset_index(name='count').sort_values(['count'], ascending=False)\n",
    "publisher_counts.head()"
   ]
  },
  {
   "cell_type": "code",
   "execution_count": 6,
   "metadata": {},
   "outputs": [
    {
     "data": {
      "text/plain": [
       "1502"
      ]
     },
     "execution_count": 6,
     "metadata": {},
     "output_type": "execute_result"
    }
   ],
   "source": [
    "len(articles_info_df['publisher'].unique())"
   ]
  },
  {
   "cell_type": "markdown",
   "metadata": {},
   "source": [
    "# Chapter II - Exploratory Analysis"
   ]
  },
  {
   "cell_type": "markdown",
   "metadata": {},
   "source": [
    "### 1. Sentiment feature"
   ]
  },
  {
   "cell_type": "code",
   "execution_count": 14,
   "metadata": {},
   "outputs": [
    {
     "data": {
      "text/html": [
       "<div>\n",
       "<style scoped>\n",
       "    .dataframe tbody tr th:only-of-type {\n",
       "        vertical-align: middle;\n",
       "    }\n",
       "\n",
       "    .dataframe tbody tr th {\n",
       "        vertical-align: top;\n",
       "    }\n",
       "\n",
       "    .dataframe thead th {\n",
       "        text-align: right;\n",
       "    }\n",
       "</style>\n",
       "<table border=\"1\" class=\"dataframe\">\n",
       "  <thead>\n",
       "    <tr style=\"text-align: right;\">\n",
       "      <th></th>\n",
       "      <th>compound</th>\n",
       "      <th>neg</th>\n",
       "      <th>neu</th>\n",
       "      <th>pos</th>\n",
       "    </tr>\n",
       "    <tr>\n",
       "      <th>article_id</th>\n",
       "      <th></th>\n",
       "      <th></th>\n",
       "      <th></th>\n",
       "      <th></th>\n",
       "    </tr>\n",
       "  </thead>\n",
       "  <tbody>\n",
       "    <tr>\n",
       "      <th>1</th>\n",
       "      <td>0.9081</td>\n",
       "      <td>0.078</td>\n",
       "      <td>0.764</td>\n",
       "      <td>0.157</td>\n",
       "    </tr>\n",
       "    <tr>\n",
       "      <th>2</th>\n",
       "      <td>0.9860</td>\n",
       "      <td>0.033</td>\n",
       "      <td>0.810</td>\n",
       "      <td>0.157</td>\n",
       "    </tr>\n",
       "    <tr>\n",
       "      <th>3</th>\n",
       "      <td>0.9985</td>\n",
       "      <td>0.108</td>\n",
       "      <td>0.749</td>\n",
       "      <td>0.144</td>\n",
       "    </tr>\n",
       "    <tr>\n",
       "      <th>4</th>\n",
       "      <td>-0.9524</td>\n",
       "      <td>0.143</td>\n",
       "      <td>0.784</td>\n",
       "      <td>0.073</td>\n",
       "    </tr>\n",
       "    <tr>\n",
       "      <th>5</th>\n",
       "      <td>-0.0771</td>\n",
       "      <td>0.113</td>\n",
       "      <td>0.779</td>\n",
       "      <td>0.107</td>\n",
       "    </tr>\n",
       "  </tbody>\n",
       "</table>\n",
       "</div>"
      ],
      "text/plain": [
       "            compound    neg    neu    pos\n",
       "article_id                               \n",
       "1             0.9081  0.078  0.764  0.157\n",
       "2             0.9860  0.033  0.810  0.157\n",
       "3             0.9985  0.108  0.749  0.144\n",
       "4            -0.9524  0.143  0.784  0.073\n",
       "5            -0.0771  0.113  0.779  0.107"
      ]
     },
     "execution_count": 14,
     "metadata": {},
     "output_type": "execute_result"
    }
   ],
   "source": [
    "sentiment_df = pd.read_csv('../features/sentiment.csv', index_col='article_id')\n",
    "sentiment_df.head()"
   ]
  },
  {
   "cell_type": "code",
   "execution_count": 21,
   "metadata": {},
   "outputs": [
    {
     "data": {
      "text/html": [
       "<div>\n",
       "<style scoped>\n",
       "    .dataframe tbody tr th:only-of-type {\n",
       "        vertical-align: middle;\n",
       "    }\n",
       "\n",
       "    .dataframe tbody tr th {\n",
       "        vertical-align: top;\n",
       "    }\n",
       "\n",
       "    .dataframe thead th {\n",
       "        text-align: right;\n",
       "    }\n",
       "</style>\n",
       "<table border=\"1\" class=\"dataframe\">\n",
       "  <thead>\n",
       "    <tr style=\"text-align: right;\">\n",
       "      <th></th>\n",
       "      <th>compound</th>\n",
       "      <th>neg</th>\n",
       "      <th>neu</th>\n",
       "      <th>pos</th>\n",
       "      <th>category</th>\n",
       "    </tr>\n",
       "    <tr>\n",
       "      <th>article_id</th>\n",
       "      <th></th>\n",
       "      <th></th>\n",
       "      <th></th>\n",
       "      <th></th>\n",
       "      <th></th>\n",
       "    </tr>\n",
       "  </thead>\n",
       "  <tbody>\n",
       "    <tr>\n",
       "      <th>1</th>\n",
       "      <td>0.9081</td>\n",
       "      <td>0.078</td>\n",
       "      <td>0.764</td>\n",
       "      <td>0.157</td>\n",
       "      <td>4</td>\n",
       "    </tr>\n",
       "    <tr>\n",
       "      <th>2</th>\n",
       "      <td>0.9860</td>\n",
       "      <td>0.033</td>\n",
       "      <td>0.810</td>\n",
       "      <td>0.157</td>\n",
       "      <td>2</td>\n",
       "    </tr>\n",
       "    <tr>\n",
       "      <th>3</th>\n",
       "      <td>0.9985</td>\n",
       "      <td>0.108</td>\n",
       "      <td>0.749</td>\n",
       "      <td>0.144</td>\n",
       "      <td>4</td>\n",
       "    </tr>\n",
       "    <tr>\n",
       "      <th>4</th>\n",
       "      <td>-0.9524</td>\n",
       "      <td>0.143</td>\n",
       "      <td>0.784</td>\n",
       "      <td>0.073</td>\n",
       "      <td>4</td>\n",
       "    </tr>\n",
       "    <tr>\n",
       "      <th>5</th>\n",
       "      <td>-0.0771</td>\n",
       "      <td>0.113</td>\n",
       "      <td>0.779</td>\n",
       "      <td>0.107</td>\n",
       "      <td>4</td>\n",
       "    </tr>\n",
       "  </tbody>\n",
       "</table>\n",
       "</div>"
      ],
      "text/plain": [
       "            compound    neg    neu    pos  category\n",
       "article_id                                         \n",
       "1             0.9081  0.078  0.764  0.157         4\n",
       "2             0.9860  0.033  0.810  0.157         2\n",
       "3             0.9985  0.108  0.749  0.144         4\n",
       "4            -0.9524  0.143  0.784  0.073         4\n",
       "5            -0.0771  0.113  0.779  0.107         4"
      ]
     },
     "execution_count": 21,
     "metadata": {},
     "output_type": "execute_result"
    }
   ],
   "source": [
    "category_df = pd.DataFrame(articles_info_df['category'])\n",
    "sentiment_category_df = pd.merge(sentiment_df, category_df, left_index=True, right_index=True)\n",
    "sentiment_category_df.head()"
   ]
  },
  {
   "cell_type": "code",
   "execution_count": 25,
   "metadata": {},
   "outputs": [
    {
     "data": {
      "text/plain": [
       "<matplotlib.axes._subplots.AxesSubplot at 0x7f9697ec1c50>"
      ]
     },
     "execution_count": 25,
     "metadata": {},
     "output_type": "execute_result"
    },
    {
     "data": {
      "image/png": "[encoded data removed]",
      "text/plain": [
       "<Figure size 1152x720 with 4 Axes>"
      ]
     },
     "metadata": {},
     "output_type": "display_data"
    }
   ],
   "source": [
    "fig, axes = plt.subplots(2, 2, figsize=(16, 10))\n",
    "sns.boxplot(x=\"category\", y=\"neg\", data=sentiment_category_df, ax=axes[0, 0])\n",
    "sns.boxplot(x=\"category\", y=\"neu\", data=sentiment_category_df, ax=axes[0, 1])\n",
    "sns.boxplot(x=\"category\", y=\"pos\", data=sentiment_category_df, ax=axes[1, 0])\n",
    "sns.boxplot(x=\"category\", y=\"compound\", data=sentiment_category_df, ax=axes[1, 1])"
   ]
  },
  {
   "cell_type": "markdown",
   "metadata": {},
   "source": [
    "### 2. Part-of-speech features"
   ]
  },
  {
   "cell_type": "code",
   "execution_count": 30,
   "metadata": {},
   "outputs": [],
   "source": [
    "def std_norm(df, original_col, normalised_col):\n",
    "    c = df[original_col]\n",
    "    df[normalised_col] = (c - c.mean())/c.std()"
   ]
  },
  {
   "cell_type": "code",
   "execution_count": 34,
   "metadata": {},
   "outputs": [
    {
     "data": {
      "text/html": [
       "<div>\n",
       "<style scoped>\n",
       "    .dataframe tbody tr th:only-of-type {\n",
       "        vertical-align: middle;\n",
       "    }\n",
       "\n",
       "    .dataframe tbody tr th {\n",
       "        vertical-align: top;\n",
       "    }\n",
       "\n",
       "    .dataframe thead th {\n",
       "        text-align: right;\n",
       "    }\n",
       "</style>\n",
       "<table border=\"1\" class=\"dataframe\">\n",
       "  <thead>\n",
       "    <tr style=\"text-align: right;\">\n",
       "      <th></th>\n",
       "      <th>norm_char_count</th>\n",
       "      <th>norm_word_count</th>\n",
       "      <th>norm_paragraph_count</th>\n",
       "      <th>noun_density</th>\n",
       "      <th>verb_density</th>\n",
       "      <th>adj_density</th>\n",
       "      <th>category</th>\n",
       "    </tr>\n",
       "    <tr>\n",
       "      <th>article_id</th>\n",
       "      <th></th>\n",
       "      <th></th>\n",
       "      <th></th>\n",
       "      <th></th>\n",
       "      <th></th>\n",
       "      <th></th>\n",
       "      <th></th>\n",
       "    </tr>\n",
       "  </thead>\n",
       "  <tbody>\n",
       "    <tr>\n",
       "      <th>1</th>\n",
       "      <td>-0.373393</td>\n",
       "      <td>-0.381154</td>\n",
       "      <td>-0.182438</td>\n",
       "      <td>0.430657</td>\n",
       "      <td>0.204380</td>\n",
       "      <td>0.248175</td>\n",
       "      <td>4</td>\n",
       "    </tr>\n",
       "    <tr>\n",
       "      <th>10</th>\n",
       "      <td>-0.307558</td>\n",
       "      <td>-0.316840</td>\n",
       "      <td>-0.004006</td>\n",
       "      <td>0.477707</td>\n",
       "      <td>0.248408</td>\n",
       "      <td>0.140127</td>\n",
       "      <td>2</td>\n",
       "    </tr>\n",
       "    <tr>\n",
       "      <th>100</th>\n",
       "      <td>0.080624</td>\n",
       "      <td>0.046532</td>\n",
       "      <td>-0.628520</td>\n",
       "      <td>0.496296</td>\n",
       "      <td>0.259259</td>\n",
       "      <td>0.140741</td>\n",
       "      <td>3</td>\n",
       "    </tr>\n",
       "    <tr>\n",
       "      <th>1003</th>\n",
       "      <td>-0.308045</td>\n",
       "      <td>-0.329703</td>\n",
       "      <td>-0.360871</td>\n",
       "      <td>0.424837</td>\n",
       "      <td>0.209150</td>\n",
       "      <td>0.222222</td>\n",
       "      <td>2</td>\n",
       "    </tr>\n",
       "    <tr>\n",
       "      <th>1004</th>\n",
       "      <td>-0.203685</td>\n",
       "      <td>-0.220370</td>\n",
       "      <td>-0.896170</td>\n",
       "      <td>0.502674</td>\n",
       "      <td>0.197861</td>\n",
       "      <td>0.139037</td>\n",
       "      <td>4</td>\n",
       "    </tr>\n",
       "  </tbody>\n",
       "</table>\n",
       "</div>"
      ],
      "text/plain": [
       "            norm_char_count  norm_word_count  norm_paragraph_count  \\\n",
       "article_id                                                           \n",
       "1                 -0.373393        -0.381154             -0.182438   \n",
       "10                -0.307558        -0.316840             -0.004006   \n",
       "100                0.080624         0.046532             -0.628520   \n",
       "1003              -0.308045        -0.329703             -0.360871   \n",
       "1004              -0.203685        -0.220370             -0.896170   \n",
       "\n",
       "            noun_density  verb_density  adj_density  category  \n",
       "article_id                                                     \n",
       "1               0.430657      0.204380     0.248175         4  \n",
       "10              0.477707      0.248408     0.140127         2  \n",
       "100             0.496296      0.259259     0.140741         3  \n",
       "1003            0.424837      0.209150     0.222222         2  \n",
       "1004            0.502674      0.197861     0.139037         4  "
      ]
     },
     "execution_count": 34,
     "metadata": {},
     "output_type": "execute_result"
    }
   ],
   "source": [
    "part_of_speech_df = pd.read_csv('../features/part_of_speech.csv', index_col='article_id')\n",
    "part_of_speech_category_df = pd.merge(part_of_speech_df, category_df, left_index=True, right_index=True)\n",
    "part_of_speech_category_df['noun_density'] = part_of_speech_category_df['noun_count'] / part_of_speech_category_df['word_count']\n",
    "part_of_speech_category_df['verb_density'] = part_of_speech_category_df['verb_count'] / part_of_speech_category_df['word_count']\n",
    "part_of_speech_category_df['adj_density'] = part_of_speech_category_df['adj_count'] / part_of_speech_category_df['word_count']\n",
    "std_norm(part_of_speech_category_df, 'char_count', 'norm_char_count')\n",
    "std_norm(part_of_speech_category_df, 'word_count', 'norm_word_count')\n",
    "std_norm(part_of_speech_category_df, 'paragraph_count', 'norm_paragraph_count')\n",
    "part_of_speech_category_df = part_of_speech_category_df[['norm_char_count', 'norm_word_count',\n",
    "                                                         'norm_paragraph_count', 'noun_density', 'verb_density',\n",
    "                                                         'adj_density', 'category']]\n",
    "part_of_speech_category_df.head()"
   ]
  },
  {
   "cell_type": "code",
   "execution_count": 36,
   "metadata": {},
   "outputs": [
    {
     "data": {
      "text/plain": [
       "<matplotlib.axes._subplots.AxesSubplot at 0x7f9693577710>"
      ]
     },
     "execution_count": 36,
     "metadata": {},
     "output_type": "execute_result"
    },
    {
     "data": {
      "image/png": "[encoded data removed]",
      "text/plain": [
       "<Figure size 1152x720 with 6 Axes>"
      ]
     },
     "metadata": {},
     "output_type": "display_data"
    }
   ],
   "source": [
    "fig, axes = plt.subplots(2, 3, figsize=(16, 10))\n",
    "sns.boxplot(x=\"category\", y=\"norm_char_count\", data=part_of_speech_category_df, ax=axes[0, 0])\n",
    "sns.boxplot(x=\"category\", y=\"norm_word_count\", data=part_of_speech_category_df, ax=axes[0, 1])\n",
    "sns.boxplot(x=\"category\", y=\"norm_paragraph_count\", data=part_of_speech_category_df, ax=axes[0, 2])\n",
    "sns.boxplot(x=\"category\", y=\"noun_density\", data=part_of_speech_category_df, ax=axes[1, 0])\n",
    "sns.boxplot(x=\"category\", y=\"verb_density\", data=part_of_speech_category_df, ax=axes[1, 1])\n",
    "sns.boxplot(x=\"category\", y=\"adj_density\", data=part_of_speech_category_df, ax=axes[1, 2])"
   ]
  },
  {
   "cell_type": "markdown",
   "metadata": {},
   "source": [
    "### Combine engineered features\n",
    "Selected sentiment and part-of-speech features are combined. Random forest model is trained for feature selection."
   ]
  },
  {
   "cell_type": "code",
   "execution_count": 38,
   "metadata": {},
   "outputs": [
    {
     "data": {
      "text/html": [
       "<div>\n",
       "<style scoped>\n",
       "    .dataframe tbody tr th:only-of-type {\n",
       "        vertical-align: middle;\n",
       "    }\n",
       "\n",
       "    .dataframe tbody tr th {\n",
       "        vertical-align: top;\n",
       "    }\n",
       "\n",
       "    .dataframe thead th {\n",
       "        text-align: right;\n",
       "    }\n",
       "</style>\n",
       "<table border=\"1\" class=\"dataframe\">\n",
       "  <thead>\n",
       "    <tr style=\"text-align: right;\">\n",
       "      <th></th>\n",
       "      <th>norm_char_count</th>\n",
       "      <th>norm_word_count</th>\n",
       "      <th>norm_paragraph_count</th>\n",
       "      <th>noun_density</th>\n",
       "      <th>verb_density</th>\n",
       "      <th>adj_density</th>\n",
       "      <th>category</th>\n",
       "      <th>compound</th>\n",
       "    </tr>\n",
       "    <tr>\n",
       "      <th>article_id</th>\n",
       "      <th></th>\n",
       "      <th></th>\n",
       "      <th></th>\n",
       "      <th></th>\n",
       "      <th></th>\n",
       "      <th></th>\n",
       "      <th></th>\n",
       "      <th></th>\n",
       "    </tr>\n",
       "  </thead>\n",
       "  <tbody>\n",
       "    <tr>\n",
       "      <th>1</th>\n",
       "      <td>-0.373393</td>\n",
       "      <td>-0.381154</td>\n",
       "      <td>-0.182438</td>\n",
       "      <td>0.430657</td>\n",
       "      <td>0.204380</td>\n",
       "      <td>0.248175</td>\n",
       "      <td>4</td>\n",
       "      <td>0.9081</td>\n",
       "    </tr>\n",
       "    <tr>\n",
       "      <th>10</th>\n",
       "      <td>-0.307558</td>\n",
       "      <td>-0.316840</td>\n",
       "      <td>-0.004006</td>\n",
       "      <td>0.477707</td>\n",
       "      <td>0.248408</td>\n",
       "      <td>0.140127</td>\n",
       "      <td>2</td>\n",
       "      <td>-0.6808</td>\n",
       "    </tr>\n",
       "    <tr>\n",
       "      <th>100</th>\n",
       "      <td>0.080624</td>\n",
       "      <td>0.046532</td>\n",
       "      <td>-0.628520</td>\n",
       "      <td>0.496296</td>\n",
       "      <td>0.259259</td>\n",
       "      <td>0.140741</td>\n",
       "      <td>3</td>\n",
       "      <td>0.9879</td>\n",
       "    </tr>\n",
       "    <tr>\n",
       "      <th>1003</th>\n",
       "      <td>-0.308045</td>\n",
       "      <td>-0.329703</td>\n",
       "      <td>-0.360871</td>\n",
       "      <td>0.424837</td>\n",
       "      <td>0.209150</td>\n",
       "      <td>0.222222</td>\n",
       "      <td>2</td>\n",
       "      <td>0.9325</td>\n",
       "    </tr>\n",
       "    <tr>\n",
       "      <th>1004</th>\n",
       "      <td>-0.203685</td>\n",
       "      <td>-0.220370</td>\n",
       "      <td>-0.896170</td>\n",
       "      <td>0.502674</td>\n",
       "      <td>0.197861</td>\n",
       "      <td>0.139037</td>\n",
       "      <td>4</td>\n",
       "      <td>0.9821</td>\n",
       "    </tr>\n",
       "  </tbody>\n",
       "</table>\n",
       "</div>"
      ],
      "text/plain": [
       "            norm_char_count  norm_word_count  norm_paragraph_count  \\\n",
       "article_id                                                           \n",
       "1                 -0.373393        -0.381154             -0.182438   \n",
       "10                -0.307558        -0.316840             -0.004006   \n",
       "100                0.080624         0.046532             -0.628520   \n",
       "1003              -0.308045        -0.329703             -0.360871   \n",
       "1004              -0.203685        -0.220370             -0.896170   \n",
       "\n",
       "            noun_density  verb_density  adj_density  category  compound  \n",
       "article_id                                                               \n",
       "1               0.430657      0.204380     0.248175         4    0.9081  \n",
       "10              0.477707      0.248408     0.140127         2   -0.6808  \n",
       "100             0.496296      0.259259     0.140741         3    0.9879  \n",
       "1003            0.424837      0.209150     0.222222         2    0.9325  \n",
       "1004            0.502674      0.197861     0.139037         4    0.9821  "
      ]
     },
     "execution_count": 38,
     "metadata": {},
     "output_type": "execute_result"
    }
   ],
   "source": [
    "sentiment_compound_df = pd.DataFrame(sentiment_category_df['compound'])\n",
    "combined_features_df = pd.merge(part_of_speech_category_df, sentiment_compound_df, left_index=True, right_index=True)\n",
    "combined_features_df.head()"
   ]
  },
  {
   "cell_type": "markdown",
   "metadata": {},
   "source": [
    "Export combined features"
   ]
  },
  {
   "cell_type": "code",
   "execution_count": 39,
   "metadata": {},
   "outputs": [],
   "source": [
    "combined_features_df.to_csv('../features/combined_features.csv')"
   ]
  },
  {
   "cell_type": "markdown",
   "metadata": {},
   "source": [
    "# Chapter III - Feature Selection"
   ]
  },
  {
   "cell_type": "code",
   "execution_count": 50,
   "metadata": {},
   "outputs": [
    {
     "name": "stdout",
     "output_type": "stream",
     "text": [
      "(4566, 7)\n",
      "(4566,)\n"
     ]
    }
   ],
   "source": [
    "kf = KFold(n_splits=10)\n",
    "avg_p = 0\n",
    "avg_r = 0\n",
    "avg_f1 = 0\n",
    "avg_accu = 0\n",
    "features = list(combined_features_df.columns)\n",
    "features.remove('category')\n",
    "feature_matrix = combined_features_df[features].values\n",
    "print(feature_matrix.shape)\n",
    "y = combined_features_df['category'].values\n",
    "print(y.shape)"
   ]
  },
  {
   "cell_type": "code",
   "execution_count": 60,
   "metadata": {},
   "outputs": [
    {
     "name": "stdout",
     "output_type": "stream",
     "text": [
      "Start training and predict...\n",
      "              precision    recall  f1-score   support\n",
      "\n",
      "           0       0.17      0.09      0.12        43\n",
      "           1       0.00      0.00      0.00        22\n",
      "           2       0.42      0.30      0.35       162\n",
      "           3       0.00      0.00      0.00        24\n",
      "           4       0.47      0.71      0.57       206\n",
      "\n",
      "   micro avg       0.44      0.44      0.44       457\n",
      "   macro avg       0.21      0.22      0.21       457\n",
      "weighted avg       0.38      0.44      0.39       457\n",
      "\n"
     ]
    },
    {
     "name": "stderr",
     "output_type": "stream",
     "text": [
      "/home/swang/data_env/venv/lib/python3.6/site-packages/sklearn/metrics/classification.py:1143: UndefinedMetricWarning: Precision and F-score are ill-defined and being set to 0.0 in labels with no predicted samples.\n",
      "  'precision', 'predicted', average, warn_for)\n",
      "/home/swang/data_env/venv/lib/python3.6/site-packages/sklearn/metrics/classification.py:1143: UndefinedMetricWarning: Precision and F-score are ill-defined and being set to 0.0 in labels with no predicted samples.\n",
      "  'precision', 'predicted', average, warn_for)\n",
      "/home/swang/data_env/venv/lib/python3.6/site-packages/sklearn/metrics/classification.py:1143: UndefinedMetricWarning: Precision and F-score are ill-defined and being set to 0.0 in labels with no predicted samples.\n",
      "  'precision', 'predicted', average, warn_for)\n",
      "/home/swang/data_env/venv/lib/python3.6/site-packages/sklearn/metrics/classification.py:1143: UndefinedMetricWarning: Precision is ill-defined and being set to 0.0 in labels with no predicted samples.\n",
      "  'precision', 'predicted', average, warn_for)\n",
      "/home/swang/data_env/venv/lib/python3.6/site-packages/sklearn/metrics/classification.py:1143: UndefinedMetricWarning: F-score is ill-defined and being set to 0.0 in labels with no predicted samples.\n",
      "  'precision', 'predicted', average, warn_for)\n"
     ]
    },
    {
     "name": "stdout",
     "output_type": "stream",
     "text": [
      "              precision    recall  f1-score   support\n",
      "\n",
      "           0       0.23      0.13      0.17        52\n",
      "           1       0.00      0.00      0.00        25\n",
      "           2       0.36      0.41      0.38       127\n",
      "           3       0.25      0.03      0.06        32\n",
      "           4       0.53      0.66      0.59       221\n",
      "\n",
      "   micro avg       0.45      0.45      0.45       457\n",
      "   macro avg       0.27      0.25      0.24       457\n",
      "weighted avg       0.40      0.45      0.41       457\n",
      "\n",
      "              precision    recall  f1-score   support\n",
      "\n",
      "           0       0.24      0.11      0.15        47\n",
      "           1       0.00      0.00      0.00        21\n",
      "           2       0.37      0.38      0.37       130\n",
      "           3       0.00      0.00      0.00        40\n",
      "           4       0.51      0.69      0.59       219\n",
      "\n",
      "   micro avg       0.45      0.45      0.45       457\n",
      "   macro avg       0.22      0.24      0.22       457\n",
      "weighted avg       0.37      0.45      0.40       457\n",
      "\n"
     ]
    },
    {
     "name": "stderr",
     "output_type": "stream",
     "text": [
      "/home/swang/data_env/venv/lib/python3.6/site-packages/sklearn/metrics/classification.py:1143: UndefinedMetricWarning: Precision and F-score are ill-defined and being set to 0.0 in labels with no predicted samples.\n",
      "  'precision', 'predicted', average, warn_for)\n",
      "/home/swang/data_env/venv/lib/python3.6/site-packages/sklearn/metrics/classification.py:1143: UndefinedMetricWarning: Precision and F-score are ill-defined and being set to 0.0 in labels with no predicted samples.\n",
      "  'precision', 'predicted', average, warn_for)\n",
      "/home/swang/data_env/venv/lib/python3.6/site-packages/sklearn/metrics/classification.py:1143: UndefinedMetricWarning: Precision and F-score are ill-defined and being set to 0.0 in labels with no predicted samples.\n",
      "  'precision', 'predicted', average, warn_for)\n",
      "/home/swang/data_env/venv/lib/python3.6/site-packages/sklearn/metrics/classification.py:1143: UndefinedMetricWarning: Precision is ill-defined and being set to 0.0 in labels with no predicted samples.\n",
      "  'precision', 'predicted', average, warn_for)\n",
      "/home/swang/data_env/venv/lib/python3.6/site-packages/sklearn/metrics/classification.py:1143: UndefinedMetricWarning: F-score is ill-defined and being set to 0.0 in labels with no predicted samples.\n",
      "  'precision', 'predicted', average, warn_for)\n"
     ]
    },
    {
     "name": "stdout",
     "output_type": "stream",
     "text": [
      "              precision    recall  f1-score   support\n",
      "\n",
      "           0       0.22      0.16      0.19        37\n",
      "           1       0.00      0.00      0.00        24\n",
      "           2       0.45      0.48      0.47       136\n",
      "           3       0.00      0.00      0.00        28\n",
      "           4       0.56      0.69      0.62       232\n",
      "\n",
      "   micro avg       0.51      0.51      0.51       457\n",
      "   macro avg       0.25      0.27      0.25       457\n",
      "weighted avg       0.44      0.51      0.47       457\n",
      "\n",
      "              precision    recall  f1-score   support\n",
      "\n",
      "           0       0.20      0.09      0.13        43\n",
      "           1       0.00      0.00      0.00        26\n",
      "           2       0.44      0.40      0.42       131\n",
      "           3       0.00      0.00      0.00        33\n",
      "           4       0.54      0.75      0.62       224\n",
      "\n",
      "   micro avg       0.49      0.49      0.49       457\n",
      "   macro avg       0.23      0.25      0.23       457\n",
      "weighted avg       0.41      0.49      0.44       457\n",
      "\n",
      "              precision    recall  f1-score   support\n",
      "\n",
      "           0       0.24      0.19      0.22        36\n",
      "           1       0.00      0.00      0.00        24\n",
      "           2       0.39      0.34      0.36       139\n",
      "           3       0.33      0.03      0.06        32\n",
      "           4       0.55      0.73      0.63       226\n",
      "\n",
      "   micro avg       0.48      0.48      0.48       457\n",
      "   macro avg       0.30      0.26      0.25       457\n",
      "weighted avg       0.43      0.48      0.44       457\n",
      "\n",
      "              precision    recall  f1-score   support\n",
      "\n",
      "           0       0.97      0.62      0.75        92\n",
      "           1       1.00      0.32      0.49        31\n",
      "           2       0.78      0.72      0.75       115\n",
      "           3       0.95      0.41      0.57        49\n",
      "           4       0.60      0.92      0.73       169\n",
      "\n",
      "   micro avg       0.71      0.71      0.71       456\n",
      "   macro avg       0.86      0.60      0.66       456\n",
      "weighted avg       0.79      0.71      0.71       456\n",
      "\n",
      "              precision    recall  f1-score   support\n",
      "\n",
      "           0       0.96      0.60      0.74       112\n",
      "           1       1.00      0.44      0.62        36\n",
      "           2       0.81      0.75      0.78       117\n",
      "           3       1.00      0.31      0.47        36\n",
      "           4       0.60      0.97      0.75       155\n",
      "\n",
      "   micro avg       0.73      0.73      0.73       456\n",
      "   macro avg       0.87      0.61      0.67       456\n",
      "weighted avg       0.81      0.73      0.72       456\n",
      "\n",
      "              precision    recall  f1-score   support\n",
      "\n",
      "           0       0.95      0.55      0.70       107\n",
      "           1       0.94      0.39      0.56        38\n",
      "           2       0.71      0.78      0.75        96\n",
      "           3       1.00      0.42      0.59        43\n",
      "           4       0.64      0.94      0.76       172\n",
      "\n",
      "   micro avg       0.72      0.72      0.72       456\n",
      "   macro avg       0.85      0.62      0.67       456\n",
      "weighted avg       0.79      0.72      0.71       456\n",
      "\n",
      "              precision    recall  f1-score   support\n",
      "\n",
      "           0       0.61      0.44      0.51        64\n",
      "           1       0.70      0.23      0.34        31\n",
      "           2       0.57      0.49      0.52       134\n",
      "           3       0.80      0.17      0.29        23\n",
      "           4       0.56      0.76      0.64       204\n",
      "\n",
      "   micro avg       0.57      0.57      0.57       456\n",
      "   macro avg       0.65      0.42      0.46       456\n",
      "weighted avg       0.59      0.57      0.55       456\n",
      "\n"
     ]
    }
   ],
   "source": [
    "print(\"Start training and predict...\")\n",
    "# full_predicts = np.array([])\n",
    "for train, test in kf.split(feature_matrix):\n",
    "#     model = RandomForestClassifier(n_estimators = 200, max_features = 5,\n",
    "#                                    random_state=0).fit(feature_matrix[train], y[train])\n",
    "    model = xgb.XGBClassifier(max_depth=5, learning_rate=0.1,\n",
    "                              n_estimators=140).fit(feature_matrix[train], y[train])\n",
    "    predicts = model.predict(feature_matrix[test])\n",
    "    print(classification_report(y[test], predicts))\n",
    "    avg_p += precision_score(y[test], predicts, average='macro')\n",
    "    avg_r += recall_score(y[test], predicts, average='macro')\n",
    "    avg_f1 += f1_score(y[test], predicts, average='macro')\n",
    "    avg_accu += accuracy_score(y[test], predicts)"
   ]
  },
  {
   "cell_type": "code",
   "execution_count": 61,
   "metadata": {},
   "outputs": [
    {
     "name": "stdout",
     "output_type": "stream",
     "text": [
      "Average Precision is 0.980472.\n",
      "Average Recall is 0.819791.\n",
      "Average F1 score is 0.848351.\n",
      "Average Accuracy is 1.147896.\n"
     ]
    }
   ],
   "source": [
    "print('Average Precision is %f.' %(avg_p/10.0))\n",
    "print('Average Recall is %f.' %(avg_r/10.0))\n",
    "print('Average F1 score is %f.' %(avg_f1/10.0))\n",
    "print('Average Accuracy is %f.' %(avg_accu/10.0))"
   ]
  },
  {
   "cell_type": "markdown",
   "metadata": {},
   "source": [
    "# Chapter IV - Feature Importance Study"
   ]
  },
  {
   "cell_type": "code",
   "execution_count": 56,
   "metadata": {},
   "outputs": [
    {
     "name": "stdout",
     "output_type": "stream",
     "text": [
      "norm_char_count = 0.1273132591144564\n",
      "norm_word_count = 0.11311047466478313\n",
      "norm_paragraph_count = 0.0921729630472298\n",
      "noun_density = 0.1585616933729284\n",
      "verb_density = 0.16700131036346394\n",
      "adj_density = 0.15971392558804293\n",
      "compound = 0.1821263738490954\n"
     ]
    }
   ],
   "source": [
    "for name, importance in zip(features, model.feature_importances_):\n",
    "    print(name, \"=\", importance)\n",
    "importances = model.feature_importances_\n",
    "indices = np.argsort(importances)\n",
    "features_in_order = [features[i] for i in indices]"
   ]
  },
  {
   "cell_type": "code",
   "execution_count": 57,
   "metadata": {},
   "outputs": [
    {
     "data": {
      "image/png": "[encoded data removed]",
      "text/plain": [
       "<Figure size 432x288 with 1 Axes>"
      ]
     },
     "metadata": {},
     "output_type": "display_data"
    }
   ],
   "source": [
    "plt.title('Feature Importances')\n",
    "plt.barh(range(len(indices)), importances[indices], color='b', align='center')\n",
    "plt.yticks(range(len(indices)), features_in_order)\n",
    "plt.xlabel('Relative Importance')\n",
    "plt.show()"
   ]
  },
  {
   "cell_type": "markdown",
   "metadata": {},
   "source": [
    "# References\n",
    "\n",
    "A Comprehensive Guide to Understand and Implement Text Classification in Python<br/>\n",
    "https://www.analyticsvidhya.com/blog/2018/04/a-comprehensive-guide-to-understand-and-implement-text-classification-in-python/"
   ]
  },
  {
   "cell_type": "markdown",
   "metadata": {},
   "source": [
    "# Training error\n",
    "\n",
    "DeprecationWarning: The truth value of an empty array is ambiguous. Returning False, but in future this will result in an error. Use `array.size > 0` to check that an array is not empty."
   ]
  },
  {
   "cell_type": "markdown",
   "metadata": {},
   "source": [
    "### part_of_speech_analyzer.py\n",
    "DeprecationWarning: Using or importing the ABCs from 'collections' instead of from 'collections.abc' is deprecated, and in 3.8 it will stop working"
   ]
  },
  {
   "cell_type": "code",
   "execution_count": null,
   "metadata": {},
   "outputs": [],
   "source": []
  }
 ],
 "metadata": {
  "kernelspec": {
   "display_name": "Python 3",
   "language": "python",
   "name": "python3"
  },
  "language_info": {
   "codemirror_mode": {
    "name": "ipython",
    "version": 3
   },
   "file_extension": ".py",
   "mimetype": "text/x-python",
   "name": "python",
   "nbconvert_exporter": "python",
   "pygments_lexer": "ipython3",
   "version": "3.6.4"
  }
 },
 "nbformat": 4,
 "nbformat_minor": 2
}
