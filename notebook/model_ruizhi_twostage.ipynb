{
 "cells": [
  {
   "cell_type": "markdown",
   "metadata": {},
   "source": [
    "# Read in Data"
   ]
  },
  {
   "cell_type": "code",
   "execution_count": 1,
   "metadata": {
    "collapsed": true
   },
   "outputs": [],
   "source": [
    "import os\n",
    "import pandas as pd\n",
    "import numpy as np\n",
    "import xgboost\n",
    "\n",
    "from sklearn import preprocessing\n",
    "from sklearn.model_selection import train_test_split, StratifiedShuffleSplit, StratifiedKFold\n",
    "from sklearn.preprocessing import OneHotEncoder\n",
    "from sklearn.ensemble import RandomForestClassifier\n",
    "from sklearn.svm import SVC\n",
    "from sklearn.feature_extraction.text import CountVectorizer, TfidfVectorizer\n",
    "from sklearn.naive_bayes import MultinomialNB\n",
    "from sklearn.linear_model import LogisticRegression\n",
    "from sklearn.metrics import accuracy_score, confusion_matrix, fbeta_score\n",
    "from sklearn.cluster import KMeans\n",
    "from sklearn.neighbors import KNeighborsClassifier\n",
    "\n",
    "import scipy.sparse as sp\n",
    "\n",
    "from imblearn.over_sampling import ADASYN, SMOTE, RandomOverSampler\n",
    "\n",
    "from nltk.corpus import stopwords\n",
    "import nltk\n",
    "from nltk.stem import WordNetLemmatizer, SnowballStemmer, PorterStemmer, LancasterStemmer\n",
    "\n",
    "import gensim\n",
    "\n",
    "import matplotlib.pyplot as plt\n",
    "%matplotlib inline"
   ]
  },
  {
   "cell_type": "code",
   "execution_count": 2,
   "metadata": {
    "collapsed": true
   },
   "outputs": [],
   "source": [
    "train_data = pd.read_csv(\"../input/train_v2.csv\")\n",
    "test_data = pd.read_csv(\"../input/test_v2.csv\")"
   ]
  },
  {
   "cell_type": "code",
   "execution_count": 3,
   "metadata": {},
   "outputs": [
    {
     "data": {
      "text/html": [
       "<div>\n",
       "<style scoped>\n",
       "    .dataframe tbody tr th:only-of-type {\n",
       "        vertical-align: middle;\n",
       "    }\n",
       "\n",
       "    .dataframe tbody tr th {\n",
       "        vertical-align: top;\n",
       "    }\n",
       "\n",
       "    .dataframe thead th {\n",
       "        text-align: right;\n",
       "    }\n",
       "</style>\n",
       "<table border=\"1\" class=\"dataframe\">\n",
       "  <thead>\n",
       "    <tr style=\"text-align: right;\">\n",
       "      <th></th>\n",
       "      <th>article_id</th>\n",
       "      <th>title</th>\n",
       "      <th>url</th>\n",
       "      <th>publisher</th>\n",
       "      <th>hostname</th>\n",
       "      <th>timestamp</th>\n",
       "      <th>category</th>\n",
       "    </tr>\n",
       "  </thead>\n",
       "  <tbody>\n",
       "    <tr>\n",
       "      <th>0</th>\n",
       "      <td>1</td>\n",
       "      <td>Forex - Pound drops to one-month lows against ...</td>\n",
       "      <td>http://www.nasdaq.com/article/forex-pound-drop...</td>\n",
       "      <td>NASDAQ</td>\n",
       "      <td>www.nasdaq.com</td>\n",
       "      <td>1.390000e+12</td>\n",
       "      <td>4</td>\n",
       "    </tr>\n",
       "  </tbody>\n",
       "</table>\n",
       "</div>"
      ],
      "text/plain": [
       "   article_id                                              title  \\\n",
       "0           1  Forex - Pound drops to one-month lows against ...   \n",
       "\n",
       "                                                 url publisher  \\\n",
       "0  http://www.nasdaq.com/article/forex-pound-drop...    NASDAQ   \n",
       "\n",
       "         hostname     timestamp  category  \n",
       "0  www.nasdaq.com  1.390000e+12         4  "
      ]
     },
     "execution_count": 3,
     "metadata": {},
     "output_type": "execute_result"
    }
   ],
   "source": [
    "train_data.head(1)"
   ]
  },
  {
   "cell_type": "code",
   "execution_count": 4,
   "metadata": {},
   "outputs": [
    {
     "data": {
      "text/plain": [
       "<matplotlib.axes._subplots.AxesSubplot at 0x1a199c06d8>"
      ]
     },
     "execution_count": 4,
     "metadata": {},
     "output_type": "execute_result"
    },
    {
     "data": {
      "image/png": "[encoded data removed]",
      "text/plain": [
       "<matplotlib.figure.Figure at 0x1a1a3e5eb8>"
      ]
     },
     "metadata": {},
     "output_type": "display_data"
    }
   ],
   "source": [
    "train_data.category.value_counts().plot('bar')"
   ]
  },
  {
   "cell_type": "markdown",
   "metadata": {},
   "source": [
    "# Housekeeping"
   ]
  },
  {
   "cell_type": "code",
   "execution_count": 5,
   "metadata": {
    "collapsed": true
   },
   "outputs": [],
   "source": [
    "def stem(sent, stemmer_type='porter'):\n",
    "    '''\n",
    "    stemmer_type can be porter, lancaster, or snowball\n",
    "    '''\n",
    "    if stemmer_type == 'porter':\n",
    "        stemmer = PorterStemmer()\n",
    "    elif stemmer_type == 'lancaster':\n",
    "        stemmer = LancasterStemmer()\n",
    "    else:\n",
    "        stemmer = SnowballStemmer('english')\n",
    "    \n",
    "    words = gensim.utils.simple_preprocess(sent)\n",
    "    return ' '.join([stemmer.stem(word) for word in words])"
   ]
  },
  {
   "cell_type": "code",
   "execution_count": 6,
   "metadata": {
    "collapsed": true
   },
   "outputs": [],
   "source": [
    "def lemmatize(sent):\n",
    "    lemmatizer = WordNetLemmatizer()\n",
    "    \n",
    "    words = gensim.utils.simple_preprocess(sent)\n",
    "    return ' '.join([lemmatizer.lemmatize(word) for word in words])"
   ]
  },
  {
   "cell_type": "code",
   "execution_count": 7,
   "metadata": {},
   "outputs": [
    {
     "data": {
      "text/plain": [
       "'Hertz to Exit Equipment Rental Business in $2.5B Spinoff'"
      ]
     },
     "execution_count": 7,
     "metadata": {},
     "output_type": "execute_result"
    }
   ],
   "source": [
    "train_data[\"title\"][1]"
   ]
  },
  {
   "cell_type": "code",
   "execution_count": 8,
   "metadata": {},
   "outputs": [
    {
     "data": {
      "text/plain": [
       "'hertz to exit equip rental busi in spinoff'"
      ]
     },
     "execution_count": 8,
     "metadata": {},
     "output_type": "execute_result"
    }
   ],
   "source": [
    "train_data[\"title\"].apply(stem)[1]"
   ]
  },
  {
   "cell_type": "code",
   "execution_count": 9,
   "metadata": {
    "collapsed": true
   },
   "outputs": [],
   "source": [
    "# perform stemming\n",
    "train_data.loc[:, \"title\"] = train_data[\"title\"].apply(stem)\n",
    "test_data.loc[:, \"title\"] = test_data[\"title\"].apply(stem)"
   ]
  },
  {
   "cell_type": "code",
   "execution_count": 10,
   "metadata": {
    "collapsed": true
   },
   "outputs": [],
   "source": [
    "# X_train, X_test, Y_train, Y_test = train_test_split(train_data[\"title\"], train_data[\"category\"], test_size = 0.2)\n",
    "# X_train = np.array(X_train)\n",
    "# X_test = np.array(X_test)  # indeed X_valid is a more accurate name\n",
    "# Y_train = np.array(Y_train)\n",
    "# Y_test = np.array(Y_test)  # indeed Y_valid is a more accurate name"
   ]
  },
  {
   "cell_type": "code",
   "execution_count": 11,
   "metadata": {
    "collapsed": true
   },
   "outputs": [],
   "source": [
    "def create_sample_weight(y_true, use_log=False):\n",
    "#     sr = pd.Series(y_true)\n",
    "#     if use_log:\n",
    "#         dc = (np.log(sr.shape[0]/sr.value_counts())).to_dict()\n",
    "#     else:\n",
    "#         dc = (sr.shape[0]/sr.value_counts()).to_dict()\n",
    "    dc = {\n",
    "        4: 1.0,\n",
    "        2: 1.2,\n",
    "        0: 1.0,\n",
    "        3: 1.2,\n",
    "        1: 1.2\n",
    "    }\n",
    "    return [dc[element] for element in y_true]"
   ]
  },
  {
   "cell_type": "code",
   "execution_count": 12,
   "metadata": {
    "collapsed": true
   },
   "outputs": [],
   "source": [
    "def calc_metrics(y_true, y_pred):\n",
    "    return {'accuracy': accuracy_score(y_true, y_pred), \n",
    "            'f1': fbeta_score(y_true, y_pred, average=None, beta=1),\n",
    "            'f2_macro': fbeta_score(y_true, y_pred, average='macro', beta=2),\n",
    "            'f2_micro': fbeta_score(y_true, y_pred, average='micro', beta=2),\n",
    "            'f2_weighted': fbeta_score(y_true, y_pred, average='weighted', beta=2)}"
   ]
  },
  {
   "cell_type": "code",
   "execution_count": 13,
   "metadata": {
    "collapsed": true
   },
   "outputs": [],
   "source": [
    "def train_model(classifier, feature_vector_train, label_train, feature_vector_valid, label_valid, use_sample_weight=False):\n",
    "    # fit the training dataset on the classifier\n",
    "    if use_sample_weight:\n",
    "        classifier.fit(feature_vector_train, label_train, sample_weight=create_sample_weight(label_train, use_log=True))\n",
    "    else:\n",
    "        classifier.fit(feature_vector_train, label_train)\n",
    "        \n",
    "    # predict the labels on validation dataset\n",
    "    predictions = classifier.predict(feature_vector_valid)\n",
    "    \n",
    "    return calc_metrics(label_valid, predictions)"
   ]
  },
  {
   "cell_type": "code",
   "execution_count": 14,
   "metadata": {
    "collapsed": true
   },
   "outputs": [],
   "source": [
    "def cross_validation_data(train_data):\n",
    "    sss = StratifiedShuffleSplit(n_splits=10, test_size=0.2, random_state=0)\n",
    "    \n",
    "    for train_index, test_index in sss.split(train_data[\"title\"], train_data[\"category\"]):\n",
    "        X_train, X_test = train_data[\"title\"][train_index], train_data[\"title\"][test_index]\n",
    "        Y_train, Y_test = train_data[\"category\"][train_index], train_data[\"category\"][test_index]\n",
    "        yield X_train, Y_train, X_test, Y_test"
   ]
  },
  {
   "cell_type": "code",
   "execution_count": 13,
   "metadata": {
    "collapsed": true
   },
   "outputs": [],
   "source": [
    "# # Not performing well\n",
    "# def random_sample(X, y, method='RandomOverSampler'):\n",
    "#     if method == 'RandomOverSampler':\n",
    "#         sampler = RandomOverSampler()\n",
    "#     elif method == 'RandomUnderSampler':\n",
    "#         sampler = RandomUnderSampler()\n",
    "#     elif method == 'ADASYN':\n",
    "#         sampler = ADASYN()\n",
    "#     elif method == 'SMOTE':\n",
    "#         sampler = SMOTE()\n",
    "\n",
    "#     return sampler.fit_sample(X, y)"
   ]
  },
  {
   "cell_type": "code",
   "execution_count": 109,
   "metadata": {
    "collapsed": true
   },
   "outputs": [],
   "source": [
    "# le_hostname = preprocessing.LabelEncoder()\n",
    "# le_hostname.fit_transform(train_data['hostname']).shape\n",
    "\n",
    "# le_publisher = preprocessing.LabelEncoder()\n",
    "# publisher = le_publisher.fit_transform(train_data['publisher'].fillna('UNKNOWN'))"
   ]
  },
  {
   "cell_type": "markdown",
   "metadata": {
    "collapsed": true
   },
   "source": [
    "# TF-IDF"
   ]
  },
  {
   "cell_type": "code",
   "execution_count": 15,
   "metadata": {},
   "outputs": [
    {
     "data": {
      "text/plain": [
       "TfidfVectorizer(analyzer='word', binary=False, decode_error='strict',\n",
       "        dtype=<class 'numpy.float64'>, encoding='utf-8', input='content',\n",
       "        lowercase=True, max_df=1.0, max_features=4000, min_df=1,\n",
       "        ngram_range=(1, 2), norm='l2', preprocessor=None, smooth_idf=True,\n",
       "        stop_words=None, strip_accents=None, sublinear_tf=False,\n",
       "        token_pattern='(?u)\\\\b\\\\w\\\\w+\\\\b', tokenizer=None, use_idf=True,\n",
       "        vocabulary=None)"
      ]
     },
     "execution_count": 15,
     "metadata": {},
     "output_type": "execute_result"
    }
   ],
   "source": [
    "tfidf_vect_ngram = TfidfVectorizer(analyzer='word',\n",
    "                                   # token_pattern=r'\\w{1,}', \n",
    "                                   ngram_range=(1,2), \n",
    "                                   max_df=1.0,\n",
    "                                   min_df=1,\n",
    "                                   max_features=4000)\n",
    "tfidf_vect_ngram.fit(train_data[\"title\"].tolist() + test_data[\"title\"].tolist())\n",
    "# tfidf_vect_ngram.fit(train_data[\"title\"])"
   ]
  },
  {
   "cell_type": "code",
   "execution_count": 16,
   "metadata": {
    "collapsed": true
   },
   "outputs": [],
   "source": [
    "epochs = 1"
   ]
  },
  {
   "cell_type": "markdown",
   "metadata": {},
   "source": [
    "# Stage 1: binary classification for class 4"
   ]
  },
  {
   "cell_type": "code",
   "execution_count": 17,
   "metadata": {
    "collapsed": true
   },
   "outputs": [],
   "source": [
    "train_data_stage1 = train_data.copy()"
   ]
  },
  {
   "cell_type": "code",
   "execution_count": 18,
   "metadata": {
    "collapsed": true
   },
   "outputs": [],
   "source": [
    "train_data_stage1.loc[train_data_stage1['category'] != 4, 'category'] = 0"
   ]
  },
  {
   "cell_type": "code",
   "execution_count": 19,
   "metadata": {
    "collapsed": true
   },
   "outputs": [],
   "source": [
    "train_data_stage1.loc[train_data_stage1['category'] == 4, 'category'] = 1"
   ]
  },
  {
   "cell_type": "code",
   "execution_count": 25,
   "metadata": {},
   "outputs": [
    {
     "data": {
      "text/html": [
       "<div>\n",
       "<style scoped>\n",
       "    .dataframe tbody tr th:only-of-type {\n",
       "        vertical-align: middle;\n",
       "    }\n",
       "\n",
       "    .dataframe tbody tr th {\n",
       "        vertical-align: top;\n",
       "    }\n",
       "\n",
       "    .dataframe thead th {\n",
       "        text-align: right;\n",
       "    }\n",
       "</style>\n",
       "<table border=\"1\" class=\"dataframe\">\n",
       "  <thead>\n",
       "    <tr style=\"text-align: right;\">\n",
       "      <th></th>\n",
       "      <th>article_id</th>\n",
       "      <th>title</th>\n",
       "      <th>url</th>\n",
       "      <th>publisher</th>\n",
       "      <th>hostname</th>\n",
       "      <th>timestamp</th>\n",
       "      <th>category</th>\n",
       "    </tr>\n",
       "  </thead>\n",
       "  <tbody>\n",
       "    <tr>\n",
       "      <th>0</th>\n",
       "      <td>1</td>\n",
       "      <td>forex pound drop to one month low against euro</td>\n",
       "      <td>http://www.nasdaq.com/article/forex-pound-drop...</td>\n",
       "      <td>NASDAQ</td>\n",
       "      <td>www.nasdaq.com</td>\n",
       "      <td>1.390000e+12</td>\n",
       "      <td>1</td>\n",
       "    </tr>\n",
       "    <tr>\n",
       "      <th>1</th>\n",
       "      <td>2</td>\n",
       "      <td>hertz to exit equip rental busi in spinoff</td>\n",
       "      <td>http://www.foxbusiness.com/industries/2014/03/...</td>\n",
       "      <td>Fox Business</td>\n",
       "      <td>www.foxbusiness.com</td>\n",
       "      <td>1.400000e+12</td>\n",
       "      <td>0</td>\n",
       "    </tr>\n",
       "    <tr>\n",
       "      <th>2</th>\n",
       "      <td>3</td>\n",
       "      <td>gold etf inflow return</td>\n",
       "      <td>http://www.resourceinvestor.com/2014/03/09/gol...</td>\n",
       "      <td>Resource Investor</td>\n",
       "      <td>www.resourceinvestor.com</td>\n",
       "      <td>1.390000e+12</td>\n",
       "      <td>1</td>\n",
       "    </tr>\n",
       "    <tr>\n",
       "      <th>3</th>\n",
       "      <td>4</td>\n",
       "      <td>hacker call mt gox ceo liar say he still contr...</td>\n",
       "      <td>http://bgr.com/2014/03/10/mt-gox-fraud-accusat...</td>\n",
       "      <td>BGR</td>\n",
       "      <td>bgr.com</td>\n",
       "      <td>1.390000e+12</td>\n",
       "      <td>1</td>\n",
       "    </tr>\n",
       "    <tr>\n",
       "      <th>4</th>\n",
       "      <td>5</td>\n",
       "      <td>gold climb to near month high on concern about...</td>\n",
       "      <td>http://www.forbes.com/sites/kitconews/2014/03/...</td>\n",
       "      <td>Forbes</td>\n",
       "      <td>www.forbes.com</td>\n",
       "      <td>1.390000e+12</td>\n",
       "      <td>1</td>\n",
       "    </tr>\n",
       "  </tbody>\n",
       "</table>\n",
       "</div>"
      ],
      "text/plain": [
       "   article_id                                              title  \\\n",
       "0           1     forex pound drop to one month low against euro   \n",
       "1           2         hertz to exit equip rental busi in spinoff   \n",
       "2           3                             gold etf inflow return   \n",
       "3           4  hacker call mt gox ceo liar say he still contr...   \n",
       "4           5  gold climb to near month high on concern about...   \n",
       "\n",
       "                                                 url          publisher  \\\n",
       "0  http://www.nasdaq.com/article/forex-pound-drop...             NASDAQ   \n",
       "1  http://www.foxbusiness.com/industries/2014/03/...       Fox Business   \n",
       "2  http://www.resourceinvestor.com/2014/03/09/gol...  Resource Investor   \n",
       "3  http://bgr.com/2014/03/10/mt-gox-fraud-accusat...                BGR   \n",
       "4  http://www.forbes.com/sites/kitconews/2014/03/...             Forbes   \n",
       "\n",
       "                   hostname     timestamp  category  \n",
       "0            www.nasdaq.com  1.390000e+12         1  \n",
       "1       www.foxbusiness.com  1.400000e+12         0  \n",
       "2  www.resourceinvestor.com  1.390000e+12         1  \n",
       "3                   bgr.com  1.390000e+12         1  \n",
       "4            www.forbes.com  1.390000e+12         1  "
      ]
     },
     "execution_count": 25,
     "metadata": {},
     "output_type": "execute_result"
    }
   ],
   "source": [
    "train_data_stage1.head(5)"
   ]
  },
  {
   "cell_type": "code",
   "execution_count": 41,
   "metadata": {
    "scrolled": true
   },
   "outputs": [
    {
     "name": "stdout",
     "output_type": "stream",
     "text": [
      "NB mean accuracy: 0.7133499170812605\n",
      "NB mean f2_macro: 0.7076504830319554\n",
      "NB mean f2_micro: 0.7133499170812605\n",
      "NB mean f2_weighted: 0.712572732719467\n",
      "\n"
     ]
    }
   ],
   "source": [
    "for clf_name in [\n",
    "#                   'SVC',\n",
    "#                   'LR',\n",
    "                  'NB',\n",
    "#                   'XGB',\n",
    "#                   'RF'\n",
    "                 ]:\n",
    "\n",
    "    if clf_name == 'SVC':\n",
    "        clf = SVC(kernel='linear')\n",
    "    elif clf_name == 'LR':\n",
    "        clf = LogisticRegression(penalty='l2', C=2, solver='liblinear', multi_class='ovr')\n",
    "    elif clf_name == 'NB':\n",
    "        clf = MultinomialNB()\n",
    "    elif clf_name == 'XGB':\n",
    "        clf = xgboost.XGBClassifier(max_depth=5, n_estimators=140)\n",
    "    elif clf_name == 'RF':\n",
    "        clf = RandomForestClassifier(n_estimators=180, criterion='entropy')\n",
    "\n",
    "    metrics_list = []\n",
    "    for X_train, Y_train, X_test, Y_test in cross_validation_data(train_data_stage1):\n",
    "        xtrain_tfidf_ngram =  tfidf_vect_ngram.transform(X_train)\n",
    "        xvalid_tfidf_ngram =  tfidf_vect_ngram.transform(X_test)\n",
    "        xsemi_tfidf_ngram = tfidf_vect_ngram.transform(np.concatenate([X_train, X_test, test_data[\"title\"]]))\n",
    "        \n",
    "        metrics = train_model(clf, xtrain_tfidf_ngram, Y_train, xvalid_tfidf_ngram, Y_test)\n",
    "\n",
    "        metrics_list.append(metrics)\n",
    "\n",
    "    print(clf_name, \"mean accuracy:\", sum([item['accuracy'] for item in metrics_list])/len(metrics_list))\n",
    "    print(clf_name, \"mean f2_macro:\", sum([item['f2_macro'] for item in metrics_list])/len(metrics_list))    \n",
    "    print(clf_name, \"mean f2_micro:\", sum([item['f2_micro'] for item in metrics_list])/len(metrics_list))    \n",
    "    print(clf_name, \"mean f2_weighted:\", sum([item['f2_weighted'] for item in metrics_list])/len(metrics_list))  \n",
    "    print()"
   ]
  },
  {
   "cell_type": "code",
   "execution_count": 42,
   "metadata": {},
   "outputs": [
    {
     "data": {
      "text/plain": [
       "array([0.74415308, 0.63936064])"
      ]
     },
     "execution_count": 42,
     "metadata": {},
     "output_type": "execute_result"
    }
   ],
   "source": [
    "metrics['f1']"
   ]
  },
  {
   "cell_type": "code",
   "execution_count": 43,
   "metadata": {},
   "outputs": [
    {
     "data": {
      "text/plain": [
       "1    1961\n",
       "0     765\n",
       "dtype: int64"
      ]
     },
     "execution_count": 43,
     "metadata": {},
     "output_type": "execute_result"
    }
   ],
   "source": [
    "pd.Series(clf.predict(tfidf_vect_ngram.transform(train_data[train_data['category']==4]['title']))).value_counts()"
   ]
  },
  {
   "cell_type": "code",
   "execution_count": 44,
   "metadata": {},
   "outputs": [
    {
     "data": {
      "text/plain": [
       "0    1436\n",
       "1     265\n",
       "dtype: int64"
      ]
     },
     "execution_count": 44,
     "metadata": {},
     "output_type": "execute_result"
    }
   ],
   "source": [
    "pd.Series(clf.predict(tfidf_vect_ngram.transform(train_data[train_data['category']==2]['title']))).value_counts()"
   ]
  },
  {
   "cell_type": "code",
   "execution_count": 45,
   "metadata": {},
   "outputs": [
    {
     "data": {
      "text/plain": [
       "0    712\n",
       "1     86\n",
       "dtype: int64"
      ]
     },
     "execution_count": 45,
     "metadata": {},
     "output_type": "execute_result"
    }
   ],
   "source": [
    "pd.Series(clf.predict(tfidf_vect_ngram.transform(train_data[train_data['category']==0]['title']))).value_counts()"
   ]
  },
  {
   "cell_type": "code",
   "execution_count": 46,
   "metadata": {
    "scrolled": true
   },
   "outputs": [
    {
     "data": {
      "text/plain": [
       "0    359\n",
       "1     94\n",
       "dtype: int64"
      ]
     },
     "execution_count": 46,
     "metadata": {},
     "output_type": "execute_result"
    }
   ],
   "source": [
    "pd.Series(clf.predict(tfidf_vect_ngram.transform(train_data[train_data['category']==3]['title']))).value_counts()"
   ]
  },
  {
   "cell_type": "code",
   "execution_count": 47,
   "metadata": {
    "scrolled": true
   },
   "outputs": [
    {
     "data": {
      "text/plain": [
       "0    241\n",
       "1    108\n",
       "dtype: int64"
      ]
     },
     "execution_count": 47,
     "metadata": {},
     "output_type": "execute_result"
    }
   ],
   "source": [
    "pd.Series(clf.predict(tfidf_vect_ngram.transform(train_data[train_data['category']==1]['title']))).value_counts()"
   ]
  },
  {
   "cell_type": "markdown",
   "metadata": {},
   "source": [
    "# Using 2 Stages"
   ]
  },
  {
   "cell_type": "code",
   "execution_count": 56,
   "metadata": {
    "scrolled": true
   },
   "outputs": [
    {
     "name": "stdout",
     "output_type": "stream",
     "text": [
      "{'accuracy': 0.6177446102819237, 'f1': array([0.63430421, 0.48598131, 0.58089172, 0.51428571, 0.66666667]), 'f2_macro': 0.551638691747752, 'f2_micro': 0.6177446102819237, 'f2_weighted': 0.615238326686007}\n",
      "{'accuracy': 0.6119402985074627, 'f1': array([0.66237942, 0.42477876, 0.59375   , 0.39393939, 0.65625   ]), 'f2_macro': 0.5273380312435637, 'f2_micro': 0.6119402985074627, 'f2_weighted': 0.6081498648764113}\n",
      "{'accuracy': 0.6177446102819237, 'f1': array([0.6557377 , 0.48148148, 0.57032258, 0.51428571, 0.66789668]), 'f2_macro': 0.552573571485637, 'f2_micro': 0.6177446102819237, 'f2_weighted': 0.6154980443138733}\n",
      "{'accuracy': 0.6252072968490879, 'f1': array([0.69400631, 0.5045045 , 0.56349206, 0.53900709, 0.67157314]), 'f2_macro': 0.5710574312342368, 'f2_micro': 0.6252072968490879, 'f2_weighted': 0.6235442335069985}\n",
      "{'accuracy': 0.6393034825870647, 'f1': array([0.64094955, 0.59016393, 0.59677419, 0.61333333, 0.67799811]), 'f2_macro': 0.6084811567491245, 'f2_micro': 0.6393034825870647, 'f2_weighted': 0.6386907767813599}\n",
      "{'accuracy': 0.6442786069651741, 'f1': array([0.66873065, 0.51485149, 0.61016949, 0.52554745, 0.68819188]), 'f2_macro': 0.5740303124392596, 'f2_micro': 0.6442786069651741, 'f2_weighted': 0.6411600347558153}\n",
      "{'accuracy': 0.6384742951907131, 'f1': array([0.63265306, 0.55238095, 0.60628931, 0.5037037 , 0.68882733]), 'f2_macro': 0.5655674930523369, 'f2_micro': 0.6384742951907131, 'f2_weighted': 0.6351190549445265}\n",
      "{'accuracy': 0.642620232172471, 'f1': array([0.69325153, 0.44859813, 0.61832061, 0.4822695 , 0.68631179]), 'f2_macro': 0.5669359660789167, 'f2_micro': 0.642620232172471, 'f2_weighted': 0.6391934036923607}\n",
      "{'accuracy': 0.6417910447761194, 'f1': array([0.64951768, 0.46728972, 0.61892583, 0.55072464, 0.68528864]), 'f2_macro': 0.5691469592617595, 'f2_micro': 0.6417910447761194, 'f2_weighted': 0.638719080416836}\n",
      "{'accuracy': 0.6202321724709784, 'f1': array([0.6645768 , 0.52173913, 0.59168704, 0.52238806, 0.65302144]), 'f2_macro': 0.568525985302756, 'f2_micro': 0.6202321724709784, 'f2_weighted': 0.6172931127054065}\n",
      "SVC mean accuracy: 0.629933665008292\n",
      "SVC mean f2_macro: 0.5655295598595342\n",
      "SVC mean f2_micro: 0.629933665008292\n",
      "SVC mean f2_weighted: 0.6272605932679596\n",
      "\n",
      "{'accuracy': 0.6202321724709784, 'f1': array([0.64882943, 0.52252252, 0.58838072, 0.5106383 , 0.66159696]), 'f2_macro': 0.5614560336867743, 'f2_micro': 0.6202321724709784, 'f2_weighted': 0.6176909599959339}\n",
      "{'accuracy': 0.6160862354892206, 'f1': array([0.68627451, 0.43396226, 0.59343434, 0.4       , 0.65796831]), 'f2_macro': 0.5325945213715998, 'f2_micro': 0.6160862354892206, 'f2_weighted': 0.6120612329552293}\n",
      "{'accuracy': 0.62106135986733, 'f1': array([0.66445183, 0.45045045, 0.57587549, 0.51034483, 0.67343173]), 'f2_macro': 0.5526329678945172, 'f2_micro': 0.62106135986733, 'f2_weighted': 0.6189819040372087}\n",
      "{'accuracy': 0.6202321724709784, 'f1': array([0.68987342, 0.45714286, 0.55938697, 0.54166667, 0.67105263]), 'f2_macro': 0.56038576726278, 'f2_micro': 0.6202321724709784, 'f2_weighted': 0.6183222208850762}\n",
      "{'accuracy': 0.6409618573797679, 'f1': array([0.64285714, 0.61403509, 0.59607843, 0.61744966, 0.67938931]), 'f2_macro': 0.6098007546545897, 'f2_micro': 0.6409618573797679, 'f2_weighted': 0.640135882796024}\n",
      "{'accuracy': 0.6434494195688225, 'f1': array([0.66037736, 0.5       , 0.62113402, 0.5106383 , 0.68523677]), 'f2_macro': 0.5694296597058741, 'f2_micro': 0.6434494195688226, 'f2_weighted': 0.6400837704282549}\n",
      "{'accuracy': 0.6384742951907131, 'f1': array([0.62251656, 0.50980392, 0.61104294, 0.5112782 , 0.69245283]), 'f2_macro': 0.5591547097733904, 'f2_micro': 0.6384742951907131, 'f2_weighted': 0.6344944775665512}\n",
      "{'accuracy': 0.6442786069651741, 'f1': array([0.69375   , 0.43396226, 0.61576355, 0.48529412, 0.69364162]), 'f2_macro': 0.5633624234798039, 'f2_micro': 0.6442786069651741, 'f2_weighted': 0.6402789730957981}\n",
      "{'accuracy': 0.6351575456053068, 'f1': array([0.66453674, 0.49056604, 0.60482846, 0.52554745, 0.67726848]), 'f2_macro': 0.5668166562921186, 'f2_micro': 0.6351575456053068, 'f2_weighted': 0.6321601487642041}\n",
      "{'accuracy': 0.6119402985074627, 'f1': array([0.65346535, 0.52336449, 0.5776699 , 0.53333333, 0.64621285]), 'f2_macro': 0.557907575794165, 'f2_micro': 0.6119402985074627, 'f2_weighted': 0.6090714060831887}\n",
      "LR mean accuracy: 0.6291873963515755\n",
      "LR mean f2_macro: 0.5633541069915614\n",
      "LR mean f2_micro: 0.6291873963515755\n",
      "LR mean f2_weighted: 0.6263280976607468\n",
      "\n",
      "{'accuracy': 0.615257048092869, 'f1': array([0.65346535, 0.47826087, 0.57312723, 0.51515152, 0.66283525]), 'f2_macro': 0.5418880185914162, 'f2_micro': 0.615257048092869, 'f2_weighted': 0.6110573170867762}\n",
      "{'accuracy': 0.615257048092869, 'f1': array([0.66883117, 0.34408602, 0.58663366, 0.38016529, 0.67097967]), 'f2_macro': 0.5051447044015027, 'f2_micro': 0.615257048092869, 'f2_weighted': 0.6086939715791803}\n",
      "{'accuracy': 0.6359867330016584, 'f1': array([0.68918919, 0.4516129 , 0.59259259, 0.52554745, 0.68401487]), 'f2_macro': 0.5554459168612567, 'f2_micro': 0.6359867330016584, 'f2_weighted': 0.6320186648892973}\n",
      "{'accuracy': 0.6218905472636815, 'f1': array([0.66225166, 0.43298969, 0.57317073, 0.56296296, 0.67296786]), 'f2_macro': 0.549330371389707, 'f2_micro': 0.6218905472636815, 'f2_weighted': 0.6185492546189649}\n",
      "{'accuracy': 0.6359867330016584, 'f1': array([0.61349693, 0.52525253, 0.60025221, 0.62411348, 0.68186135]), 'f2_macro': 0.5793227458600889, 'f2_micro': 0.6359867330016584, 'f2_weighted': 0.6336405677154945}\n",
      "{'accuracy': 0.6359867330016584, 'f1': array([0.67741935, 0.45652174, 0.61313869, 0.47244094, 0.67672008]), 'f2_macro': 0.5474158712244235, 'f2_micro': 0.6359867330016584, 'f2_weighted': 0.6303704801450867}\n",
      "{'accuracy': 0.6301824212271974, 'f1': array([0.61889251, 0.3908046 , 0.60336538, 0.484375  , 0.69187146]), 'f2_macro': 0.5266944203653308, 'f2_micro': 0.6301824212271974, 'f2_weighted': 0.62398516175584}\n",
      "{'accuracy': 0.6393034825870647, 'f1': array([0.68518519, 0.3956044 , 0.60481928, 0.48062016, 0.69364162]), 'f2_macro': 0.5453306041608715, 'f2_micro': 0.6393034825870647, 'f2_weighted': 0.6335962471648441}\n",
      "{'accuracy': 0.6194029850746269, 'f1': array([0.64495114, 0.41304348, 0.58767773, 0.515625  , 0.6685879 ]), 'f2_macro': 0.5340943799927366, 'f2_micro': 0.6194029850746269, 'f2_weighted': 0.6141389192863826}\n",
      "{'accuracy': 0.6069651741293532, 'f1': array([0.65780731, 0.46808511, 0.58542141, 0.49612403, 0.63762376]), 'f2_macro': 0.5358757951176578, 'f2_micro': 0.6069651741293532, 'f2_weighted': 0.6010655947930549}\n",
      "NB mean accuracy: 0.6256218905472637\n",
      "NB mean f2_macro: 0.5420542827964991\n",
      "NB mean f2_micro: 0.6256218905472637\n",
      "NB mean f2_weighted: 0.6207116179034922\n",
      "\n",
      "{'accuracy': 0.5771144278606966, 'f1': array([0.64052288, 0.50943396, 0.56182213, 0.47058824, 0.59447983]), 'f2_macro': 0.530385715853448, 'f2_micro': 0.5771144278606966, 'f2_weighted': 0.5705268425580519}\n",
      "{'accuracy': 0.5729684908789386, 'f1': array([0.63481229, 0.45614035, 0.56684492, 0.3968254 , 0.59745763]), 'f2_macro': 0.5081086132124841, 'f2_micro': 0.5729684908789386, 'f2_weighted': 0.5648778478224776}\n",
      "{'accuracy': 0.5887230514096186, 'f1': array([0.61324042, 0.5045045 , 0.56578947, 0.5       , 0.62577963]), 'f2_macro': 0.5361492395746751, 'f2_micro': 0.5887230514096186, 'f2_weighted': 0.5835234743171187}\n",
      "{'accuracy': 0.6218905472636815, 'f1': array([0.66435986, 0.4587156 , 0.56315789, 0.51162791, 0.67911111]), 'f2_macro': 0.5439274256328623, 'f2_micro': 0.6218905472636815, 'f2_weighted': 0.6187296798631444}\n",
      "{'accuracy': 0.603648424543947, 'f1': array([0.6474359 , 0.5       , 0.58400927, 0.56375839, 0.6255144 ]), 'f2_macro': 0.5664464996405724, 'f2_micro': 0.603648424543947, 'f2_weighted': 0.6000901347170601}\n",
      "{'accuracy': 0.6318407960199005, 'f1': array([0.65346535, 0.48543689, 0.60025543, 0.46511628, 0.68190128]), 'f2_macro': 0.547954279369232, 'f2_micro': 0.6318407960199005, 'f2_weighted': 0.6277681201049865}\n",
      "{'accuracy': 0.6053067993366501, 'f1': array([0.57651246, 0.50980392, 0.56850192, 0.5037037 , 0.65947889]), 'f2_macro': 0.5299220896601009, 'f2_micro': 0.6053067993366501, 'f2_weighted': 0.601752082624522}\n",
      "{'accuracy': 0.5978441127694859, 'f1': array([0.68896321, 0.44230769, 0.5738758 , 0.45255474, 0.63113006]), 'f2_macro': 0.5332743227873801, 'f2_micro': 0.5978441127694859, 'f2_weighted': 0.5907669688063022}\n"
     ]
    },
    {
     "name": "stdout",
     "output_type": "stream",
     "text": [
      "{'accuracy': 0.5953565505804311, 'f1': array([0.62706271, 0.44859813, 0.5827957 , 0.52857143, 0.62446352]), 'f2_macro': 0.5389626417064528, 'f2_micro': 0.5953565505804311, 'f2_weighted': 0.5883012479445584}\n",
      "{'accuracy': 0.6011608623548922, 'f1': array([0.63157895, 0.48543689, 0.56753408, 0.453125  , 0.64646465]), 'f2_macro': 0.5244022888966794, 'f2_micro': 0.6011608623548922, 'f2_weighted': 0.5971715851788227}\n",
      "XGB mean accuracy: 0.5995854063018242\n",
      "XGB mean f2_macro: 0.5359533116333888\n",
      "XGB mean f2_micro: 0.5995854063018242\n",
      "XGB mean f2_weighted: 0.5943507983937045\n",
      "\n",
      "{'accuracy': 0.6185737976782753, 'f1': array([0.64864865, 0.50909091, 0.59872611, 0.51315789, 0.65116279]), 'f2_macro': 0.5682841920813155, 'f2_micro': 0.6185737976782753, 'f2_weighted': 0.6163248179191275}\n",
      "{'accuracy': 0.6003316749585407, 'f1': array([0.64536741, 0.44247788, 0.57834395, 0.43283582, 0.64104967]), 'f2_macro': 0.5283515727073878, 'f2_micro': 0.6003316749585407, 'f2_weighted': 0.5971042060780856}\n",
      "{'accuracy': 0.6111111111111112, 'f1': array([0.6130031 , 0.42735043, 0.58762887, 0.55782313, 0.65586273]), 'f2_macro': 0.5524750083481438, 'f2_micro': 0.6111111111111112, 'f2_weighted': 0.6093474084168277}\n",
      "{'accuracy': 0.648424543946932, 'f1': array([0.68263473, 0.59322034, 0.59580052, 0.58333333, 0.69070209]), 'f2_macro': 0.6102271494784259, 'f2_micro': 0.648424543946932, 'f2_weighted': 0.6472983676815125}\n",
      "{'accuracy': 0.632669983416252, 'f1': array([0.64285714, 0.61403509, 0.59607843, 0.58974359, 0.66474544]), 'f2_macro': 0.6046322910914487, 'f2_micro': 0.632669983416252, 'f2_weighted': 0.6318053949693372}\n",
      "{'accuracy': 0.6243781094527363, 'f1': array([0.64652568, 0.49541284, 0.58961039, 0.52413793, 0.66982025]), 'f2_macro': 0.5658008563694641, 'f2_micro': 0.6243781094527363, 'f2_weighted': 0.6222738663457726}\n",
      "{'accuracy': 0.6252072968490879, 'f1': array([0.60869565, 0.4957265 , 0.60349127, 0.54285714, 0.67172676]), 'f2_macro': 0.5619796601682999, 'f2_micro': 0.6252072968490879, 'f2_weighted': 0.6226305507808955}\n",
      "{'accuracy': 0.6160862354892206, 'f1': array([0.62839879, 0.44247788, 0.60228717, 0.47887324, 0.66025024]), 'f2_macro': 0.5469927008877853, 'f2_micro': 0.6160862354892206, 'f2_weighted': 0.6131545727450831}\n",
      "{'accuracy': 0.6268656716417911, 'f1': array([0.61818182, 0.53781513, 0.61074705, 0.53146853, 0.6641438 ]), 'f2_macro': 0.57560147884823, 'f2_micro': 0.6268656716417911, 'f2_weighted': 0.6250432971821429}\n",
      "{'accuracy': 0.6185737976782753, 'f1': array([0.6501548 , 0.5       , 0.60150376, 0.50724638, 0.65053243]), 'f2_macro': 0.5647771258726589, 'f2_micro': 0.6185737976782753, 'f2_weighted': 0.6158986024382719}\n",
      "RF mean accuracy: 0.6222222222222221\n",
      "RF mean f2_macro: 0.5679122035853161\n",
      "RF mean f2_micro: 0.6222222222222221\n",
      "RF mean f2_weighted: 0.6200881084557056\n",
      "\n"
     ]
    }
   ],
   "source": [
    "for clf_name in [\n",
    "                  'SVC',\n",
    "                  'LR',\n",
    "                  'NB',\n",
    "                  'XGB',\n",
    "                  'RF'\n",
    "                 ]:\n",
    "\n",
    "    if clf_name == 'SVC':\n",
    "        clf = SVC(kernel='linear')\n",
    "        clf_2 = SVC(kernel='linear')\n",
    "        \n",
    "    elif clf_name == 'LR':\n",
    "        clf = LogisticRegression(penalty='l2', C=2, solver='liblinear', multi_class='ovr')\n",
    "        clf_2 = LogisticRegression(penalty='l2', C=2, solver='liblinear', multi_class='ovr')\n",
    "    elif clf_name == 'NB':\n",
    "        clf = MultinomialNB()\n",
    "        clf_2 = MultinomialNB()\n",
    "    elif clf_name == 'XGB':\n",
    "        clf = xgboost.XGBClassifier(max_depth=5, n_estimators=140)\n",
    "        clf_2 = xgboost.XGBClassifier(max_depth=5, n_estimators=140)\n",
    "    elif clf_name == 'RF':\n",
    "        clf = RandomForestClassifier(n_estimators=180, criterion='entropy')\n",
    "        clf_2 = RandomForestClassifier(n_estimators=180, criterion='entropy')\n",
    "\n",
    "    metrics_list = []\n",
    "    for X_train, Y_train, X_test, Y_test in cross_validation_data(train_data):\n",
    "        Y_train_stage_1 = Y_train.copy()\n",
    "        Y_train_stage_1[Y_train_stage_1 != 4] = 0\n",
    "        Y_train_stage_1[Y_train_stage_1 == 4] = 1\n",
    "        \n",
    "        clf.fit(tfidf_vect_ngram.transform(X_train), Y_train_stage_1)\n",
    "        \n",
    "        X_train_stage_2 = X_train[Y_train != 4]\n",
    "        Y_train_stage_2 = Y_train[Y_train != 4]\n",
    "        \n",
    "        clf_2.fit(tfidf_vect_ngram.transform(X_train_stage_2), Y_train_stage_2)\n",
    "        \n",
    "        pred_stage_1 = clf.predict(tfidf_vect_ngram.transform(X_test))\n",
    "        \n",
    "        pred_stage_2 = clf_2.predict(tfidf_vect_ngram.transform(X_test[pred_stage_1 == 0]))\n",
    "        \n",
    "        pred_stage_1[pred_stage_1 == 1] = 4\n",
    "        pred_stage_1[pred_stage_1 == 0] = pred_stage_2\n",
    "        \n",
    "        metrics = calc_metrics(Y_test, pred_stage_1)\n",
    "        print(metrics)\n",
    "        metrics_list.append(metrics)\n",
    "\n",
    "    print(clf_name, \"mean accuracy:\", sum([item['accuracy'] for item in metrics_list])/len(metrics_list))\n",
    "    print(clf_name, \"mean f2_macro:\", sum([item['f2_macro'] for item in metrics_list])/len(metrics_list))    \n",
    "    print(clf_name, \"mean f2_micro:\", sum([item['f2_micro'] for item in metrics_list])/len(metrics_list))    \n",
    "    print(clf_name, \"mean f2_weighted:\", sum([item['f2_weighted'] for item in metrics_list])/len(metrics_list))  \n",
    "    print()"
   ]
  },
  {
   "cell_type": "code",
   "execution_count": null,
   "metadata": {
    "collapsed": true
   },
   "outputs": [],
   "source": []
  },
  {
   "cell_type": "code",
   "execution_count": null,
   "metadata": {
    "collapsed": true
   },
   "outputs": [],
   "source": []
  }
 ],
 "metadata": {
  "kernelspec": {
   "display_name": "Python 3",
   "language": "python",
   "name": "python3"
  },
  "language_info": {
   "codemirror_mode": {
    "name": "ipython",
    "version": 3
   },
   "file_extension": ".py",
   "mimetype": "text/x-python",
   "name": "python",
   "nbconvert_exporter": "python",
   "pygments_lexer": "ipython3",
   "version": "3.6.1"
  }
 },
 "nbformat": 4,
 "nbformat_minor": 2
}
