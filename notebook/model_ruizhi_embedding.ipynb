{
 "cells": [
  {
   "cell_type": "markdown",
   "metadata": {},
   "source": [
    "# Read in Data"
   ]
  },
  {
   "cell_type": "code",
   "execution_count": 1,
   "metadata": {},
   "outputs": [
    {
     "name": "stderr",
     "output_type": "stream",
     "text": [
      "/Users/ruizhi/anaconda/lib/python3.6/site-packages/sklearn/cross_validation.py:44: DeprecationWarning: This module was deprecated in version 0.18 in favor of the model_selection module into which all the refactored classes and functions are moved. Also note that the interface of the new CV iterators are different from that of this module. This module will be removed in 0.20.\n",
      "  \"This module will be removed in 0.20.\", DeprecationWarning)\n"
     ]
    }
   ],
   "source": [
    "import os\n",
    "import pandas as pd\n",
    "import numpy as np\n",
    "import xgboost\n",
    "\n",
    "from sklearn import metrics,preprocessing\n",
    "from sklearn.cross_validation import train_test_split\n",
    "from sklearn.preprocessing import OneHotEncoder\n",
    "from sklearn.ensemble import RandomForestClassifier\n",
    "from sklearn.svm import SVC\n",
    "from sklearn.feature_extraction.text import CountVectorizer, TfidfVectorizer\n",
    "from sklearn.naive_bayes import MultinomialNB\n",
    "from sklearn.linear_model import LogisticRegression\n",
    "from sklearn.metrics import accuracy_score, confusion_matrix, fbeta_score\n",
    "\n",
    "from nltk.corpus import stopwords\n",
    "\n",
    "import matplotlib.pyplot as plt\n",
    "%matplotlib inline"
   ]
  },
  {
   "cell_type": "code",
   "execution_count": 2,
   "metadata": {
    "collapsed": true
   },
   "outputs": [],
   "source": [
    "import gensim\n",
    "from gensim.models.doc2vec import TaggedDocument\n",
    "from collections import namedtuple"
   ]
  },
  {
   "cell_type": "code",
   "execution_count": 3,
   "metadata": {
    "collapsed": true
   },
   "outputs": [],
   "source": [
    "train_data = pd.read_csv(\"../input/train_v2.csv\")\n",
    "test_data = pd.read_csv(\"../input/test_v2.csv\")"
   ]
  },
  {
   "cell_type": "code",
   "execution_count": 4,
   "metadata": {},
   "outputs": [
    {
     "data": {
      "text/html": [
       "<div>\n",
       "<style scoped>\n",
       "    .dataframe tbody tr th:only-of-type {\n",
       "        vertical-align: middle;\n",
       "    }\n",
       "\n",
       "    .dataframe tbody tr th {\n",
       "        vertical-align: top;\n",
       "    }\n",
       "\n",
       "    .dataframe thead th {\n",
       "        text-align: right;\n",
       "    }\n",
       "</style>\n",
       "<table border=\"1\" class=\"dataframe\">\n",
       "  <thead>\n",
       "    <tr style=\"text-align: right;\">\n",
       "      <th></th>\n",
       "      <th>article_id</th>\n",
       "      <th>title</th>\n",
       "      <th>url</th>\n",
       "      <th>publisher</th>\n",
       "      <th>hostname</th>\n",
       "      <th>timestamp</th>\n",
       "      <th>category</th>\n",
       "    </tr>\n",
       "  </thead>\n",
       "  <tbody>\n",
       "    <tr>\n",
       "      <th>0</th>\n",
       "      <td>1</td>\n",
       "      <td>Forex - Pound drops to one-month lows against ...</td>\n",
       "      <td>http://www.nasdaq.com/article/forex-pound-drop...</td>\n",
       "      <td>NASDAQ</td>\n",
       "      <td>www.nasdaq.com</td>\n",
       "      <td>1.390000e+12</td>\n",
       "      <td>4</td>\n",
       "    </tr>\n",
       "  </tbody>\n",
       "</table>\n",
       "</div>"
      ],
      "text/plain": [
       "   article_id                                              title  \\\n",
       "0           1  Forex - Pound drops to one-month lows against ...   \n",
       "\n",
       "                                                 url publisher  \\\n",
       "0  http://www.nasdaq.com/article/forex-pound-drop...    NASDAQ   \n",
       "\n",
       "         hostname     timestamp  category  \n",
       "0  www.nasdaq.com  1.390000e+12         4  "
      ]
     },
     "execution_count": 4,
     "metadata": {},
     "output_type": "execute_result"
    }
   ],
   "source": [
    "train_data.head(1)"
   ]
  },
  {
   "cell_type": "code",
   "execution_count": 5,
   "metadata": {
    "scrolled": true
   },
   "outputs": [
    {
     "data": {
      "text/plain": [
       "<matplotlib.axes._subplots.AxesSubplot at 0x11d3ed630>"
      ]
     },
     "execution_count": 5,
     "metadata": {},
     "output_type": "execute_result"
    },
    {
     "data": {
      "image/png": "[encoded data removed]",
      "text/plain": [
       "<matplotlib.figure.Figure at 0x11d549da0>"
      ]
     },
     "metadata": {},
     "output_type": "display_data"
    }
   ],
   "source": [
    "train_data.category.value_counts().plot(kind='bar')"
   ]
  },
  {
   "cell_type": "markdown",
   "metadata": {},
   "source": [
    "# Housekeeping"
   ]
  },
  {
   "cell_type": "code",
   "execution_count": 6,
   "metadata": {
    "collapsed": true
   },
   "outputs": [],
   "source": [
    "X_train, X_valid, Y_train, Y_valid = train_test_split(train_data[\"title\"], train_data[\"category\"], test_size = 0.2)\n",
    "X_train = np.array(X_train)\n",
    "X_valid = np.array(X_valid)\n",
    "Y_train = np.array(Y_train)\n",
    "Y_valid = np.array(Y_valid)"
   ]
  },
  {
   "cell_type": "code",
   "execution_count": 7,
   "metadata": {
    "collapsed": true
   },
   "outputs": [],
   "source": [
    "def train_model(classifier, feature_vector_train, label_train, feature_vector_valid, label_valid):\n",
    "    # fit the training dataset on the classifier\n",
    "    classifier.fit(feature_vector_train, label_train)\n",
    "    \n",
    "    # predict the labels on validation dataset\n",
    "    predictions = classifier.predict(feature_vector_valid)\n",
    "    \n",
    "    return metrics.accuracy_score(predictions, label_valid)"
   ]
  },
  {
   "cell_type": "code",
   "execution_count": 8,
   "metadata": {
    "collapsed": true
   },
   "outputs": [],
   "source": [
    "# le_hostname = preprocessing.LabelEncoder()\n",
    "# le_hostname.fit_transform(train_data['hostname']).shape\n",
    "\n",
    "# le_publisher = preprocessing.LabelEncoder()\n",
    "# le_publisher.fit_transform(train_data['publisher'].fillna('UNKNOWN'))"
   ]
  },
  {
   "cell_type": "markdown",
   "metadata": {},
   "source": [
    "# Word Embedding"
   ]
  },
  {
   "cell_type": "code",
   "execution_count": 9,
   "metadata": {
    "collapsed": true
   },
   "outputs": [],
   "source": [
    "from gensim.models import Doc2Vec\n",
    "import gensim.models.doc2vec\n",
    "from collections import OrderedDict\n",
    "import multiprocessing\n",
    "from sklearn import utils"
   ]
  },
  {
   "cell_type": "code",
   "execution_count": 10,
   "metadata": {
    "collapsed": true
   },
   "outputs": [],
   "source": [
    "from gensim.test.test_doc2vec import ConcatenatedDoc2Vec"
   ]
  },
  {
   "cell_type": "code",
   "execution_count": 11,
   "metadata": {
    "collapsed": true
   },
   "outputs": [],
   "source": [
    "from random import shuffle"
   ]
  },
  {
   "cell_type": "code",
   "execution_count": 59,
   "metadata": {
    "collapsed": true
   },
   "outputs": [],
   "source": [
    "from sklearn.neighbors import KNeighborsClassifier"
   ]
  },
  {
   "cell_type": "code",
   "execution_count": 12,
   "metadata": {
    "collapsed": true
   },
   "outputs": [],
   "source": [
    "cores = multiprocessing.cpu_count()\n",
    "assert gensim.models.doc2vec.FAST_VERSION > -1, \"This will be painfully slow otherwise\""
   ]
  },
  {
   "cell_type": "code",
   "execution_count": 13,
   "metadata": {
    "collapsed": true
   },
   "outputs": [],
   "source": [
    "def read_corpus(x=None, y=None, unique_tags=False):\n",
    "    if unique_tags:\n",
    "        i = 1000  # just an offset\n",
    "        for record in x:\n",
    "            yield gensim.models.doc2vec.TaggedDocument(gensim.utils.simple_preprocess(record), [i])\n",
    "            i += 1\n",
    "    else:\n",
    "        for record, label in zip(x, y):\n",
    "            yield gensim.models.doc2vec.TaggedDocument(gensim.utils.simple_preprocess(record), [label])"
   ]
  },
  {
   "cell_type": "code",
   "execution_count": 14,
   "metadata": {
    "collapsed": true
   },
   "outputs": [],
   "source": [
    "# X_all = np.concatenate([X_train, X_valid])\n",
    "# Y_all = np.concatenate([Y_train, Y_valid])\n",
    "# all_corpus = list(read_corpus(X_all, Y_all))\n",
    "# train_corpus = all_corpus[:len(X_train)]\n",
    "# valid_corpus = all_corpus[len(X_train):]\n",
    "# The above approach is incorrect\n",
    "\n",
    "train_corpus = list(read_corpus(x=X_train, y=Y_train, unique_tags=False))\n",
    "valid_corpus = list(read_corpus(x=X_valid, y=None, unique_tags=True))"
   ]
  },
  {
   "cell_type": "code",
   "execution_count": 15,
   "metadata": {},
   "outputs": [
    {
     "data": {
      "text/plain": [
       "TaggedDocument(words=['update', 'icahn', 'changes', 'course', 'urges', 'ebay', 'to', 'sell', 'pct', 'of', 'paypal'], tags=[4])"
      ]
     },
     "execution_count": 15,
     "metadata": {},
     "output_type": "execute_result"
    }
   ],
   "source": [
    "train_corpus[-1]"
   ]
  },
  {
   "cell_type": "code",
   "execution_count": 16,
   "metadata": {},
   "outputs": [
    {
     "data": {
      "text/plain": [
       "TaggedDocument(words=['get', 'those', 'pencils', 'out', 'it', 'ncaa', 'bracket', 'time'], tags=[2205])"
      ]
     },
     "execution_count": 16,
     "metadata": {},
     "output_type": "execute_result"
    }
   ],
   "source": [
    "valid_corpus[-1]"
   ]
  },
  {
   "cell_type": "code",
   "execution_count": 76,
   "metadata": {},
   "outputs": [],
   "source": [
    "EPOCHS = 40\n",
    "# PV-DBOW plain\n",
    "model_dbow = Doc2Vec(dm=0, vector_size=100, negative=5, hs=0, min_count=2, sample=0, \n",
    "        epochs=EPOCHS, workers=cores)\n",
    "\n",
    "# PV-DM w/ default averaging; a higher starting alpha may improve CBOW/PV-DM modes\n",
    "model_dmm = Doc2Vec(dm=1, vector_size=100, window=10, negative=5, hs=0, min_count=2, sample=0, \n",
    "        epochs=EPOCHS, workers=cores, alpha=0.05, comment='alpha=0.05')\n",
    "\n",
    "# PV-DM w/ concatenation - big, slow, experimental mode\n",
    "# window=5 (both sides) approximates paper's apparent 10-word total window size\n",
    "model_dmc = Doc2Vec(dm=1, dm_concat=1, vector_size=100, window=5, negative=5, hs=0, min_count=2, sample=0, \n",
    "        epochs=EPOCHS, workers=cores)\n",
    "\n",
    "for model in [model_dbow, model_dmm, model_dmc]:\n",
    "    model.build_vocab(train_corpus)\n",
    "    \n",
    "model_dbow_dmm = ConcatenatedDoc2Vec([model_dbow, model_dmm])\n",
    "model_dbow_dmc = ConcatenatedDoc2Vec([model_dbow, model_dmc])"
   ]
  },
  {
   "cell_type": "code",
   "execution_count": 77,
   "metadata": {
    "collapsed": true
   },
   "outputs": [],
   "source": [
    "def vec_for_learning(model, sents, reinfer=True, epochs=EPOCHS):\n",
    "    if reinfer:\n",
    "        vecs = [model.infer_vector(doc.words, epochs=epochs) for doc in sents]\n",
    "    else:\n",
    "        vecs = [model.docvecs[doc.tags[0]] for doc in sents]\n",
    "    \n",
    "    return vecs"
   ]
  },
  {
   "cell_type": "code",
   "execution_count": 78,
   "metadata": {},
   "outputs": [
    {
     "name": "stdout",
     "output_type": "stream",
     "text": [
      "0.6666666666666666\n",
      "CPU times: user 12.6 s, sys: 1 s, total: 13.6 s\n",
      "Wall time: 11.5 s\n"
     ]
    }
   ],
   "source": [
    "%%time\n",
    "\n",
    "reinfer=True  # should always be Ture in our case\n",
    "\n",
    "doc_list = train_corpus[:]\n",
    "shuffle(doc_list)\n",
    "\n",
    "for model in [model_dbow, model_dmm, model_dmc, model_dbow_dmm, model_dbow_dmc]:\n",
    "    model.train(doc_list, total_examples=len(doc_list), epochs=model.epochs)\n",
    "    _X_train = vec_for_learning(model, train_corpus, reinfer=reinfer)\n",
    "    _X_valid = vec_for_learning(model, valid_corpus, reinfer=reinfer)\n",
    "    # clf = LogisticRegression()\n",
    "    # clf = KNeighborsClassifier(n_neighbors=1)\n",
    "    clf = SVC()  # 0.6633\n",
    "    # clf = xgboost.XGBClassifier(max_depth=5, learning_rate=0.1, n_estimators=140)\n",
    "    # clf = RandomForestClassifier(n_estimators=180, criterion='gini')\n",
    "    accuracy = train_model(clf, _X_train, Y_train, _X_valid, Y_valid)  # 0.6625\n",
    "    print(accuracy)\n",
    "    break"
   ]
  },
  {
   "cell_type": "markdown",
   "metadata": {
    "collapsed": true
   },
   "source": [
    "# Create Submission Using Different Mothods"
   ]
  },
  {
   "cell_type": "code",
   "execution_count": 93,
   "metadata": {
    "collapsed": true
   },
   "outputs": [],
   "source": [
    "alltrain_corpus = list(read_corpus(x=train_data[\"title\"], y=train_data[\"category\"], unique_tags=False))"
   ]
  },
  {
   "cell_type": "code",
   "execution_count": 94,
   "metadata": {},
   "outputs": [],
   "source": [
    "test_corpus = list(read_corpus(x=test_data[\"title\"], unique_tags=True))"
   ]
  },
  {
   "cell_type": "code",
   "execution_count": 110,
   "metadata": {
    "collapsed": true
   },
   "outputs": [],
   "source": [
    "EPOCHS = 50\n",
    "# PV-DBOW plain\n",
    "model_dbow = Doc2Vec(dm=0, vector_size=100, negative=5, hs=0, min_count=2, sample=0, \n",
    "        epochs=EPOCHS, workers=cores)\n",
    "\n",
    "# PV-DM w/ default averaging; a higher starting alpha may improve CBOW/PV-DM modes\n",
    "model_dmm = Doc2Vec(dm=1, vector_size=100, window=10, negative=5, hs=0, min_count=2, sample=0, \n",
    "        epochs=EPOCHS, workers=cores, alpha=0.05, comment='alpha=0.05')\n",
    "\n",
    "# PV-DM w/ concatenation - big, slow, experimental mode\n",
    "# window=5 (both sides) approximates paper's apparent 10-word total window size\n",
    "model_dmc = Doc2Vec(dm=1, dm_concat=1, vector_size=100, window=5, negative=5, hs=0, min_count=2, sample=0, \n",
    "        epochs=EPOCHS, workers=cores)\n",
    "\n",
    "for model in [model_dbow, model_dmm, model_dmc]:\n",
    "    model.build_vocab(train_corpus)\n",
    "    \n",
    "model_dbow_dmm = ConcatenatedDoc2Vec([model_dbow, model_dmm])\n",
    "model_dbow_dmc = ConcatenatedDoc2Vec([model_dbow, model_dmc])"
   ]
  },
  {
   "cell_type": "code",
   "execution_count": 111,
   "metadata": {
    "collapsed": true
   },
   "outputs": [],
   "source": [
    "def vec_for_learning(model, sents, reinfer=True, epochs=EPOCHS):\n",
    "    if reinfer:\n",
    "        vecs = [model.infer_vector(doc.words, epochs=epochs) for doc in sents]\n",
    "    else:\n",
    "        vecs = [model.docvecs[doc.tags[0]] for doc in sents]\n",
    "    \n",
    "    return vecs"
   ]
  },
  {
   "cell_type": "code",
   "execution_count": 112,
   "metadata": {},
   "outputs": [
    {
     "name": "stdout",
     "output_type": "stream",
     "text": [
      "0.8110170897627343\n",
      "CPU times: user 15.7 s, sys: 1.53 s, total: 17.2 s\n",
      "Wall time: 13.9 s\n"
     ]
    }
   ],
   "source": [
    "%%time\n",
    "\n",
    "reinfer=True  # should always be Ture in our case\n",
    "\n",
    "doc_list = alltrain_corpus[:]\n",
    "shuffle(doc_list)\n",
    "\n",
    "for model in [model_dbow, model_dmm, model_dmc, model_dbow_dmm, model_dbow_dmc]:\n",
    "    model.train(doc_list, total_examples=len(doc_list), epochs=model.epochs)\n",
    "    _X_train = vec_for_learning(model, alltrain_corpus, reinfer=reinfer)\n",
    "    # clf = SVC()\n",
    "    clf = KNeighborsClassifier(n_neighbors=5)\n",
    "    \n",
    "    accuracy = train_model(clf, _X_train, train_data[\"category\"], _X_train, train_data[\"category\"])\n",
    "    print(accuracy)\n",
    "    break"
   ]
  },
  {
   "cell_type": "code",
   "execution_count": 113,
   "metadata": {
    "collapsed": true
   },
   "outputs": [],
   "source": [
    "_X_test = vec_for_learning(model, test_corpus, reinfer=reinfer)\n",
    "test_data[\"category\"] = clf.predict(_X_test)"
   ]
  },
  {
   "cell_type": "code",
   "execution_count": 114,
   "metadata": {
    "collapsed": true
   },
   "outputs": [],
   "source": [
    "out=pd.DataFrame(test_data,columns=['article_id','category'])\n",
    "out.to_csv('prediction.csv',index=False)"
   ]
  },
  {
   "cell_type": "code",
   "execution_count": null,
   "metadata": {
    "collapsed": true
   },
   "outputs": [],
   "source": []
  }
 ],
 "metadata": {
  "kernelspec": {
   "display_name": "Python 3",
   "language": "python",
   "name": "python3"
  },
  "language_info": {
   "codemirror_mode": {
    "name": "ipython",
    "version": 3
   },
   "file_extension": ".py",
   "mimetype": "text/x-python",
   "name": "python",
   "nbconvert_exporter": "python",
   "pygments_lexer": "ipython3",
   "version": "3.6.1"
  }
 },
 "nbformat": 4,
 "nbformat_minor": 2
}
