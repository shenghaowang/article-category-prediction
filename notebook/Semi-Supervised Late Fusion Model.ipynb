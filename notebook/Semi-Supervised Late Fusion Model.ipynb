{
 "cells": [
  {
   "cell_type": "code",
   "execution_count": 1,
   "metadata": {},
   "outputs": [],
   "source": [
    "import os\n",
    "import numpy as np\n",
    "import pandas as pd\n",
    "import time\n",
    "from xgboost import XGBClassifier\n",
    "from sklearn.feature_extraction.text import TfidfVectorizer\n",
    "from sklearn.model_selection import KFold\n",
    "from sklearn.model_selection import train_test_split\n",
    "from sklearn.model_selection import GridSearchCV\n",
    "from sklearn.metrics import accuracy_score"
   ]
  },
  {
   "cell_type": "code",
   "execution_count": null,
   "metadata": {},
   "outputs": [],
   "source": [
    "title_prob_df = pd.read_csv('../predictions/title_prediction.csv', index_col='article_id')\n",
    "feature_prob_df = pd.read_csv('../predictions/features_prediction.csv', index_col='article_id')\n",
    "article_body_prob_df = prob_predicts_df.copy()\n",
    "print(title_prob_df.shape)\n",
    "print(feature_prob_df.shape)\n",
    "print(article_body_prob_df.shape)"
   ]
  },
  {
   "cell_type": "code",
   "execution_count": null,
   "metadata": {},
   "outputs": [],
   "source": [
    "matched_title_prob_df = title_prob_df.loc[feature_prob_df.index]\n",
    "matched_ids = title_prob_df.index.isin(matched_title_prob_df.index)\n",
    "unmatched_title_prob_df = title_prob_df[~matched_ids]\n",
    "print(matched_title_prob_df.shape)\n",
    "print(unmatched_title_prob_df.shape)"
   ]
  },
  {
   "cell_type": "markdown",
   "metadata": {},
   "source": [
    "# Late fusion\n",
    "Combine the prediction from three classifiers"
   ]
  },
  {
   "cell_type": "code",
   "execution_count": null,
   "metadata": {},
   "outputs": [],
   "source": [
    "## Generate multiple sets of weights for text, description, and hashtags\n",
    "w_title_range = np.arange(0.0, 0.6, 0.01)\n",
    "w_article_body_range = np.arange(0, 0.4, 0.01)\n",
    "weight_sets = []\n",
    "\n",
    "for w_article_body in w_article_body_range:\n",
    "    for w_title in w_title_range:\n",
    "        weight_sets.append([w_title, w_article_body, 1 - w_title - w_article_body])\n",
    "weight_sets[:5]"
   ]
  },
  {
   "cell_type": "code",
   "execution_count": null,
   "metadata": {},
   "outputs": [],
   "source": [
    "## Search for optimal weights to be assigned to individual classifier\n",
    "y_num = np.array([int(cls[:-1]) for cls in y])\n",
    "accuracies = []\n",
    "for i in range(len(weight_sets)):\n",
    "    w_title, w_article_body, w_features = weight_sets[i]\n",
    "    combined_prob = w_title * matched_title_prob_df.values + w_article_body * article_body_prob_df.values + w_features * feature_prob_df.values\n",
    "    combined_pred = np.apply_along_axis(np.argmax, 1, combined_prob)\n",
    "\n",
    "\tavg_p = accuracy_score(y_num, combined_pred)\n",
    "\tavg_r = recall_score(y_num, combined_pred, average='macro')\n",
    "\tavg_f1 = f1_score(y_num, combined_pred, average='macro')\n",
    "\n",
    "\tprecisions.append(avg_p)\n",
    "\trecalls.append(avg_r)\n",
    "\tf1_scores.append(avg_f1)"
   ]
  }
 ],
 "metadata": {
  "kernelspec": {
   "display_name": "Python 3",
   "language": "python",
   "name": "python3"
  },
  "language_info": {
   "codemirror_mode": {
    "name": "ipython",
    "version": 3
   },
   "file_extension": ".py",
   "mimetype": "text/x-python",
   "name": "python",
   "nbconvert_exporter": "python",
   "pygments_lexer": "ipython3",
   "version": "3.6.4"
  }
 },
 "nbformat": 4,
 "nbformat_minor": 2
}
