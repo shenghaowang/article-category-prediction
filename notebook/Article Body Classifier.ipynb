{
 "cells": [
  {
   "cell_type": "code",
   "execution_count": 1,
   "metadata": {},
   "outputs": [],
   "source": [
    "import os\n",
    "import numpy as np\n",
    "import pandas as pd\n",
    "import time\n",
    "from xgboost import XGBClassifier\n",
    "from sklearn.feature_extraction.text import TfidfVectorizer\n",
    "from sklearn.model_selection import KFold\n",
    "from sklearn.model_selection import train_test_split\n",
    "from sklearn.model_selection import GridSearchCV\n",
    "from sklearn.metrics import (classification_report, accuracy_score,\n",
    "                             precision_score, recall_score, f1_score)"
   ]
  },
  {
   "cell_type": "markdown",
   "metadata": {},
   "source": [
    "# Prepare article bodies for training and test"
   ]
  },
  {
   "cell_type": "code",
   "execution_count": 6,
   "metadata": {},
   "outputs": [
    {
     "name": "stdout",
     "output_type": "stream",
     "text": [
      "Loading article bodies for training...\n",
      "4566 articles loaded for training.\n"
     ]
    }
   ],
   "source": [
    "print(\"Loading article bodies for training...\")\n",
    "train_articles_dir = '../output'\n",
    "train_articles_df = pd.read_csv('input/train_v2.csv', index_col='article_id')\n",
    "train_article_ids = []\n",
    "train_article_bodies = []\n",
    "train_article_classes = []\n",
    "for article in os.listdir(train_articles_dir):\n",
    "    article_id = article.split('.')[0]\n",
    "    if article_id.isdigit():\n",
    "        with open(os.path.join(train_articles_dir, article), 'r') as f:\n",
    "            paragraphs = f.readlines()\n",
    "        f.close()\n",
    "        if paragraphs:\n",
    "            train_article_ids.append(article_id)\n",
    "            train_article_bodies.append(' '.join(paragraphs))\n",
    "            train_article_classes.append(train_articles_df.loc[int(article_id), 'category'])\n",
    "        \n",
    "print(\"%s articles loaded for training.\" %len(train_article_ids))"
   ]
  },
  {
   "cell_type": "markdown",
   "metadata": {},
   "source": [
    "### Split into training and validation dataset"
   ]
  },
  {
   "cell_type": "code",
   "execution_count": 8,
   "metadata": {},
   "outputs": [],
   "source": [
    "train_article_bodies = np.array(train_article_bodies)\n",
    "train_article_classes = np.array(train_article_classes)\n",
    "x_train, x_val, y_train, y_val = train_test_split(train_article_bodies, train_article_classes, test_size = 0.2)"
   ]
  },
  {
   "cell_type": "markdown",
   "metadata": {},
   "source": [
    "# Build baseline model"
   ]
  },
  {
   "cell_type": "code",
   "execution_count": 11,
   "metadata": {},
   "outputs": [
    {
     "name": "stdout",
     "output_type": "stream",
     "text": [
      "Constructing TF-IDF matrix for articles.\n",
      "Accuracy on training set 0.8883\n",
      "Accuracy on validation set 0.6521\n",
      "Elapsed time: %s seconds... 84.1054\n"
     ]
    }
   ],
   "source": [
    "print(\"Constructing TF-IDF matrix for articles.\")\n",
    "start_time = time.time()\n",
    "tfidf_vect_ngram = TfidfVectorizer(analyzer='word', token_pattern=r'\\w{1,}', ngram_range=(1,3), max_features=3500)\n",
    "tfidf_vect_ngram.fit(train_article_bodies)\n",
    "train_tfidf_ngram = tfidf_vect_ngram.transform(x_train)\n",
    "val_tfidf_ngram = tfidf_vect_ngram.transform(x_val)\n",
    "base_model = XGBClassifier(max_depth=5, learning_rate=0.1, n_estimators=140).fit(train_tfidf_ngram, y_train)\n",
    "predicts = base_model.predict(train_tfidf_ngram)\n",
    "print(\"Accuracy on training set %s\" %round(accuracy_score(y_train, predicts), 4))\n",
    "predicts = base_model.predict(val_tfidf_ngram)\n",
    "print(\"Accuracy on validation set %s\" %round(accuracy_score(y_val, predicts), 4))\n",
    "print(\"Elapsed time: %s seconds...\", round(time.time() - start_time, 4))"
   ]
  },
  {
   "cell_type": "markdown",
   "metadata": {},
   "source": [
    "# Predict on test data"
   ]
  },
  {
   "cell_type": "code",
   "execution_count": 18,
   "metadata": {},
   "outputs": [
    {
     "name": "stdout",
     "output_type": "stream",
     "text": [
      "2893 articles loaded for training.\n"
     ]
    }
   ],
   "source": [
    "test_articles_dir = '../output_test'\n",
    "test_articles_df = pd.read_csv('input/test_v2.csv', index_col='article_id')\n",
    "test_article_ids = []\n",
    "test_article_bodies = []\n",
    "test_article_classes = []\n",
    "for article in os.listdir(test_articles_dir):\n",
    "    article_id = article.split('.')[0]\n",
    "    if article_id.isdigit():\n",
    "        with open(os.path.join(test_articles_dir, article), 'r') as f:\n",
    "            paragraphs = f.readlines()\n",
    "        f.close()\n",
    "        if paragraphs:\n",
    "            test_article_ids.append(article_id)\n",
    "            test_article_bodies.append(' '.join(paragraphs))\n",
    "        \n",
    "print(\"%s articles loaded for training.\" %len(test_article_ids))"
   ]
  },
  {
   "cell_type": "code",
   "execution_count": 19,
   "metadata": {},
   "outputs": [
    {
     "name": "stdout",
     "output_type": "stream",
     "text": [
      "Constructing TF-IDF matrix for articles.\n",
      "Accuracy on training set 0.841\n"
     ]
    }
   ],
   "source": [
    "train_article_bodies = np.array(train_article_bodies)\n",
    "train_article_classes = np.array(train_article_classes)\n",
    "\n",
    "print(\"Constructing TF-IDF matrix for articles.\")\n",
    "train_tfidf_ngram = tfidf_vect_ngram.transform(train_article_bodies)\n",
    "\n",
    "start_time = time.time()\n",
    "model = XGBClassifier(max_depth=5, learning_rate=0.1, n_estimators=140).fit(train_tfidf_ngram, train_article_classes)\n",
    "predicts = base_model.predict(train_tfidf_ngram)\n",
    "print(\"Accuracy on training set %s\" %round(accuracy_score(train_article_classes, predicts), 4))"
   ]
  },
  {
   "cell_type": "code",
   "execution_count": 20,
   "metadata": {},
   "outputs": [
    {
     "name": "stdout",
     "output_type": "stream",
     "text": [
      "[4 0 4 ... 2 2 1]\n"
     ]
    },
    {
     "data": {
      "text/plain": [
       "array([ 224,  115,  716,  155, 1683])"
      ]
     },
     "execution_count": 20,
     "metadata": {},
     "output_type": "execute_result"
    }
   ],
   "source": [
    "test_tfidf_ngram = tfidf_vect_ngram.transform(test_article_bodies)\n",
    "test_predicts = model.predict(test_tfidf_ngram)\n",
    "print(test_predicts)\n",
    "np.bincount(test_predicts)"
   ]
  },
  {
   "cell_type": "code",
   "execution_count": 22,
   "metadata": {},
   "outputs": [
    {
     "data": {
      "text/html": [
       "<div>\n",
       "<style scoped>\n",
       "    .dataframe tbody tr th:only-of-type {\n",
       "        vertical-align: middle;\n",
       "    }\n",
       "\n",
       "    .dataframe tbody tr th {\n",
       "        vertical-align: top;\n",
       "    }\n",
       "\n",
       "    .dataframe thead th {\n",
       "        text-align: right;\n",
       "    }\n",
       "</style>\n",
       "<table border=\"1\" class=\"dataframe\">\n",
       "  <thead>\n",
       "    <tr style=\"text-align: right;\">\n",
       "      <th></th>\n",
       "      <th>0</th>\n",
       "      <th>1</th>\n",
       "      <th>2</th>\n",
       "      <th>3</th>\n",
       "      <th>4</th>\n",
       "    </tr>\n",
       "  </thead>\n",
       "  <tbody>\n",
       "    <tr>\n",
       "      <th>3644</th>\n",
       "      <td>0.102493</td>\n",
       "      <td>0.043537</td>\n",
       "      <td>0.223313</td>\n",
       "      <td>0.058132</td>\n",
       "      <td>0.572524</td>\n",
       "    </tr>\n",
       "    <tr>\n",
       "      <th>1053</th>\n",
       "      <td>0.947547</td>\n",
       "      <td>0.002460</td>\n",
       "      <td>0.015113</td>\n",
       "      <td>0.004086</td>\n",
       "      <td>0.030794</td>\n",
       "    </tr>\n",
       "    <tr>\n",
       "      <th>1735</th>\n",
       "      <td>0.051891</td>\n",
       "      <td>0.021625</td>\n",
       "      <td>0.264050</td>\n",
       "      <td>0.098480</td>\n",
       "      <td>0.563954</td>\n",
       "    </tr>\n",
       "    <tr>\n",
       "      <th>3122</th>\n",
       "      <td>0.022754</td>\n",
       "      <td>0.010115</td>\n",
       "      <td>0.723289</td>\n",
       "      <td>0.035783</td>\n",
       "      <td>0.208059</td>\n",
       "    </tr>\n",
       "    <tr>\n",
       "      <th>2228</th>\n",
       "      <td>0.063622</td>\n",
       "      <td>0.033124</td>\n",
       "      <td>0.493486</td>\n",
       "      <td>0.022314</td>\n",
       "      <td>0.387455</td>\n",
       "    </tr>\n",
       "  </tbody>\n",
       "</table>\n",
       "</div>"
      ],
      "text/plain": [
       "             0         1         2         3         4\n",
       "3644  0.102493  0.043537  0.223313  0.058132  0.572524\n",
       "1053  0.947547  0.002460  0.015113  0.004086  0.030794\n",
       "1735  0.051891  0.021625  0.264050  0.098480  0.563954\n",
       "3122  0.022754  0.010115  0.723289  0.035783  0.208059\n",
       "2228  0.063622  0.033124  0.493486  0.022314  0.387455"
      ]
     },
     "execution_count": 22,
     "metadata": {},
     "output_type": "execute_result"
    }
   ],
   "source": [
    "prob_predicts = model.predict_proba(test_tfidf_ngram)\n",
    "prob_predicts_df = pd.DataFrame(data=prob_predicts, index=test_article_ids)\n",
    "prob_predicts_df.to_csv('../predictions/article_body_prediction.csv')\n",
    "prob_predicts_df.head()"
   ]
  },
  {
   "cell_type": "markdown",
   "metadata": {},
   "source": [
    "# Late fusion\n",
    "Combine the prediction from three classifiers"
   ]
  },
  {
   "cell_type": "code",
   "execution_count": 42,
   "metadata": {},
   "outputs": [
    {
     "name": "stdout",
     "output_type": "stream",
     "text": [
      "(3826, 5)\n",
      "(2893, 5)\n",
      "(2893, 5)\n"
     ]
    }
   ],
   "source": [
    "title_prob_df = pd.read_csv('../predictions/title_prediction.csv', index_col='article_id')\n",
    "feature_prob_df = pd.read_csv('../predictions/features_prediction.csv', index_col='article_id')\n",
    "article_body_prob_df = prob_predicts_df.copy()\n",
    "print(title_prob_df.shape)\n",
    "print(feature_prob_df.shape)\n",
    "print(article_body_prob_df.shape)"
   ]
  },
  {
   "cell_type": "code",
   "execution_count": 40,
   "metadata": {},
   "outputs": [
    {
     "name": "stdout",
     "output_type": "stream",
     "text": [
      "(2893, 5)\n",
      "(933, 5)\n"
     ]
    }
   ],
   "source": [
    "matched_title_prob_df = title_prob_df.loc[feature_prob_df.index]\n",
    "matched_ids = title_prob_df.index.isin(matched_title_prob_df.index)\n",
    "unmatched_title_prob_df = title_prob_df[~matched_ids]\n",
    "print(matched_title_prob_df.shape)\n",
    "print(unmatched_title_prob_df.shape)"
   ]
  },
  {
   "cell_type": "code",
   "execution_count": 33,
   "metadata": {},
   "outputs": [
    {
     "data": {
      "text/plain": [
       "[[0.0, 0.0, 1.0],\n",
       " [0.01, 0.0, 0.99],\n",
       " [0.02, 0.0, 0.98],\n",
       " [0.03, 0.0, 0.97],\n",
       " [0.04, 0.0, 0.96]]"
      ]
     },
     "execution_count": 33,
     "metadata": {},
     "output_type": "execute_result"
    }
   ],
   "source": [
    "## Generate multiple sets of weights for text, description, and hashtags\n",
    "w_title_range = np.arange(0.0, 0.6, 0.01)\n",
    "w_article_body_range = np.arange(0, 0.4, 0.01)\n",
    "weight_sets = []\n",
    "\n",
    "for w_article_body in w_article_body_range:\n",
    "    for w_title in w_title_range:\n",
    "        weight_sets.append([w_title, w_article_body, 1 - w_title - w_article_body])\n",
    "weight_sets[:5]"
   ]
  },
  {
   "cell_type": "code",
   "execution_count": 41,
   "metadata": {},
   "outputs": [
    {
     "data": {
      "text/plain": [
       "array([[0.2538004 , 0.03950063, 0.21367529, 0.02257236, 0.47045133],\n",
       "       [0.07819359, 0.15902844, 0.2682253 , 0.06086434, 0.43368834],\n",
       "       [0.07713429, 0.04451456, 0.24779618, 0.06003981, 0.57051516],\n",
       "       ...,\n",
       "       [0.0265868 , 0.02076217, 0.08952271, 0.67264193, 0.19048634],\n",
       "       [0.02334936, 0.6398452 , 0.11418417, 0.03444034, 0.18818094],\n",
       "       [0.8091364 , 0.01016325, 0.07695226, 0.01566792, 0.08808017]])"
      ]
     },
     "execution_count": 41,
     "metadata": {},
     "output_type": "execute_result"
    }
   ],
   "source": [
    "## Search for optimal weights to be assigned to individual classifier\n",
    "y_num = np.array([int(cls[:-1]) for cls in y])\n",
    "accuracies = []\n",
    "for i in range(len(weight_sets)):\n",
    "    w_title, w_article_body, w_features = weight_sets[i]\n",
    "    combined_prob = w_title * matched_title_prob_df.values + w_article_body * article_body_prob_df.values + w_features * feature_prob_df.values\n",
    "    combined_pred = np.apply_along_axis(np.argmax, 1, combined_prob)\n",
    "\n",
    "\tavg_p = accuracy_score(y_num, combined_pred)\n",
    "\tavg_r = recall_score(y_num, combined_pred, average='macro')\n",
    "\tavg_f1 = f1_score(y_num, combined_pred, average='macro')\n",
    "\n",
    "\tprecisions.append(avg_p)\n",
    "\trecalls.append(avg_r)\n",
    "\tf1_scores.append(avg_f1)\n"
   ]
  },
  {
   "cell_type": "code",
   "execution_count": null,
   "metadata": {},
   "outputs": [],
   "source": []
  }
 ],
 "metadata": {
  "kernelspec": {
   "display_name": "Python 3",
   "language": "python",
   "name": "python3"
  },
  "language_info": {
   "codemirror_mode": {
    "name": "ipython",
    "version": 3
   },
   "file_extension": ".py",
   "mimetype": "text/x-python",
   "name": "python",
   "nbconvert_exporter": "python",
   "pygments_lexer": "ipython3",
   "version": "3.7.0"
  }
 },
 "nbformat": 4,
 "nbformat_minor": 2
}
