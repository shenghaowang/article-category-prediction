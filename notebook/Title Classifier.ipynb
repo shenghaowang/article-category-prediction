{
 "cells": [
  {
   "cell_type": "code",
   "execution_count": 1,
   "metadata": {},
   "outputs": [],
   "source": [
    "import os\n",
    "import numpy as np\n",
    "import pandas as pd\n",
    "import time\n",
    "from xgboost import XGBClassifier\n",
    "from sklearn.feature_extraction.text import TfidfVectorizer\n",
    "from sklearn.model_selection import KFold\n",
    "from sklearn.model_selection import train_test_split\n",
    "from sklearn.model_selection import GridSearchCV\n",
    "from sklearn.metrics import (classification_report, accuracy_score,\n",
    "                             precision_score, recall_score, f1_score)"
   ]
  },
  {
   "cell_type": "markdown",
   "metadata": {},
   "source": [
    "# Prepare training and test data"
   ]
  },
  {
   "cell_type": "code",
   "execution_count": 2,
   "metadata": {},
   "outputs": [
    {
     "name": "stdout",
     "output_type": "stream",
     "text": [
      "Loading article titles and their labels.\n"
     ]
    }
   ],
   "source": [
    "print(\"Loading article titles and their labels.\")\n",
    "train_articles_df = pd.read_csv('input/train_v2.csv', index_col='article_id')\n",
    "test_articles_df = pd.read_csv('input/test_v2.csv', index_col='article_id')\n",
    "\n",
    "x_train, x_val, y_train, y_val = train_test_split(train_articles_df[\"title\"], train_articles_df[\"category\"],\n",
    "                                                  test_size = 0.2)\n",
    "x_train = np.array(x_train)\n",
    "x_val = np.array(x_val)\n",
    "y_train = np.array(y_train)\n",
    "y_val = np.array(y_val)"
   ]
  },
  {
   "cell_type": "markdown",
   "metadata": {},
   "source": [
    "# Build baseline model"
   ]
  },
  {
   "cell_type": "code",
   "execution_count": 4,
   "metadata": {},
   "outputs": [
    {
     "name": "stdout",
     "output_type": "stream",
     "text": [
      "Constructing TF-IDF matrix for articles.\n",
      "Accuracy on training set 0.7451\n",
      "Accuracy on validation set 0.6625\n"
     ]
    }
   ],
   "source": [
    "print(\"Constructing TF-IDF matrix for articles.\")\n",
    "tfidf_vect_ngram = TfidfVectorizer(analyzer='word', token_pattern=r'\\w{1,}', ngram_range=(1,3), max_features=3500)\n",
    "tfidf_vect_ngram.fit(train_articles_df[\"title\"])\n",
    "train_tfidf_ngram = tfidf_vect_ngram.transform(x_train)\n",
    "val_tfidf_ngram = tfidf_vect_ngram.transform(x_val)\n",
    "base_model = XGBClassifier(max_depth=5, learning_rate=0.1, n_estimators=140).fit(train_tfidf_ngram, y_train)\n",
    "predicts = base_model.predict(train_tfidf_ngram)\n",
    "print(\"Accuracy on training set %s\" %round(accuracy_score(y_train, predicts), 4))\n",
    "predicts = base_model.predict(val_tfidf_ngram)\n",
    "print(\"Accuracy on validation set %s\" %round(accuracy_score(y_val, predicts), 4))"
   ]
  },
  {
   "cell_type": "markdown",
   "metadata": {},
   "source": [
    "# Parameter Tuning\n",
    "### max_depth and min_child_weight"
   ]
  },
  {
   "cell_type": "code",
   "execution_count": 4,
   "metadata": {},
   "outputs": [
    {
     "name": "stdout",
     "output_type": "stream",
     "text": [
      "[0.64570588 0.64383736 0.63740668 0.6486098  0.64798438 0.64342092\n",
      " 0.65213592 0.64881426 0.64425403 0.64819766 0.64529417 0.64072662]\n",
      "[{'max_depth': 3, 'min_child_weight': 1}, {'max_depth': 3, 'min_child_weight': 3}, {'max_depth': 3, 'min_child_weight': 5}, {'max_depth': 5, 'min_child_weight': 1}, {'max_depth': 5, 'min_child_weight': 3}, {'max_depth': 5, 'min_child_weight': 5}, {'max_depth': 7, 'min_child_weight': 1}, {'max_depth': 7, 'min_child_weight': 3}, {'max_depth': 7, 'min_child_weight': 5}, {'max_depth': 9, 'min_child_weight': 1}, {'max_depth': 9, 'min_child_weight': 3}, {'max_depth': 9, 'min_child_weight': 5}]\n",
      "{'max_depth': 7, 'min_child_weight': 1}\n",
      "0.652135918632812\n"
     ]
    }
   ],
   "source": [
    "param_test1 = {\n",
    "    'max_depth': range(3, 10, 2),\n",
    "    'min_child_weight': range(1, 6, 2)\n",
    "}\n",
    "# y_train_bi = label_binarize(y, classes=[0, 1, 2, 3])\n",
    "gsearch1 = GridSearchCV(estimator = XGBClassifier(learning_rate =0.1, n_estimators=140, max_depth=5,\n",
    "                                                  min_child_weight=1, gamma=0, subsample=0.8, \n",
    "                                                  colsample_bytree=0.8, nthread=4, scale_pos_weight=1, seed=27),\n",
    "                        param_grid = param_test1, n_jobs=4, scoring='accuracy', iid=False, cv=5)\n",
    "gsearch1.fit(train_tfidf_ngram, y_train)\n",
    "print(gsearch1.cv_results_['mean_test_score'])\n",
    "print(gsearch1.cv_results_['params'])\n",
    "print(gsearch1.best_params_)\n",
    "print(gsearch1.best_score_)"
   ]
  },
  {
   "cell_type": "code",
   "execution_count": 6,
   "metadata": {},
   "outputs": [
    {
     "name": "stdout",
     "output_type": "stream",
     "text": [
      "[0.64777928 0.64860915 0.64570738 0.64259211 0.64964672 0.65296773\n",
      " 0.6486098  0.64757116 0.65047336 0.6506804  0.65068169 0.64860808\n",
      " 0.64985203 0.65296493 0.65213592 0.65068536 0.6508967  0.6496493\n",
      " 0.64944614 0.65151523]\n",
      "[{'max_depth': 4, 'min_child_weight': 0.1}, {'max_depth': 4, 'min_child_weight': 0.5}, {'max_depth': 4, 'min_child_weight': 1}, {'max_depth': 4, 'min_child_weight': 2}, {'max_depth': 5, 'min_child_weight': 0.1}, {'max_depth': 5, 'min_child_weight': 0.5}, {'max_depth': 5, 'min_child_weight': 1}, {'max_depth': 5, 'min_child_weight': 2}, {'max_depth': 6, 'min_child_weight': 0.1}, {'max_depth': 6, 'min_child_weight': 0.5}, {'max_depth': 6, 'min_child_weight': 1}, {'max_depth': 6, 'min_child_weight': 2}, {'max_depth': 7, 'min_child_weight': 0.1}, {'max_depth': 7, 'min_child_weight': 0.5}, {'max_depth': 7, 'min_child_weight': 1}, {'max_depth': 7, 'min_child_weight': 2}, {'max_depth': 8, 'min_child_weight': 0.1}, {'max_depth': 8, 'min_child_weight': 0.5}, {'max_depth': 8, 'min_child_weight': 1}, {'max_depth': 8, 'min_child_weight': 2}]\n",
      "{'max_depth': 5, 'min_child_weight': 0.5}\n",
      "0.6529677344580704\n",
      "Elapsed time: %s seconds... 1134.9765\n"
     ]
    }
   ],
   "source": [
    "param_test2 = {\n",
    "    'max_depth': [4, 5, 6, 7, 8],\n",
    "    'min_child_weight': [0.1, 0.5, 1, 2]\n",
    "}\n",
    "start_time = time.time()\n",
    "gsearch2 = GridSearchCV(estimator = XGBClassifier(learning_rate =0.1, n_estimators=140, max_depth=5,\n",
    "                                                  min_child_weight=1, gamma=0, subsample=0.8, \n",
    "                                                  colsample_bytree=0.8, nthread=4, scale_pos_weight=1, seed=27),\n",
    "                        param_grid = param_test2, n_jobs=4, scoring='accuracy', iid=False, cv=5)\n",
    "gsearch2.fit(train_tfidf_ngram, y_train)\n",
    "print(gsearch2.cv_results_['mean_test_score'])\n",
    "print(gsearch2.cv_results_['params'])\n",
    "print(gsearch2.best_params_)\n",
    "print(gsearch2.best_score_)\n",
    "print(\"Elapsed time: %s seconds...\", round(time.time() - start_time, 4))"
   ]
  },
  {
   "cell_type": "markdown",
   "metadata": {},
   "source": [
    "### gamma"
   ]
  },
  {
   "cell_type": "code",
   "execution_count": 7,
   "metadata": {},
   "outputs": [
    {
     "name": "stdout",
     "output_type": "stream",
     "text": [
      "[0.6486098  0.65047616 0.64902647 0.64923092 0.64881684]\n",
      "[{'gamma': 0.0}, {'gamma': 0.1}, {'gamma': 0.2}, {'gamma': 0.3}, {'gamma': 0.4}]\n",
      "{'gamma': 0.1}\n",
      "0.6504761649136339\n",
      "Elapsed time: %s seconds... 238.445\n"
     ]
    }
   ],
   "source": [
    "param_test3 = {\n",
    "    'gamma':[i/10.0 for i in range(0,5)]\n",
    "}\n",
    "start_time = time.time()\n",
    "gsearch3 = GridSearchCV(estimator = XGBClassifier(learning_rate =0.1, n_estimators=140, max_depth=5,\n",
    "                                                  min_child_weight=1, gamma=0, subsample=0.8, \n",
    "                                                  colsample_bytree=0.8, nthread=4, scale_pos_weight=1, seed=27),\n",
    "                        param_grid = param_test3, n_jobs=4, scoring='accuracy', iid=False, cv=5)\n",
    "gsearch3.fit(train_tfidf_ngram, y_train)\n",
    "print(gsearch3.cv_results_['mean_test_score'])\n",
    "print(gsearch3.cv_results_['params'])\n",
    "print(gsearch3.best_params_)\n",
    "print(gsearch3.best_score_)\n",
    "print(\"Elapsed time: %s seconds...\", round(time.time() - start_time, 4))"
   ]
  },
  {
   "cell_type": "markdown",
   "metadata": {},
   "source": [
    "### colsample_bytree and subsample"
   ]
  },
  {
   "cell_type": "code",
   "execution_count": 10,
   "metadata": {},
   "outputs": [
    {
     "name": "stdout",
     "output_type": "stream",
     "text": [
      "[0.64944011 0.65026934 0.6521385  0.65359036 0.65005821 0.64861497\n",
      " 0.65068363 0.65192866 0.64529115 0.64653963 0.6486098  0.6486083\n",
      " 0.64632764 0.65171883 0.64943925 0.64860744]\n",
      "[{'colsample_bytree': 0.6, 'subsample': 0.6}, {'colsample_bytree': 0.6, 'subsample': 0.7}, {'colsample_bytree': 0.6, 'subsample': 0.8}, {'colsample_bytree': 0.6, 'subsample': 0.9}, {'colsample_bytree': 0.7, 'subsample': 0.6}, {'colsample_bytree': 0.7, 'subsample': 0.7}, {'colsample_bytree': 0.7, 'subsample': 0.8}, {'colsample_bytree': 0.7, 'subsample': 0.9}, {'colsample_bytree': 0.8, 'subsample': 0.6}, {'colsample_bytree': 0.8, 'subsample': 0.7}, {'colsample_bytree': 0.8, 'subsample': 0.8}, {'colsample_bytree': 0.8, 'subsample': 0.9}, {'colsample_bytree': 0.9, 'subsample': 0.6}, {'colsample_bytree': 0.9, 'subsample': 0.7}, {'colsample_bytree': 0.9, 'subsample': 0.8}, {'colsample_bytree': 0.9, 'subsample': 0.9}]\n",
      "{'colsample_bytree': 0.6, 'subsample': 0.9}\n",
      "0.6535903587725659\n",
      "Elapsed time: %s seconds... 689.6296\n"
     ]
    }
   ],
   "source": [
    "param_test4 = {\n",
    "    'subsample':[i/10.0 for i in range(6, 10)],\n",
    "    'colsample_bytree':[i/10.0 for i in range(6, 10)]\n",
    "}\n",
    "start_time = time.time()\n",
    "gsearch4 = GridSearchCV(estimator = XGBClassifier(learning_rate =0.1, n_estimators=140, max_depth=5,\n",
    "                                                  min_child_weight=1, gamma=0, subsample=0.8, \n",
    "                                                  colsample_bytree=0.8, nthread=4, scale_pos_weight=1, seed=27),\n",
    "                        param_grid = param_test4, n_jobs=4, scoring='accuracy', iid=False, cv=5)\n",
    "gsearch4.fit(train_tfidf_ngram, y_train)\n",
    "print(gsearch4.cv_results_['mean_test_score'])\n",
    "print(gsearch4.cv_results_['params'])\n",
    "print(gsearch4.best_params_)\n",
    "print(gsearch4.best_score_)\n",
    "print(\"Elapsed time: %s seconds...\", round(time.time() - start_time, 4))"
   ]
  },
  {
   "cell_type": "code",
   "execution_count": 11,
   "metadata": {},
   "outputs": [
    {
     "name": "stdout",
     "output_type": "stream",
     "text": [
      "[0.63927799 0.64238508 0.6463326  0.64529115 0.64072985 0.64425424\n",
      " 0.64467133 0.64632764 0.63990126 0.64425833 0.6423868  0.6498516 ]\n",
      "[{'colsample_bytree': 0.8, 'subsample': 0.3}, {'colsample_bytree': 0.8, 'subsample': 0.4}, {'colsample_bytree': 0.8, 'subsample': 0.5}, {'colsample_bytree': 0.8, 'subsample': 0.6}, {'colsample_bytree': 0.9, 'subsample': 0.3}, {'colsample_bytree': 0.9, 'subsample': 0.4}, {'colsample_bytree': 0.9, 'subsample': 0.5}, {'colsample_bytree': 0.9, 'subsample': 0.6}, {'colsample_bytree': 1.0, 'subsample': 0.3}, {'colsample_bytree': 1.0, 'subsample': 0.4}, {'colsample_bytree': 1.0, 'subsample': 0.5}, {'colsample_bytree': 1.0, 'subsample': 0.6}]\n",
      "{'colsample_bytree': 1.0, 'subsample': 0.6}\n",
      "0.6498516002925523\n",
      "Elapsed time: %s seconds... 520.1734\n"
     ]
    }
   ],
   "source": [
    "param_test5 = {\n",
    "    'subsample':[i/10.0 for i in range(3, 7)],\n",
    "    'colsample_bytree':[i/10.0 for i in range(8, 11)]\n",
    "}\n",
    "start_time = time.time()\n",
    "gsearch5 = GridSearchCV(estimator = XGBClassifier(learning_rate =0.1, n_estimators=140, max_depth=5,\n",
    "                                                  min_child_weight=1, gamma=0, subsample=0.8, \n",
    "                                                  colsample_bytree=0.8, nthread=4, scale_pos_weight=1, seed=27),\n",
    "                        param_grid = param_test5, n_jobs=4, scoring='accuracy', iid=False, cv=5)\n",
    "gsearch5.fit(train_tfidf_ngram, y_train)\n",
    "print(gsearch5.cv_results_['mean_test_score'])\n",
    "print(gsearch5.cv_results_['params'])\n",
    "print(gsearch5.best_params_)\n",
    "print(gsearch5.best_score_)\n",
    "print(\"Elapsed time: %s seconds...\", round(time.time() - start_time, 4))"
   ]
  },
  {
   "cell_type": "markdown",
   "metadata": {},
   "source": [
    "### regularization parameter"
   ]
  },
  {
   "cell_type": "code",
   "execution_count": 14,
   "metadata": {},
   "outputs": [
    {
     "name": "stdout",
     "output_type": "stream",
     "text": [
      "[0.6486098  0.64902388 0.65026805 0.64757332 0.48288454]\n",
      "[{'reg_alpha': 1e-05}, {'reg_alpha': 0.01}, {'reg_alpha': 0.1}, {'reg_alpha': 1}, {'reg_alpha': 100}]\n",
      "{'reg_alpha': 0.1}\n",
      "0.6502680470302425\n",
      "Elapsed time: %s seconds... 228.2328\n"
     ]
    }
   ],
   "source": [
    "param_test6 = {\n",
    "    'reg_alpha':[1e-5, 1e-2, 0.1, 1, 100]\n",
    "}\n",
    "start_time = time.time()\n",
    "gsearch6 = GridSearchCV(estimator = XGBClassifier(learning_rate =0.1, n_estimators=140, max_depth=5,\n",
    "                                                  min_child_weight=1, gamma=0, subsample=0.8, \n",
    "                                                  colsample_bytree=0.8, nthread=4, scale_pos_weight=1, seed=27),\n",
    "                        param_grid = param_test6, n_jobs=4, scoring='accuracy', iid=False, cv=5)\n",
    "gsearch6.fit(train_tfidf_ngram, y_train)\n",
    "print(gsearch6.cv_results_['mean_test_score'])\n",
    "print(gsearch6.cv_results_['params'])\n",
    "print(gsearch6.best_params_)\n",
    "print(gsearch6.best_score_)\n",
    "print(\"Elapsed time: %s seconds...\", round(time.time() - start_time, 4))"
   ]
  },
  {
   "cell_type": "code",
   "execution_count": 15,
   "metadata": {},
   "outputs": [
    {
     "name": "stdout",
     "output_type": "stream",
     "text": [
      "[0.6486098  0.64902388 0.6523408  0.65026805 0.6477782 ]\n",
      "[{'reg_alpha': 0}, {'reg_alpha': 0.01}, {'reg_alpha': 0.05}, {'reg_alpha': 0.1}, {'reg_alpha': 0.5}]\n",
      "{'reg_alpha': 0.05}\n",
      "0.6523408022249206\n",
      "Elapsed time: %s seconds... 237.7314\n"
     ]
    }
   ],
   "source": [
    "param_test7 = {\n",
    "    'reg_alpha':[0, 0.01, 0.05, 0.1, 0.5]\n",
    "}\n",
    "start_time = time.time()\n",
    "gsearch7 = GridSearchCV(estimator = XGBClassifier(learning_rate =0.1, n_estimators=140, max_depth=5,\n",
    "                                                  min_child_weight=1, gamma=0, subsample=0.8, \n",
    "                                                  colsample_bytree=0.8, nthread=4, scale_pos_weight=1, seed=27),\n",
    "                        param_grid = param_test7, n_jobs=4, scoring='accuracy', iid=False, cv=5)\n",
    "gsearch7.fit(train_tfidf_ngram, y_train)\n",
    "print(gsearch7.cv_results_['mean_test_score'])\n",
    "print(gsearch7.cv_results_['params'])\n",
    "print(gsearch7.best_params_)\n",
    "print(gsearch7.best_score_)\n",
    "print(\"Elapsed time: %s seconds...\", round(time.time() - start_time, 4))"
   ]
  },
  {
   "cell_type": "markdown",
   "metadata": {},
   "source": [
    "## Apply classifier with tuned parameters"
   ]
  },
  {
   "cell_type": "code",
   "execution_count": 6,
   "metadata": {},
   "outputs": [],
   "source": [
    "## Optimized parameters\n",
    "opt_max_depth = 5\n",
    "opt_min_child_weight = 0.5\n",
    "opt_gamma = 0.1\n",
    "opt_colsample_bytree = 0.6\n",
    "opt_subsample = 0.9\n",
    "opt_reg_alpha = 0.05"
   ]
  },
  {
   "cell_type": "code",
   "execution_count": 7,
   "metadata": {},
   "outputs": [
    {
     "ename": "XGBoostError",
     "evalue": "b'[08:44:24] /workspace/src/objective/multiclass_obj.cu:61: Check failed: preds.Size() == (static_cast<size_t>(param_.num_class) * info.labels_.Size()) SoftmaxMultiClassObj: label size and pred size does not match\\n\\nStack trace returned 10 entries:\\n[bt] (0) /home/swang/data_env/venv/xgboost/libxgboost.so(dmlc::StackTrace()+0x3d) [0x7f9150e415cd]\\n[bt] (1) /home/swang/data_env/venv/xgboost/libxgboost.so(dmlc::LogMessageFatal::~LogMessageFatal()+0x18) [0x7f9150e419c8]\\n[bt] (2) /home/swang/data_env/venv/xgboost/libxgboost.so(xgboost::obj::SoftmaxMultiClassObj::GetGradient(xgboost::HostDeviceVector<float> const&, xgboost::MetaInfo const&, int, xgboost::HostDeviceVector<xgboost::detail::GradientPairInternal<float> >*)+0x152) [0x7f9151027aa2]\\n[bt] (3) /home/swang/data_env/venv/xgboost/libxgboost.so(xgboost::LearnerImpl::UpdateOneIter(int, xgboost::DMatrix*)+0x362) [0x7f9150eb81e2]\\n[bt] (4) /home/swang/data_env/venv/xgboost/libxgboost.so(XGBoosterUpdateOneIter+0x35) [0x7f9150e39ab5]\\n[bt] (5) /usr/lib/x86_64-linux-gnu/libffi.so.6(ffi_call_unix64+0x4c) [0x7f919b332e40]\\n[bt] (6) /usr/lib/x86_64-linux-gnu/libffi.so.6(ffi_call+0x2eb) [0x7f919b3328ab]\\n[bt] (7) /home/swang/data_env/venv/lib/python3.6/lib-dynload/_ctypes.cpython-36m-x86_64-linux-gnu.so(_ctypes_callproc+0x2cf) [0x7f919b546cff]\\n[bt] (8) /home/swang/data_env/venv/lib/python3.6/lib-dynload/_ctypes.cpython-36m-x86_64-linux-gnu.so(+0x8c39) [0x7f919b53dc39]\\n[bt] (9) /home/swang/data_env/venv/bin/python3.6(_PyObject_FastCallDict+0xa2) [0x453412]\\n\\n'",
     "output_type": "error",
     "traceback": [
      "\u001b[0;31m---------------------------------------------------------------------------\u001b[0m",
      "\u001b[0;31mXGBoostError\u001b[0m                              Traceback (most recent call last)",
      "\u001b[0;32m<ipython-input-7-c0e331dba5de>\u001b[0m in \u001b[0;36m<module>\u001b[0;34m()\u001b[0m\n\u001b[1;32m      3\u001b[0m                        \u001b[0mmin_child_weight\u001b[0m\u001b[0;34m=\u001b[0m\u001b[0mopt_min_child_weight\u001b[0m\u001b[0;34m,\u001b[0m \u001b[0mgamma\u001b[0m\u001b[0;34m=\u001b[0m\u001b[0mopt_gamma\u001b[0m\u001b[0;34m,\u001b[0m \u001b[0msubsample\u001b[0m\u001b[0;34m=\u001b[0m\u001b[0mopt_subsample\u001b[0m\u001b[0;34m,\u001b[0m\u001b[0;34m\u001b[0m\u001b[0m\n\u001b[1;32m      4\u001b[0m                        \u001b[0mcolsample_bytree\u001b[0m\u001b[0;34m=\u001b[0m\u001b[0mopt_colsample_bytree\u001b[0m\u001b[0;34m,\u001b[0m \u001b[0mreg_alpha\u001b[0m\u001b[0;34m=\u001b[0m\u001b[0mopt_reg_alpha\u001b[0m\u001b[0;34m,\u001b[0m\u001b[0;34m\u001b[0m\u001b[0m\n\u001b[0;32m----> 5\u001b[0;31m                        nthread=4, scale_pos_weight=1, seed=27).fit(train_tfidf_ngram, y_train)\n\u001b[0m\u001b[1;32m      6\u001b[0m \u001b[0mpredicts\u001b[0m \u001b[0;34m=\u001b[0m \u001b[0mmodel2\u001b[0m\u001b[0;34m.\u001b[0m\u001b[0mpredict\u001b[0m\u001b[0;34m(\u001b[0m\u001b[0mtrain_tfidf_ngram\u001b[0m\u001b[0;34m)\u001b[0m\u001b[0;34m\u001b[0m\u001b[0m\n\u001b[1;32m      7\u001b[0m \u001b[0mprint\u001b[0m\u001b[0;34m(\u001b[0m\u001b[0;34m\"Training accuracy: %s\"\u001b[0m \u001b[0;34m%\u001b[0m\u001b[0mround\u001b[0m\u001b[0;34m(\u001b[0m\u001b[0maccuracy_score\u001b[0m\u001b[0;34m(\u001b[0m\u001b[0my_train\u001b[0m\u001b[0;34m,\u001b[0m \u001b[0mpredicts\u001b[0m\u001b[0;34m)\u001b[0m\u001b[0;34m,\u001b[0m \u001b[0;36m4\u001b[0m\u001b[0;34m)\u001b[0m\u001b[0;34m)\u001b[0m\u001b[0;34m\u001b[0m\u001b[0m\n",
      "\u001b[0;32m~/data_env/venv/lib/python3.6/site-packages/xgboost/sklearn.py\u001b[0m in \u001b[0;36mfit\u001b[0;34m(self, X, y, sample_weight, eval_set, eval_metric, early_stopping_rounds, verbose, xgb_model, sample_weight_eval_set, callbacks)\u001b[0m\n\u001b[1;32m    698\u001b[0m                               \u001b[0mevals_result\u001b[0m\u001b[0;34m=\u001b[0m\u001b[0mevals_result\u001b[0m\u001b[0;34m,\u001b[0m \u001b[0mobj\u001b[0m\u001b[0;34m=\u001b[0m\u001b[0mobj\u001b[0m\u001b[0;34m,\u001b[0m \u001b[0mfeval\u001b[0m\u001b[0;34m=\u001b[0m\u001b[0mfeval\u001b[0m\u001b[0;34m,\u001b[0m\u001b[0;34m\u001b[0m\u001b[0m\n\u001b[1;32m    699\u001b[0m                               \u001b[0mverbose_eval\u001b[0m\u001b[0;34m=\u001b[0m\u001b[0mverbose\u001b[0m\u001b[0;34m,\u001b[0m \u001b[0mxgb_model\u001b[0m\u001b[0;34m=\u001b[0m\u001b[0;32mNone\u001b[0m\u001b[0;34m,\u001b[0m\u001b[0;34m\u001b[0m\u001b[0m\n\u001b[0;32m--> 700\u001b[0;31m                               callbacks=callbacks)\n\u001b[0m\u001b[1;32m    701\u001b[0m \u001b[0;34m\u001b[0m\u001b[0m\n\u001b[1;32m    702\u001b[0m         \u001b[0mself\u001b[0m\u001b[0;34m.\u001b[0m\u001b[0mobjective\u001b[0m \u001b[0;34m=\u001b[0m \u001b[0mxgb_options\u001b[0m\u001b[0;34m[\u001b[0m\u001b[0;34m\"objective\"\u001b[0m\u001b[0;34m]\u001b[0m\u001b[0;34m\u001b[0m\u001b[0m\n",
      "\u001b[0;32m~/data_env/venv/lib/python3.6/site-packages/xgboost/training.py\u001b[0m in \u001b[0;36mtrain\u001b[0;34m(params, dtrain, num_boost_round, evals, obj, feval, maximize, early_stopping_rounds, evals_result, verbose_eval, xgb_model, callbacks, learning_rates)\u001b[0m\n\u001b[1;32m    214\u001b[0m                            \u001b[0mevals\u001b[0m\u001b[0;34m=\u001b[0m\u001b[0mevals\u001b[0m\u001b[0;34m,\u001b[0m\u001b[0;34m\u001b[0m\u001b[0m\n\u001b[1;32m    215\u001b[0m                            \u001b[0mobj\u001b[0m\u001b[0;34m=\u001b[0m\u001b[0mobj\u001b[0m\u001b[0;34m,\u001b[0m \u001b[0mfeval\u001b[0m\u001b[0;34m=\u001b[0m\u001b[0mfeval\u001b[0m\u001b[0;34m,\u001b[0m\u001b[0;34m\u001b[0m\u001b[0m\n\u001b[0;32m--> 216\u001b[0;31m                            xgb_model=xgb_model, callbacks=callbacks)\n\u001b[0m\u001b[1;32m    217\u001b[0m \u001b[0;34m\u001b[0m\u001b[0m\n\u001b[1;32m    218\u001b[0m \u001b[0;34m\u001b[0m\u001b[0m\n",
      "\u001b[0;32m~/data_env/venv/lib/python3.6/site-packages/xgboost/training.py\u001b[0m in \u001b[0;36m_train_internal\u001b[0;34m(params, dtrain, num_boost_round, evals, obj, feval, xgb_model, callbacks)\u001b[0m\n\u001b[1;32m     72\u001b[0m         \u001b[0;31m# Skip the first update if it is a recovery step.\u001b[0m\u001b[0;34m\u001b[0m\u001b[0;34m\u001b[0m\u001b[0m\n\u001b[1;32m     73\u001b[0m         \u001b[0;32mif\u001b[0m \u001b[0mversion\u001b[0m \u001b[0;34m%\u001b[0m \u001b[0;36m2\u001b[0m \u001b[0;34m==\u001b[0m \u001b[0;36m0\u001b[0m\u001b[0;34m:\u001b[0m\u001b[0;34m\u001b[0m\u001b[0m\n\u001b[0;32m---> 74\u001b[0;31m             \u001b[0mbst\u001b[0m\u001b[0;34m.\u001b[0m\u001b[0mupdate\u001b[0m\u001b[0;34m(\u001b[0m\u001b[0mdtrain\u001b[0m\u001b[0;34m,\u001b[0m \u001b[0mi\u001b[0m\u001b[0;34m,\u001b[0m \u001b[0mobj\u001b[0m\u001b[0;34m)\u001b[0m\u001b[0;34m\u001b[0m\u001b[0m\n\u001b[0m\u001b[1;32m     75\u001b[0m             \u001b[0mbst\u001b[0m\u001b[0;34m.\u001b[0m\u001b[0msave_rabit_checkpoint\u001b[0m\u001b[0;34m(\u001b[0m\u001b[0;34m)\u001b[0m\u001b[0;34m\u001b[0m\u001b[0m\n\u001b[1;32m     76\u001b[0m             \u001b[0mversion\u001b[0m \u001b[0;34m+=\u001b[0m \u001b[0;36m1\u001b[0m\u001b[0;34m\u001b[0m\u001b[0m\n",
      "\u001b[0;32m~/data_env/venv/lib/python3.6/site-packages/xgboost/core.py\u001b[0m in \u001b[0;36mupdate\u001b[0;34m(self, dtrain, iteration, fobj)\u001b[0m\n\u001b[1;32m   1043\u001b[0m         \u001b[0;32mif\u001b[0m \u001b[0mfobj\u001b[0m \u001b[0;32mis\u001b[0m \u001b[0;32mNone\u001b[0m\u001b[0;34m:\u001b[0m\u001b[0;34m\u001b[0m\u001b[0m\n\u001b[1;32m   1044\u001b[0m             _check_call(_LIB.XGBoosterUpdateOneIter(self.handle, ctypes.c_int(iteration),\n\u001b[0;32m-> 1045\u001b[0;31m                                                     dtrain.handle))\n\u001b[0m\u001b[1;32m   1046\u001b[0m         \u001b[0;32melse\u001b[0m\u001b[0;34m:\u001b[0m\u001b[0;34m\u001b[0m\u001b[0m\n\u001b[1;32m   1047\u001b[0m             \u001b[0mpred\u001b[0m \u001b[0;34m=\u001b[0m \u001b[0mself\u001b[0m\u001b[0;34m.\u001b[0m\u001b[0mpredict\u001b[0m\u001b[0;34m(\u001b[0m\u001b[0mdtrain\u001b[0m\u001b[0;34m)\u001b[0m\u001b[0;34m\u001b[0m\u001b[0m\n",
      "\u001b[0;32m~/data_env/venv/lib/python3.6/site-packages/xgboost/core.py\u001b[0m in \u001b[0;36m_check_call\u001b[0;34m(ret)\u001b[0m\n\u001b[1;32m    163\u001b[0m     \"\"\"\n\u001b[1;32m    164\u001b[0m     \u001b[0;32mif\u001b[0m \u001b[0mret\u001b[0m \u001b[0;34m!=\u001b[0m \u001b[0;36m0\u001b[0m\u001b[0;34m:\u001b[0m\u001b[0;34m\u001b[0m\u001b[0m\n\u001b[0;32m--> 165\u001b[0;31m         \u001b[0;32mraise\u001b[0m \u001b[0mXGBoostError\u001b[0m\u001b[0;34m(\u001b[0m\u001b[0m_LIB\u001b[0m\u001b[0;34m.\u001b[0m\u001b[0mXGBGetLastError\u001b[0m\u001b[0;34m(\u001b[0m\u001b[0;34m)\u001b[0m\u001b[0;34m)\u001b[0m\u001b[0;34m\u001b[0m\u001b[0m\n\u001b[0m\u001b[1;32m    166\u001b[0m \u001b[0;34m\u001b[0m\u001b[0m\n\u001b[1;32m    167\u001b[0m \u001b[0;34m\u001b[0m\u001b[0m\n",
      "\u001b[0;31mXGBoostError\u001b[0m: b'[08:44:24] /workspace/src/objective/multiclass_obj.cu:61: Check failed: preds.Size() == (static_cast<size_t>(param_.num_class) * info.labels_.Size()) SoftmaxMultiClassObj: label size and pred size does not match\\n\\nStack trace returned 10 entries:\\n[bt] (0) /home/swang/data_env/venv/xgboost/libxgboost.so(dmlc::StackTrace()+0x3d) [0x7f9150e415cd]\\n[bt] (1) /home/swang/data_env/venv/xgboost/libxgboost.so(dmlc::LogMessageFatal::~LogMessageFatal()+0x18) [0x7f9150e419c8]\\n[bt] (2) /home/swang/data_env/venv/xgboost/libxgboost.so(xgboost::obj::SoftmaxMultiClassObj::GetGradient(xgboost::HostDeviceVector<float> const&, xgboost::MetaInfo const&, int, xgboost::HostDeviceVector<xgboost::detail::GradientPairInternal<float> >*)+0x152) [0x7f9151027aa2]\\n[bt] (3) /home/swang/data_env/venv/xgboost/libxgboost.so(xgboost::LearnerImpl::UpdateOneIter(int, xgboost::DMatrix*)+0x362) [0x7f9150eb81e2]\\n[bt] (4) /home/swang/data_env/venv/xgboost/libxgboost.so(XGBoosterUpdateOneIter+0x35) [0x7f9150e39ab5]\\n[bt] (5) /usr/lib/x86_64-linux-gnu/libffi.so.6(ffi_call_unix64+0x4c) [0x7f919b332e40]\\n[bt] (6) /usr/lib/x86_64-linux-gnu/libffi.so.6(ffi_call+0x2eb) [0x7f919b3328ab]\\n[bt] (7) /home/swang/data_env/venv/lib/python3.6/lib-dynload/_ctypes.cpython-36m-x86_64-linux-gnu.so(_ctypes_callproc+0x2cf) [0x7f919b546cff]\\n[bt] (8) /home/swang/data_env/venv/lib/python3.6/lib-dynload/_ctypes.cpython-36m-x86_64-linux-gnu.so(+0x8c39) [0x7f919b53dc39]\\n[bt] (9) /home/swang/data_env/venv/bin/python3.6(_PyObject_FastCallDict+0xa2) [0x453412]\\n\\n'"
     ]
    }
   ],
   "source": [
    "start_time = time.time()\n",
    "model2 = XGBClassifier(learning_rate=0.1, n_estimators=140, max_depth=opt_max_depth, \n",
    "                       min_child_weight=opt_min_child_weight, gamma=opt_gamma, subsample=opt_subsample,\n",
    "                       colsample_bytree=opt_colsample_bytree, reg_alpha=opt_reg_alpha,\n",
    "                       nthread=4, scale_pos_weight=1, seed=27).fit(train_tfidf_ngram, y_train)\n",
    "predicts = model2.predict(train_tfidf_ngram)\n",
    "print(\"Training accuracy: %s\" %round(accuracy_score(y_train, predicts), 4))\n",
    "predicts = model2.predict(val_tfidf_ngram)\n",
    "print(\"Validation accuracy: %s\" %round(accuracy_score(y_val, predicts), 4))\n",
    "print(\"Elapsed time: %s seconds...\", round(time.time() - start_time, 4))"
   ]
  },
  {
   "cell_type": "markdown",
   "metadata": {},
   "source": [
    "## Predict on test dataset"
   ]
  },
  {
   "cell_type": "code",
   "execution_count": 8,
   "metadata": {},
   "outputs": [
    {
     "name": "stdout",
     "output_type": "stream",
     "text": [
      "Training accuracy: 0.7445\n",
      "[4 4 4 ... 1 4 0]\n",
      "Elapsed time: %s seconds... 2.6204\n"
     ]
    }
   ],
   "source": [
    "train_tfidf_ngram = tfidf_vect_ngram.transform(train_articles_df[\"title\"].str.lower())\n",
    "test_tfidf_ngram = tfidf_vect_ngram.transform(test_articles_df[\"title\"].str.lower())\n",
    "start_time = time.time()\n",
    "model3 = XGBClassifier(learning_rate=0.1, n_estimators=140, max_depth=opt_max_depth, \n",
    "                       min_child_weight=opt_min_child_weight, gamma=opt_gamma, subsample=opt_subsample,\n",
    "                       colsample_bytree=opt_colsample_bytree, reg_alpha=opt_reg_alpha,\n",
    "                       nthread=4, scale_pos_weight=1, seed=27).fit(train_tfidf_ngram, train_articles_df[\"category\"])\n",
    "predicts = model3.predict(train_tfidf_ngram)\n",
    "print(\"Training accuracy: %s\" %round(accuracy_score(train_articles_df[\"category\"], predicts), 4))\n",
    "test_predicts = model3.predict(test_tfidf_ngram)\n",
    "print(test_predicts)\n",
    "print(\"Elapsed time: %s seconds...\", round(time.time() - start_time, 4))"
   ]
  },
  {
   "cell_type": "code",
   "execution_count": 9,
   "metadata": {},
   "outputs": [
    {
     "data": {
      "text/plain": [
       "array([ 655,  207,  765,  259, 1940])"
      ]
     },
     "execution_count": 9,
     "metadata": {},
     "output_type": "execute_result"
    }
   ],
   "source": [
    "np.bincount(test_predicts)"
   ]
  },
  {
   "cell_type": "markdown",
   "metadata": {},
   "source": [
    "# Merge training set with confident test set prediction"
   ]
  },
  {
   "cell_type": "code",
   "execution_count": 26,
   "metadata": {},
   "outputs": [
    {
     "data": {
      "text/html": [
       "<div>\n",
       "<style scoped>\n",
       "    .dataframe tbody tr th:only-of-type {\n",
       "        vertical-align: middle;\n",
       "    }\n",
       "\n",
       "    .dataframe tbody tr th {\n",
       "        vertical-align: top;\n",
       "    }\n",
       "\n",
       "    .dataframe thead th {\n",
       "        text-align: right;\n",
       "    }\n",
       "</style>\n",
       "<table border=\"1\" class=\"dataframe\">\n",
       "  <thead>\n",
       "    <tr style=\"text-align: right;\">\n",
       "      <th></th>\n",
       "      <th>title</th>\n",
       "      <th>url</th>\n",
       "      <th>publisher</th>\n",
       "      <th>hostname</th>\n",
       "      <th>timestamp</th>\n",
       "      <th>category</th>\n",
       "    </tr>\n",
       "    <tr>\n",
       "      <th>article_id</th>\n",
       "      <th></th>\n",
       "      <th></th>\n",
       "      <th></th>\n",
       "      <th></th>\n",
       "      <th></th>\n",
       "      <th></th>\n",
       "    </tr>\n",
       "  </thead>\n",
       "  <tbody>\n",
       "    <tr>\n",
       "      <th>x5</th>\n",
       "      <td>Pilots get scrutiny</td>\n",
       "      <td>http://www.dispatch.com/content/stories/nation...</td>\n",
       "      <td>Columbus Dispatch</td>\n",
       "      <td>www.dispatch.com</td>\n",
       "      <td>1.400000e+12</td>\n",
       "      <td>4</td>\n",
       "    </tr>\n",
       "    <tr>\n",
       "      <th>x7</th>\n",
       "      <td>Stock futures down slightly; Coca-Cola cuts ex...</td>\n",
       "      <td>http://www.cleveland.com/business/index.ssf/20...</td>\n",
       "      <td>The Plain Dealer</td>\n",
       "      <td>www.cleveland.com</td>\n",
       "      <td>1.390000e+12</td>\n",
       "      <td>4</td>\n",
       "    </tr>\n",
       "    <tr>\n",
       "      <th>x8</th>\n",
       "      <td>Latest information on the investigation into t...</td>\n",
       "      <td>http://www.tribtown.com/view/story/db8d72c0706...</td>\n",
       "      <td>The Tribune</td>\n",
       "      <td>www.tribtown.com</td>\n",
       "      <td>1.400000e+12</td>\n",
       "      <td>4</td>\n",
       "    </tr>\n",
       "    <tr>\n",
       "      <th>x9</th>\n",
       "      <td>Citi upgrades JC Penney, says it's a comeback ...</td>\n",
       "      <td>http://bizbeatblog.dallasnews.com/2014/03/citi...</td>\n",
       "      <td>Dallas Morning News \\(blog\\)</td>\n",
       "      <td>bizbeatblog.dallasnews.com</td>\n",
       "      <td>1.390000e+12</td>\n",
       "      <td>4</td>\n",
       "    </tr>\n",
       "    <tr>\n",
       "      <th>x12</th>\n",
       "      <td>Official: Gunmen kill Afghan judge and bodyguard</td>\n",
       "      <td>http://www.postbulletin.com/news/world/officia...</td>\n",
       "      <td>Post-Bulletin</td>\n",
       "      <td>www.postbulletin.com</td>\n",
       "      <td>1.400000e+12</td>\n",
       "      <td>4</td>\n",
       "    </tr>\n",
       "  </tbody>\n",
       "</table>\n",
       "</div>"
      ],
      "text/plain": [
       "                                                        title  \\\n",
       "article_id                                                      \n",
       "x5                                        Pilots get scrutiny   \n",
       "x7          Stock futures down slightly; Coca-Cola cuts ex...   \n",
       "x8          Latest information on the investigation into t...   \n",
       "x9          Citi upgrades JC Penney, says it's a comeback ...   \n",
       "x12          Official: Gunmen kill Afghan judge and bodyguard   \n",
       "\n",
       "                                                          url  \\\n",
       "article_id                                                      \n",
       "x5          http://www.dispatch.com/content/stories/nation...   \n",
       "x7          http://www.cleveland.com/business/index.ssf/20...   \n",
       "x8          http://www.tribtown.com/view/story/db8d72c0706...   \n",
       "x9          http://bizbeatblog.dallasnews.com/2014/03/citi...   \n",
       "x12         http://www.postbulletin.com/news/world/officia...   \n",
       "\n",
       "                               publisher                    hostname  \\\n",
       "article_id                                                             \n",
       "x5                     Columbus Dispatch            www.dispatch.com   \n",
       "x7                      The Plain Dealer           www.cleveland.com   \n",
       "x8                           The Tribune            www.tribtown.com   \n",
       "x9          Dallas Morning News \\(blog\\)  bizbeatblog.dallasnews.com   \n",
       "x12                        Post-Bulletin        www.postbulletin.com   \n",
       "\n",
       "               timestamp  category  \n",
       "article_id                          \n",
       "x5          1.400000e+12         4  \n",
       "x7          1.390000e+12         4  \n",
       "x8          1.400000e+12         4  \n",
       "x9          1.390000e+12         4  \n",
       "x12         1.400000e+12         4  "
      ]
     },
     "execution_count": 26,
     "metadata": {},
     "output_type": "execute_result"
    }
   ],
   "source": [
    "prob_predicts = model3.predict_proba(test_tfidf_ngram)\n",
    "prob_mask = np.amax(prob_predicts, axis=1) > 0.6\n",
    "selected_test_sample_ids = [article_id[0] for article_id in np.argwhere(prob_mask)]\n",
    "selected_test_articles = test_articles_df.loc[selected_test_sample_ids]\n",
    "selected_test_articles['category'] = np.take(test_predicts, selected_test_sample_ids)\n",
    "id_mapper = {}\n",
    "for i in selected_test_articles.index:\n",
    "    id_mapper[i] = 'x' + str(i)\n",
    "selected_test_articles = selected_test_articles.rename(id_mapper)\n",
    "selected_test_articles.head()"
   ]
  },
  {
   "cell_type": "code",
   "execution_count": 27,
   "metadata": {},
   "outputs": [
    {
     "data": {
      "text/plain": [
       "(8500, 6)"
      ]
     },
     "execution_count": 27,
     "metadata": {},
     "output_type": "execute_result"
    }
   ],
   "source": [
    "merged_articles_df = pd.concat([train_articles_df, selected_test_articles])\n",
    "merged_articles_df.shape"
   ]
  },
  {
   "cell_type": "code",
   "execution_count": 29,
   "metadata": {},
   "outputs": [
    {
     "data": {
      "text/plain": [
       "(8500, 5)"
      ]
     },
     "execution_count": 29,
     "metadata": {},
     "output_type": "execute_result"
    }
   ],
   "source": [
    "kf = KFold(n_splits=10)\n",
    "title_pred = np.empty([0, 5])\n",
    "merged_tfidf_ngram = tfidf_vect_ngram.transform(merged_articles_df[\"title\"].str.lower())\n",
    "merged_articles_labels = merged_articles_df['category']\n",
    "for train, test in kf.split(merged_tfidf_ngram):\n",
    "    model = XGBClassifier(max_depth=5, learning_rate=0.1,\n",
    "                          n_estimators=140).fit(merged_tfidf_ngram[train], merged_articles_labels[train])\n",
    "    predicts = model.predict_proba(merged_tfidf_ngram[test])\n",
    "    title_pred = np.concatenate((title_pred, predicts))\n",
    "\n",
    "title_pred.shape"
   ]
  },
  {
   "cell_type": "code",
   "execution_count": 31,
   "metadata": {},
   "outputs": [
    {
     "data": {
      "text/html": [
       "<div>\n",
       "<style scoped>\n",
       "    .dataframe tbody tr th:only-of-type {\n",
       "        vertical-align: middle;\n",
       "    }\n",
       "\n",
       "    .dataframe tbody tr th {\n",
       "        vertical-align: top;\n",
       "    }\n",
       "\n",
       "    .dataframe thead th {\n",
       "        text-align: right;\n",
       "    }\n",
       "</style>\n",
       "<table border=\"1\" class=\"dataframe\">\n",
       "  <thead>\n",
       "    <tr style=\"text-align: right;\">\n",
       "      <th></th>\n",
       "      <th>0</th>\n",
       "      <th>1</th>\n",
       "      <th>2</th>\n",
       "      <th>3</th>\n",
       "      <th>4</th>\n",
       "      <th>category</th>\n",
       "    </tr>\n",
       "    <tr>\n",
       "      <th>article_id</th>\n",
       "      <th></th>\n",
       "      <th></th>\n",
       "      <th></th>\n",
       "      <th></th>\n",
       "      <th></th>\n",
       "      <th></th>\n",
       "    </tr>\n",
       "  </thead>\n",
       "  <tbody>\n",
       "    <tr>\n",
       "      <th>1</th>\n",
       "      <td>0.099625</td>\n",
       "      <td>0.245820</td>\n",
       "      <td>0.215641</td>\n",
       "      <td>0.061784</td>\n",
       "      <td>0.377129</td>\n",
       "      <td>4</td>\n",
       "    </tr>\n",
       "    <tr>\n",
       "      <th>2</th>\n",
       "      <td>0.121561</td>\n",
       "      <td>0.053441</td>\n",
       "      <td>0.207784</td>\n",
       "      <td>0.133026</td>\n",
       "      <td>0.484187</td>\n",
       "      <td>2</td>\n",
       "    </tr>\n",
       "    <tr>\n",
       "      <th>3</th>\n",
       "      <td>0.132974</td>\n",
       "      <td>0.025772</td>\n",
       "      <td>0.251020</td>\n",
       "      <td>0.086864</td>\n",
       "      <td>0.503370</td>\n",
       "      <td>4</td>\n",
       "    </tr>\n",
       "    <tr>\n",
       "      <th>4</th>\n",
       "      <td>0.113787</td>\n",
       "      <td>0.033448</td>\n",
       "      <td>0.106611</td>\n",
       "      <td>0.052538</td>\n",
       "      <td>0.693615</td>\n",
       "      <td>4</td>\n",
       "    </tr>\n",
       "    <tr>\n",
       "      <th>5</th>\n",
       "      <td>0.264567</td>\n",
       "      <td>0.017151</td>\n",
       "      <td>0.294841</td>\n",
       "      <td>0.050877</td>\n",
       "      <td>0.372564</td>\n",
       "      <td>4</td>\n",
       "    </tr>\n",
       "  </tbody>\n",
       "</table>\n",
       "</div>"
      ],
      "text/plain": [
       "                   0         1         2         3         4  category\n",
       "article_id                                                            \n",
       "1           0.099625  0.245820  0.215641  0.061784  0.377129         4\n",
       "2           0.121561  0.053441  0.207784  0.133026  0.484187         2\n",
       "3           0.132974  0.025772  0.251020  0.086864  0.503370         4\n",
       "4           0.113787  0.033448  0.106611  0.052538  0.693615         4\n",
       "5           0.264567  0.017151  0.294841  0.050877  0.372564         4"
      ]
     },
     "execution_count": 31,
     "metadata": {},
     "output_type": "execute_result"
    }
   ],
   "source": [
    "prob_predicts_df = pd.DataFrame(data=title_pred, index=merged_articles_df.index)\n",
    "prob_predicts_df['category'] = merged_articles_labels\n",
    "prob_predicts_df.head()"
   ]
  },
  {
   "cell_type": "code",
   "execution_count": 32,
   "metadata": {},
   "outputs": [],
   "source": [
    "prob_predicts_df.to_csv('../predictions/title_prediction2.csv')"
   ]
  },
  {
   "cell_type": "code",
   "execution_count": null,
   "metadata": {},
   "outputs": [],
   "source": []
  }
 ],
 "metadata": {
  "kernelspec": {
   "display_name": "Python 3",
   "language": "python",
   "name": "python3"
  },
  "language_info": {
   "codemirror_mode": {
    "name": "ipython",
    "version": 3
   },
   "file_extension": ".py",
   "mimetype": "text/x-python",
   "name": "python",
   "nbconvert_exporter": "python",
   "pygments_lexer": "ipython3",
   "version": "3.6.4"
  }
 },
 "nbformat": 4,
 "nbformat_minor": 2
}
