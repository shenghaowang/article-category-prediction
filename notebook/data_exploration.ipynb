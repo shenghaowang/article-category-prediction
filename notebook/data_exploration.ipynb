{
 "cells": [
  {
   "cell_type": "code",
   "execution_count": 1,
   "metadata": {},
   "outputs": [
    {
     "name": "stderr",
     "output_type": "stream",
     "text": [
      "D:\\ProgramData\\Anaconda3\\lib\\site-packages\\sklearn\\cross_validation.py:41: DeprecationWarning: This module was deprecated in version 0.18 in favor of the model_selection module into which all the refactored classes and functions are moved. Also note that the interface of the new CV iterators are different from that of this module. This module will be removed in 0.20.\n",
      "  \"This module will be removed in 0.20.\", DeprecationWarning)\n"
     ]
    }
   ],
   "source": [
    "import os\n",
    "import pandas as pd\n",
    "import numpy as np\n",
    "from sklearn import metrics,preprocessing\n",
    "from sklearn.cross_validation import train_test_split"
   ]
  },
  {
   "cell_type": "code",
   "execution_count": 16,
   "metadata": {},
   "outputs": [],
   "source": [
    "import matplotlib.pyplot as plt"
   ]
  },
  {
   "cell_type": "code",
   "execution_count": 2,
   "metadata": {},
   "outputs": [],
   "source": [
    "train_data = pd.read_csv(\"input/train_v2.csv\")\n",
    "test_data = pd.read_csv(\"input/test_v2.csv\")"
   ]
  },
  {
   "cell_type": "markdown",
   "metadata": {},
   "source": [
    "## data exploration"
   ]
  },
  {
   "cell_type": "code",
   "execution_count": 3,
   "metadata": {},
   "outputs": [
    {
     "data": {
      "text/html": [
       "<div>\n",
       "<style scoped>\n",
       "    .dataframe tbody tr th:only-of-type {\n",
       "        vertical-align: middle;\n",
       "    }\n",
       "\n",
       "    .dataframe tbody tr th {\n",
       "        vertical-align: top;\n",
       "    }\n",
       "\n",
       "    .dataframe thead th {\n",
       "        text-align: right;\n",
       "    }\n",
       "</style>\n",
       "<table border=\"1\" class=\"dataframe\">\n",
       "  <thead>\n",
       "    <tr style=\"text-align: right;\">\n",
       "      <th></th>\n",
       "      <th>article_id</th>\n",
       "      <th>timestamp</th>\n",
       "      <th>category</th>\n",
       "    </tr>\n",
       "  </thead>\n",
       "  <tbody>\n",
       "    <tr>\n",
       "      <th>count</th>\n",
       "      <td>6027.000000</td>\n",
       "      <td>6.027000e+03</td>\n",
       "      <td>6027.000000</td>\n",
       "    </tr>\n",
       "    <tr>\n",
       "      <th>mean</th>\n",
       "      <td>3014.000000</td>\n",
       "      <td>1.395019e+12</td>\n",
       "      <td>2.657043</td>\n",
       "    </tr>\n",
       "    <tr>\n",
       "      <th>std</th>\n",
       "      <td>1739.989368</td>\n",
       "      <td>5.000378e+09</td>\n",
       "      <td>1.428464</td>\n",
       "    </tr>\n",
       "    <tr>\n",
       "      <th>min</th>\n",
       "      <td>1.000000</td>\n",
       "      <td>1.390000e+12</td>\n",
       "      <td>0.000000</td>\n",
       "    </tr>\n",
       "    <tr>\n",
       "      <th>25%</th>\n",
       "      <td>1507.500000</td>\n",
       "      <td>1.390000e+12</td>\n",
       "      <td>2.000000</td>\n",
       "    </tr>\n",
       "    <tr>\n",
       "      <th>50%</th>\n",
       "      <td>3014.000000</td>\n",
       "      <td>1.400000e+12</td>\n",
       "      <td>3.000000</td>\n",
       "    </tr>\n",
       "    <tr>\n",
       "      <th>75%</th>\n",
       "      <td>4520.500000</td>\n",
       "      <td>1.400000e+12</td>\n",
       "      <td>4.000000</td>\n",
       "    </tr>\n",
       "    <tr>\n",
       "      <th>max</th>\n",
       "      <td>6027.000000</td>\n",
       "      <td>1.400000e+12</td>\n",
       "      <td>4.000000</td>\n",
       "    </tr>\n",
       "  </tbody>\n",
       "</table>\n",
       "</div>"
      ],
      "text/plain": [
       "        article_id     timestamp     category\n",
       "count  6027.000000  6.027000e+03  6027.000000\n",
       "mean   3014.000000  1.395019e+12     2.657043\n",
       "std    1739.989368  5.000378e+09     1.428464\n",
       "min       1.000000  1.390000e+12     0.000000\n",
       "25%    1507.500000  1.390000e+12     2.000000\n",
       "50%    3014.000000  1.400000e+12     3.000000\n",
       "75%    4520.500000  1.400000e+12     4.000000\n",
       "max    6027.000000  1.400000e+12     4.000000"
      ]
     },
     "execution_count": 3,
     "metadata": {},
     "output_type": "execute_result"
    }
   ],
   "source": [
    "train_data.describe()"
   ]
  },
  {
   "cell_type": "code",
   "execution_count": 4,
   "metadata": {},
   "outputs": [
    {
     "data": {
      "text/html": [
       "<div>\n",
       "<style scoped>\n",
       "    .dataframe tbody tr th:only-of-type {\n",
       "        vertical-align: middle;\n",
       "    }\n",
       "\n",
       "    .dataframe tbody tr th {\n",
       "        vertical-align: top;\n",
       "    }\n",
       "\n",
       "    .dataframe thead th {\n",
       "        text-align: right;\n",
       "    }\n",
       "</style>\n",
       "<table border=\"1\" class=\"dataframe\">\n",
       "  <thead>\n",
       "    <tr style=\"text-align: right;\">\n",
       "      <th></th>\n",
       "      <th>article_id</th>\n",
       "      <th>title</th>\n",
       "      <th>url</th>\n",
       "      <th>publisher</th>\n",
       "      <th>hostname</th>\n",
       "      <th>timestamp</th>\n",
       "      <th>category</th>\n",
       "    </tr>\n",
       "  </thead>\n",
       "  <tbody>\n",
       "    <tr>\n",
       "      <th>0</th>\n",
       "      <td>1</td>\n",
       "      <td>Forex - Pound drops to one-month lows against ...</td>\n",
       "      <td>http://www.nasdaq.com/article/forex-pound-drop...</td>\n",
       "      <td>NASDAQ</td>\n",
       "      <td>www.nasdaq.com</td>\n",
       "      <td>1.390000e+12</td>\n",
       "      <td>4</td>\n",
       "    </tr>\n",
       "    <tr>\n",
       "      <th>1</th>\n",
       "      <td>2</td>\n",
       "      <td>Hertz to Exit Equipment Rental Business in $2....</td>\n",
       "      <td>http://www.foxbusiness.com/industries/2014/03/...</td>\n",
       "      <td>Fox Business</td>\n",
       "      <td>www.foxbusiness.com</td>\n",
       "      <td>1.400000e+12</td>\n",
       "      <td>2</td>\n",
       "    </tr>\n",
       "    <tr>\n",
       "      <th>2</th>\n",
       "      <td>3</td>\n",
       "      <td>Gold ETF inflows return</td>\n",
       "      <td>http://www.resourceinvestor.com/2014/03/09/gol...</td>\n",
       "      <td>Resource Investor</td>\n",
       "      <td>www.resourceinvestor.com</td>\n",
       "      <td>1.390000e+12</td>\n",
       "      <td>4</td>\n",
       "    </tr>\n",
       "    <tr>\n",
       "      <th>3</th>\n",
       "      <td>4</td>\n",
       "      <td>Hackers call Mt. Gox CEO a liar, say he still ...</td>\n",
       "      <td>http://bgr.com/2014/03/10/mt-gox-fraud-accusat...</td>\n",
       "      <td>BGR</td>\n",
       "      <td>bgr.com</td>\n",
       "      <td>1.390000e+12</td>\n",
       "      <td>4</td>\n",
       "    </tr>\n",
       "    <tr>\n",
       "      <th>4</th>\n",
       "      <td>5</td>\n",
       "      <td>Gold Climbs To Near 6-Month High On Concerns A...</td>\n",
       "      <td>http://www.forbes.com/sites/kitconews/2014/03/...</td>\n",
       "      <td>Forbes</td>\n",
       "      <td>www.forbes.com</td>\n",
       "      <td>1.390000e+12</td>\n",
       "      <td>4</td>\n",
       "    </tr>\n",
       "  </tbody>\n",
       "</table>\n",
       "</div>"
      ],
      "text/plain": [
       "   article_id                                              title  \\\n",
       "0           1  Forex - Pound drops to one-month lows against ...   \n",
       "1           2  Hertz to Exit Equipment Rental Business in $2....   \n",
       "2           3                            Gold ETF inflows return   \n",
       "3           4  Hackers call Mt. Gox CEO a liar, say he still ...   \n",
       "4           5  Gold Climbs To Near 6-Month High On Concerns A...   \n",
       "\n",
       "                                                 url          publisher  \\\n",
       "0  http://www.nasdaq.com/article/forex-pound-drop...             NASDAQ   \n",
       "1  http://www.foxbusiness.com/industries/2014/03/...       Fox Business   \n",
       "2  http://www.resourceinvestor.com/2014/03/09/gol...  Resource Investor   \n",
       "3  http://bgr.com/2014/03/10/mt-gox-fraud-accusat...                BGR   \n",
       "4  http://www.forbes.com/sites/kitconews/2014/03/...             Forbes   \n",
       "\n",
       "                   hostname     timestamp  category  \n",
       "0            www.nasdaq.com  1.390000e+12         4  \n",
       "1       www.foxbusiness.com  1.400000e+12         2  \n",
       "2  www.resourceinvestor.com  1.390000e+12         4  \n",
       "3                   bgr.com  1.390000e+12         4  \n",
       "4            www.forbes.com  1.390000e+12         4  "
      ]
     },
     "execution_count": 4,
     "metadata": {},
     "output_type": "execute_result"
    }
   ],
   "source": [
    "train_data.head()"
   ]
  },
  {
   "cell_type": "code",
   "execution_count": 5,
   "metadata": {},
   "outputs": [
    {
     "data": {
      "text/html": [
       "<div>\n",
       "<style scoped>\n",
       "    .dataframe tbody tr th:only-of-type {\n",
       "        vertical-align: middle;\n",
       "    }\n",
       "\n",
       "    .dataframe tbody tr th {\n",
       "        vertical-align: top;\n",
       "    }\n",
       "\n",
       "    .dataframe thead th {\n",
       "        text-align: right;\n",
       "    }\n",
       "</style>\n",
       "<table border=\"1\" class=\"dataframe\">\n",
       "  <thead>\n",
       "    <tr style=\"text-align: right;\">\n",
       "      <th></th>\n",
       "      <th>article_id</th>\n",
       "      <th>title</th>\n",
       "      <th>url</th>\n",
       "      <th>publisher</th>\n",
       "      <th>hostname</th>\n",
       "      <th>timestamp</th>\n",
       "    </tr>\n",
       "  </thead>\n",
       "  <tbody>\n",
       "    <tr>\n",
       "      <th>0</th>\n",
       "      <td>1</td>\n",
       "      <td>White House plays down speedy role for US natu...</td>\n",
       "      <td>http://www.thestar.com.my/News/World/2014/03/0...</td>\n",
       "      <td>The Star Online</td>\n",
       "      <td>www.thestar.com.my</td>\n",
       "      <td>1.390000e+12</td>\n",
       "    </tr>\n",
       "    <tr>\n",
       "      <th>1</th>\n",
       "      <td>2</td>\n",
       "      <td>Asian Stocks Broadly Higher After Selloff</td>\n",
       "      <td>http://www.nasdaq.com/article/asian-stocks-bro...</td>\n",
       "      <td>NASDAQ</td>\n",
       "      <td>www.nasdaq.com</td>\n",
       "      <td>1.390000e+12</td>\n",
       "    </tr>\n",
       "    <tr>\n",
       "      <th>2</th>\n",
       "      <td>3</td>\n",
       "      <td>Herbalife Ltd. (HLF) Probe Earns Bill Ackman B...</td>\n",
       "      <td>http://www.valuewalk.com/2014/03/herbalife-ltd...</td>\n",
       "      <td>ValueWalk</td>\n",
       "      <td>www.valuewalk.com</td>\n",
       "      <td>1.390000e+12</td>\n",
       "    </tr>\n",
       "    <tr>\n",
       "      <th>3</th>\n",
       "      <td>4</td>\n",
       "      <td>BOE to Get Fourth Deputy Governor as Carney Fi...</td>\n",
       "      <td>http://www.businessweek.com/news/2014-03-11/bo...</td>\n",
       "      <td>Businessweek</td>\n",
       "      <td>www.businessweek.com</td>\n",
       "      <td>1.390000e+12</td>\n",
       "    </tr>\n",
       "    <tr>\n",
       "      <th>4</th>\n",
       "      <td>5</td>\n",
       "      <td>Pilots get scrutiny</td>\n",
       "      <td>http://www.dispatch.com/content/stories/nation...</td>\n",
       "      <td>Columbus Dispatch</td>\n",
       "      <td>www.dispatch.com</td>\n",
       "      <td>1.400000e+12</td>\n",
       "    </tr>\n",
       "  </tbody>\n",
       "</table>\n",
       "</div>"
      ],
      "text/plain": [
       "   article_id                                              title  \\\n",
       "0           1  White House plays down speedy role for US natu...   \n",
       "1           2          Asian Stocks Broadly Higher After Selloff   \n",
       "2           3  Herbalife Ltd. (HLF) Probe Earns Bill Ackman B...   \n",
       "3           4  BOE to Get Fourth Deputy Governor as Carney Fi...   \n",
       "4           5                                Pilots get scrutiny   \n",
       "\n",
       "                                                 url          publisher  \\\n",
       "0  http://www.thestar.com.my/News/World/2014/03/0...    The Star Online   \n",
       "1  http://www.nasdaq.com/article/asian-stocks-bro...             NASDAQ   \n",
       "2  http://www.valuewalk.com/2014/03/herbalife-ltd...          ValueWalk   \n",
       "3  http://www.businessweek.com/news/2014-03-11/bo...       Businessweek   \n",
       "4  http://www.dispatch.com/content/stories/nation...  Columbus Dispatch   \n",
       "\n",
       "               hostname     timestamp  \n",
       "0    www.thestar.com.my  1.390000e+12  \n",
       "1        www.nasdaq.com  1.390000e+12  \n",
       "2     www.valuewalk.com  1.390000e+12  \n",
       "3  www.businessweek.com  1.390000e+12  \n",
       "4      www.dispatch.com  1.400000e+12  "
      ]
     },
     "execution_count": 5,
     "metadata": {},
     "output_type": "execute_result"
    }
   ],
   "source": [
    "test_data.head()"
   ]
  },
  {
   "cell_type": "code",
   "execution_count": 7,
   "metadata": {},
   "outputs": [
    {
     "name": "stdout",
     "output_type": "stream",
     "text": [
      "6027\n",
      "1488\n"
     ]
    }
   ],
   "source": [
    "print(len(train_data['hostname']))\n",
    "print(len(train_data['hostname'].unique()))"
   ]
  },
  {
   "cell_type": "code",
   "execution_count": 71,
   "metadata": {},
   "outputs": [
    {
     "data": {
      "text/plain": [
       "<matplotlib.axes._subplots.AxesSubplot at 0x1a9649e8>"
      ]
     },
     "execution_count": 71,
     "metadata": {},
     "output_type": "execute_result"
    },
    {
     "data": {
      "image/png": "[encoded data removed]",
      "text/plain": [
       "<matplotlib.figure.Figure at 0x1a9640f0>"
      ]
     },
     "metadata": {},
     "output_type": "display_data"
    }
   ],
   "source": [
    "train_data.category.value_counts().plot(kind='bar')"
   ]
  },
  {
   "cell_type": "code",
   "execution_count": 18,
   "metadata": {
    "scrolled": true
   },
   "outputs": [
    {
     "data": {
      "text/plain": [
       "in.reuters.com                  87\n",
       "www.sfgate.com                  68\n",
       "www.nasdaq.com                  68\n",
       "www.businessweek.com            66\n",
       "www.globalpost.com              46\n",
       "www.reuters.com                 46\n",
       "www.bloomberg.com               44\n",
       "www.bizjournals.com             41\n",
       "www.rttnews.com                 39\n",
       "www.marketwatch.com             35\n",
       "blogs.wsj.com                   33\n",
       "www.forbes.com                  32\n",
       "www.investing.com               28\n",
       "online.wsj.com                  28\n",
       "www.cnbc.com                    27\n",
       "www.foxbusiness.com             26\n",
       "www.washingtonpost.com          25\n",
       "www.bbc.co.uk                   25\n",
       "www.lse.co.uk                   24\n",
       "www.fool.com                    24\n",
       "www.euronews.com                24\n",
       "www.valuewalk.com               24\n",
       "www.ibtimes.co.uk               23\n",
       "seekingalpha.com                23\n",
       "www.business-standard.com       23\n",
       "economictimes.indiatimes.com    23\n",
       "www.wdrb.com                    22\n",
       "www.newser.com                  21\n",
       "www.theglobeandmail.com         21\n",
       "www.streetinsider.com           21\n",
       "                                ..\n",
       "z6mag.com                        1\n",
       "www.autoworldnews.com            1\n",
       "www.theproducenews.com           1\n",
       "www.just-food.com                1\n",
       "www.myfoxtwincities.com          1\n",
       "thehotzoneusa.com                1\n",
       "www.missourinet.com              1\n",
       "www.breakingviews.com            1\n",
       "vtdigger.org                     1\n",
       "newsbusters.org                  1\n",
       "www.recordonline.com             1\n",
       "hometownsource.com               1\n",
       "www.kens5.com                    1\n",
       "www.forexlive.com                1\n",
       "www.technobuffalo.com            1\n",
       "www.wisn.com                     1\n",
       "www.postcrescent.com             1\n",
       "www.geelongadvertiser.com.au     1\n",
       "www.dailybreeze.com              1\n",
       "aviationblog.dallasnews.com      1\n",
       "feedfront.com                    1\n",
       "www.nhregister.com               1\n",
       "www.themalaysianinsider.com      1\n",
       "www.ecumenicalnews.com           1\n",
       "www.celebstoner.com              1\n",
       "uk.news.yahoo.com                1\n",
       "www.nationaljournal.com          1\n",
       "www.professionalpensions.com     1\n",
       "www.israelidiamond.co.il         1\n",
       "www.csoonline.com                1\n",
       "Name: hostname, Length: 1357, dtype: int64"
      ]
     },
     "execution_count": 18,
     "metadata": {},
     "output_type": "execute_result"
    }
   ],
   "source": [
    "train_data.hostname.value_counts()#.plot(kind='bar')\n",
    "#plt.show()"
   ]
  },
  {
   "cell_type": "code",
   "execution_count": null,
   "metadata": {},
   "outputs": [],
   "source": [
    "le_hostname = preprocessing.LabelEncoder() #transform a~z to 0~25\n",
    "le_hostname.fit(train_data['hostname'])"
   ]
  },
  {
   "cell_type": "code",
   "execution_count": null,
   "metadata": {},
   "outputs": [],
   "source": [
    "train_data['hostname_en'] = le_hostname.transform(train_data['hostname'])"
   ]
  },
  {
   "cell_type": "code",
   "execution_count": 37,
   "metadata": {},
   "outputs": [],
   "source": [
    "X=train_data['title']\n",
    "y=train_data['category']\n",
    "X_test=test_data['title']\n"
   ]
  },
  {
   "cell_type": "code",
   "execution_count": 84,
   "metadata": {
    "scrolled": true
   },
   "outputs": [
    {
     "data": {
      "text/plain": [
       "0       Forex - Pound drops to one-month lows against ...\n",
       "1       Hertz to Exit Equipment Rental Business in $2....\n",
       "2                                 Gold ETF inflows return\n",
       "3       Hackers call Mt. Gox CEO a liar, say he still ...\n",
       "4       Gold Climbs To Near 6-Month High On Concerns A...\n",
       "5       JC Penney Gains as Citigroup Analyst Upgrades ...\n",
       "6       The evil genius of Candy Crush's $7.6 billion ...\n",
       "7       Ukraine Crisis: LNG Stocks in Focus - Analyst ...\n",
       "8                  Vodafone Agrees to Acquire Spain's Ono\n",
       "9       Silicon Valley billionaire's life insured for ...\n",
       "10             Marijuana yields $2m in taxes for Colorado\n",
       "11      Mercedes-Benz mulls three-cylinder hybrid powe...\n",
       "12      Major Averages Stage Recovery Attempt But Fini...\n",
       "13      U.S. futures mixed to lower, Chinese data weig...\n",
       "14      Will Antitrust Unravel the Jos. A. Bank/Men's ...\n",
       "15      New York Metro-North worker struck and killed ...\n",
       "16      Plane search expands from Australia to Kazakhstan\n",
       "17      Norfolk-based destroyer to aid tanker seized b...\n",
       "18      Malaysia refutes reports that Malaysia Airline...\n",
       "19      Futures Pointing To Continued Weakness On Wall...\n",
       "20      SEC Asks Municipal Bond Sellers to Report Disc...\n",
       "21                             Mt.Gox is back ... sort of\n",
       "22      Persisting Ukraine crisis may fuel energy poli...\n",
       "23        Amazon raising Prime membership to $99 per year\n",
       "24        World shares capped by disappointing China data\n",
       "25                    Belvidere Chrysler Layoffs Extended\n",
       "26           Starbucks adding digital tips next Wednesday\n",
       "27              LA Sues Time Warner Cable for $10 Million\n",
       "28      MARKET COMMENT: UK Stocks Fall Amid Mixed UK, ...\n",
       "29      US Navy Seals take control of oil tanker hijac...\n",
       "                              ...                        \n",
       "5997            Budget 2014: Osborne reveals new ??1 coin\n",
       "5998    Airbnb Valued at $10B in Latest Round of Finan...\n",
       "5999               UNEMPLOYMENT RATE: Slight Rise In Iowa\n",
       "6000    Turkey's PM Erdogan threatens to wipe out Twitter\n",
       "6001    Mt. Gox has found 200000 bitcoins worth around...\n",
       "6002    Oracle Drops 6%: FYQ3 Revenue $9.3B Misses; EP...\n",
       "6003        Walmart Will Soon Enter The Trade-In Business\n",
       "6004    Zions Says Federal Reserve Estimates Worse Tha...\n",
       "6005    Florida loses 2600 jobs in January, but unempl...\n",
       "6006    Walmart now accepting used video games as trad...\n",
       "6007    NY attorney general probes high-speed stock tr...\n",
       "6008         Jobless rate falls to 6.4 percent in Indiana\n",
       "6009    Shutdown of social media 'cannot be approved,'...\n",
       "6010    Ousted Symantec (SYMC) CEO Bennet May Have $18...\n",
       "6011                    AP News in Brief at 5:58 p.m. EDT\n",
       "6012     Indiana's Unemployment Rate Drops To 6.4 Percent\n",
       "6013    Florida Unemployment Drops to Lowest Rate Sinc...\n",
       "6014        White House Conducts Press Briefing, March 18\n",
       "6015    Many Of Oracle's Employees Are Not Getting The...\n",
       "6016      Kansas unemployment dropped slightly in January\n",
       "6017    Airbnb looking at $10 billion valuation in lat...\n",
       "6018    French satellite 'radar echoes' may have found...\n",
       "6019    Mulberry boss Guillon steps down after failing...\n",
       "6020    Turkish people strike back, tweeting against T...\n",
       "6021    Ousted Symantec (SYMC) CEO Bennet May Have $18...\n",
       "6022    USS Elrod relieves USS Stout in escorting hija...\n",
       "6023    Mortgage Rates Flat Today at US Bank, Chase an...\n",
       "6024    Bitcoin Software Modified To Make Sure Mt. Gox...\n",
       "6025                    The Death Knelling Over Citi Bike\n",
       "6026    Unemployment in metro Fort Wayne rose slightly...\n",
       "Name: title, Length: 6027, dtype: object"
      ]
     },
     "execution_count": 84,
     "metadata": {},
     "output_type": "execute_result"
    }
   ],
   "source": [
    "X"
   ]
  },
  {
   "cell_type": "markdown",
   "metadata": {},
   "source": [
    "# # sentence to word vector"
   ]
  },
  {
   "cell_type": "code",
   "execution_count": 9,
   "metadata": {},
   "outputs": [],
   "source": [
    "from sklearn.feature_extraction.text import CountVectorizer"
   ]
  },
  {
   "cell_type": "code",
   "execution_count": 38,
   "metadata": {},
   "outputs": [],
   "source": [
    "# Initialize a CountVectorizer object: count_vectorizer\n",
    "count_vec = CountVectorizer(stop_words=\"english\", analyzer='word', \n",
    "                            ngram_range=(1, 1), max_df=1, min_df=1, max_features=None)\n",
    "\n",
    "# Transforms the data into a bag of words\n",
    "count_train = count_vec.fit(X)\n",
    "X_vector = count_vec.transform(X)\n",
    "#count_vec.get_feature_names()\n",
    "X_test_vector = count_vec.transform(X_test)"
   ]
  },
  {
   "cell_type": "code",
   "execution_count": 11,
   "metadata": {},
   "outputs": [
    {
     "data": {
      "text/plain": [
       "1967"
      ]
     },
     "execution_count": 11,
     "metadata": {},
     "output_type": "execute_result"
    }
   ],
   "source": [
    "len(count_vec.get_feature_names())"
   ]
  },
  {
   "cell_type": "code",
   "execution_count": 65,
   "metadata": {},
   "outputs": [
    {
     "data": {
      "text/plain": [
       "['004', '009', '021', '028', '0318', '038', '041', '05', '0645', '0658']"
      ]
     },
     "execution_count": 65,
     "metadata": {},
     "output_type": "execute_result"
    }
   ],
   "source": [
    "count_vec.get_feature_names()[:10]"
   ]
  },
  {
   "cell_type": "code",
   "execution_count": 70,
   "metadata": {
    "scrolled": true
   },
   "outputs": [
    {
     "data": {
      "text/plain": [
       "['westhus',\n",
       " 'westminster',\n",
       " 'wheat',\n",
       " 'wheaton',\n",
       " 'wheels',\n",
       " 'whimper',\n",
       " 'whiskey',\n",
       " 'whistling',\n",
       " 'whiz',\n",
       " 'wide',\n",
       " 'widely',\n",
       " 'widen',\n",
       " 'wider',\n",
       " 'william',\n",
       " 'wilts',\n",
       " 'winner',\n",
       " 'winning',\n",
       " 'wintertime',\n",
       " 'wiring',\n",
       " 'wisdom',\n",
       " 'wisdomtree',\n",
       " 'wise',\n",
       " 'withheld',\n",
       " 'wm',\n",
       " 'wmbfnews',\n",
       " 'women',\n",
       " 'wonder',\n",
       " 'wonkbook',\n",
       " 'worked',\n",
       " 'workshop',\n",
       " 'worldwide',\n",
       " 'worst',\n",
       " 'wouldn',\n",
       " 'write',\n",
       " 'writedown',\n",
       " 'wrongdoing',\n",
       " 'wrote',\n",
       " 'wsmv',\n",
       " 'wti',\n",
       " 'xiaojia',\n",
       " 'xs',\n",
       " 'yankee',\n",
       " 'yanks',\n",
       " 'yearly',\n",
       " 'yelp',\n",
       " 'yemen',\n",
       " 'yield',\n",
       " 'yields',\n",
       " 'zacks',\n",
       " 'zealand']"
      ]
     },
     "execution_count": 70,
     "metadata": {},
     "output_type": "execute_result"
    }
   ],
   "source": [
    "count_vec.get_feature_names()[-50:]"
   ]
  },
  {
   "cell_type": "markdown",
   "metadata": {},
   "source": [
    "TODO: use en.lemma to reduce the total number of feature names by combining similar words such as write and wrote, yield and yields"
   ]
  },
  {
   "cell_type": "code",
   "execution_count": 60,
   "metadata": {},
   "outputs": [
    {
     "name": "stdout",
     "output_type": "stream",
     "text": [
      "eat\n"
     ]
    }
   ],
   "source": [
    "#preperation:\n",
    "#install microsoft C++ builder from https://visualstudio.microsoft.com/visual-cpp-build-tools/\n",
    "#pip install --only-binary :all: mysqlclient\n",
    "#pip install pattern\n",
    "import pattern.en as en\n",
    "base_form = en.lemma('Ate') # base_form == \"eat\"\n",
    "print(base_form)"
   ]
  },
  {
   "cell_type": "code",
   "execution_count": 61,
   "metadata": {},
   "outputs": [],
   "source": [
    "from nltk.corpus import stopwords\n",
    "import string\n",
    "def text_process(mess):\n",
    "    \"\"\"\n",
    "    Takes in a string of text, then performs the following:\n",
    "    1. Remove all punctuation\n",
    "    2. Remove all stopwords\n",
    "    3. Returns a list of the cleaned text\n",
    "    \"\"\"\n",
    "    # Check characters to see if they are in punctuation\n",
    "    nopunc = [char for char in mess if char not in string.punctuation]\n",
    "\n",
    "    # Join the characters again to form the string.\n",
    "    nopunc = ''.join(nopunc)\n",
    "    \n",
    "    # Now just remove any stopwords\n",
    "    return [en.lemma(word) for word in nopunc.split() if word.lower() not in stopwords.words('english')]"
   ]
  },
  {
   "cell_type": "code",
   "execution_count": 62,
   "metadata": {},
   "outputs": [
    {
     "data": {
      "text/plain": [
       "['great', 'time', 'park', 'time']"
      ]
     },
     "execution_count": 62,
     "metadata": {},
     "output_type": "execute_result"
    }
   ],
   "source": [
    "text_process(\"He is ::having a great Time, at the park time?\")"
   ]
  },
  {
   "cell_type": "code",
   "execution_count": 58,
   "metadata": {},
   "outputs": [
    {
     "name": "stdout",
     "output_type": "stream",
     "text": [
      "[nltk_data] Downloading package stopwords to\n",
      "[nltk_data]     C:\\Users\\ZQS\\AppData\\Roaming\\nltk_data...\n",
      "[nltk_data]   Unzipping corpora\\stopwords.zip.\n"
     ]
    },
    {
     "data": {
      "text/plain": [
       "True"
      ]
     },
     "execution_count": 58,
     "metadata": {},
     "output_type": "execute_result"
    }
   ],
   "source": [
    "import nltk\n",
    "nltk.download('stopwords')"
   ]
  },
  {
   "cell_type": "code",
   "execution_count": 79,
   "metadata": {},
   "outputs": [
    {
     "name": "stdout",
     "output_type": "stream",
     "text": [
      "[[0 0 0 ... 0 0 0]]\n"
     ]
    }
   ],
   "source": [
    "print(X_vector.toarray()[0:1])"
   ]
  },
  {
   "cell_type": "markdown",
   "metadata": {},
   "source": [
    "# do training and prediction"
   ]
  },
  {
   "cell_type": "code",
   "execution_count": 35,
   "metadata": {},
   "outputs": [],
   "source": [
    "X_train, X_vali, y_train, y_vali = train_test_split(X_vector.toarray(), y, test_size= 0.2, random_state=13)"
   ]
  },
  {
   "cell_type": "code",
   "execution_count": 15,
   "metadata": {},
   "outputs": [],
   "source": [
    "from sklearn.cross_validation import train_test_split\n",
    "from sklearn.neighbors import KNeighborsClassifier\n",
    "from sklearn import metrics\n",
    "from sklearn.linear_model import LogisticRegression\n",
    "from sklearn.cross_validation import KFold\n"
   ]
  },
  {
   "cell_type": "code",
   "execution_count": 16,
   "metadata": {},
   "outputs": [
    {
     "name": "stdout",
     "output_type": "stream",
     "text": [
      "0.2777777777777778\n"
     ]
    }
   ],
   "source": [
    "knn = KNeighborsClassifier(n_neighbors=1,weights='distance')\n",
    "knn.fit(X_train, y_train)\n",
    "y_pred = knn.predict(X_vali)\n",
    "print(metrics.accuracy_score(y_vali, y_pred))"
   ]
  },
  {
   "cell_type": "code",
   "execution_count": 19,
   "metadata": {},
   "outputs": [],
   "source": [
    "import xgboost as xgb\n",
    "from xgboost.sklearn import XGBClassifier"
   ]
  },
  {
   "cell_type": "code",
   "execution_count": 36,
   "metadata": {},
   "outputs": [
    {
     "name": "stdout",
     "output_type": "stream",
     "text": [
      "(4821, 1967)\n",
      "(4821,)\n",
      "(1206, 1967)\n",
      "(1206,)\n"
     ]
    }
   ],
   "source": [
    "print(X_train.shape)\n",
    "print(y_train.shape)\n",
    "print(X_vali.shape)\n",
    "print(y_vali.shape)"
   ]
  },
  {
   "cell_type": "code",
   "execution_count": 56,
   "metadata": {},
   "outputs": [
    {
     "name": "stdout",
     "output_type": "stream",
     "text": [
      "[0]\ttrain-merror:0.549264\tvali-merror:0.541459\n",
      "[1]\ttrain-merror:0.549264\tvali-merror:0.541459\n",
      "[2]\ttrain-merror:0.549264\tvali-merror:0.541459\n",
      "[3]\ttrain-merror:0.549264\tvali-merror:0.541459\n",
      "[4]\ttrain-merror:0.549264\tvali-merror:0.541459\n"
     ]
    }
   ],
   "source": [
    "xg_train = xgb.DMatrix(X_train, label=y_train)\n",
    "xg_vali = xgb.DMatrix(X_vali, label=y_vali)\n",
    "param = {}\n",
    "# use softmax multi-class classification\n",
    "param['objective'] = 'multi:softmax'\n",
    "# scale weight of positive examples\n",
    "param['eta'] = 0.1\n",
    "param['max_depth'] = 6\n",
    "param['silent'] = 1\n",
    "param['nthread'] = 4\n",
    "param['num_class'] = 5\n",
    "watchlist = [(xg_train, 'train'), (xg_vali, 'vali')]\n",
    "num_round = 5\n",
    "bst = xgb.train(param, xg_train, num_round, watchlist)"
   ]
  },
  {
   "cell_type": "code",
   "execution_count": 57,
   "metadata": {},
   "outputs": [
    {
     "name": "stdout",
     "output_type": "stream",
     "text": [
      "Test error using softmax = 0.5414593698175788\n"
     ]
    }
   ],
   "source": [
    "pred = bst.predict(xg_vali)\n",
    "error_rate = np.sum(pred != y_vali) / y_vali.shape[0]\n",
    "print('Test error using softmax = {}'.format(error_rate))"
   ]
  },
  {
   "cell_type": "code",
   "execution_count": null,
   "metadata": {},
   "outputs": [],
   "source": []
  },
  {
   "cell_type": "code",
   "execution_count": 58,
   "metadata": {},
   "outputs": [],
   "source": [
    "xg_test = xgb.DMatrix(X_test_vector)"
   ]
  },
  {
   "cell_type": "code",
   "execution_count": 59,
   "metadata": {},
   "outputs": [],
   "source": [
    "y_test = bst.predict(xg_test)"
   ]
  },
  {
   "cell_type": "code",
   "execution_count": 64,
   "metadata": {},
   "outputs": [],
   "source": [
    "y_test=y_test.astype(np.int32)"
   ]
  },
  {
   "cell_type": "code",
   "execution_count": 65,
   "metadata": {},
   "outputs": [],
   "source": [
    "test_data['category']=y_test"
   ]
  },
  {
   "cell_type": "code",
   "execution_count": 66,
   "metadata": {},
   "outputs": [
    {
     "name": "stdout",
     "output_type": "stream",
     "text": [
      "int32\n"
     ]
    }
   ],
   "source": [
    "print(y_test.dtype)"
   ]
  },
  {
   "cell_type": "code",
   "execution_count": 67,
   "metadata": {},
   "outputs": [],
   "source": [
    "out=pd.DataFrame(test_data,columns=['article_id','category'])\n",
    "out.to_csv('prediction.csv',index=False)"
   ]
  },
  {
   "cell_type": "code",
   "execution_count": null,
   "metadata": {},
   "outputs": [],
   "source": []
  }
 ],
 "metadata": {
  "kernelspec": {
   "display_name": "Python 3",
   "language": "python",
   "name": "python3"
  },
  "language_info": {
   "codemirror_mode": {
    "name": "ipython",
    "version": 3
   },
   "file_extension": ".py",
   "mimetype": "text/x-python",
   "name": "python",
   "nbconvert_exporter": "python",
   "pygments_lexer": "ipython3",
   "version": "3.6.4"
  }
 },
 "nbformat": 4,
 "nbformat_minor": 2
}
