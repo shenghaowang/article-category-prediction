{
 "cells": [
  {
   "cell_type": "markdown",
   "metadata": {},
   "source": [
    "# Read in Data"
   ]
  },
  {
   "cell_type": "code",
   "execution_count": 1,
   "metadata": {},
   "outputs": [],
   "source": [
    "import os\n",
    "import pandas as pd\n",
    "import numpy as np\n",
    "import xgboost\n",
    "\n",
    "from sklearn import metrics,preprocessing\n",
    "from sklearn.model_selection import train_test_split, StratifiedShuffleSplit, StratifiedKFold\n",
    "from sklearn.preprocessing import OneHotEncoder\n",
    "from sklearn.ensemble import RandomForestClassifier\n",
    "from sklearn.svm import SVC\n",
    "from sklearn.feature_extraction.text import CountVectorizer, TfidfVectorizer\n",
    "from sklearn.naive_bayes import MultinomialNB\n",
    "from sklearn.linear_model import LogisticRegression\n",
    "from sklearn.metrics import accuracy_score, confusion_matrix, fbeta_score\n",
    "from sklearn.cluster import KMeans\n",
    "from sklearn.neighbors import KNeighborsClassifier\n",
    "\n",
    "from imblearn.over_sampling import ADASYN, SMOTE, RandomOverSampler\n",
    "\n",
    "from nltk.corpus import stopwords\n",
    "import nltk\n",
    "from nltk.stem import WordNetLemmatizer, SnowballStemmer, PorterStemmer, LancasterStemmer\n",
    "\n",
    "import gensim\n",
    "\n",
    "import matplotlib.pyplot as plt\n",
    "%matplotlib inline"
   ]
  },
  {
   "cell_type": "code",
   "execution_count": 2,
   "metadata": {
    "collapsed": true
   },
   "outputs": [],
   "source": [
    "train_data = pd.read_csv(\"../input/train_v2.csv\")\n",
    "test_data = pd.read_csv(\"../input/test_v2.csv\")"
   ]
  },
  {
   "cell_type": "code",
   "execution_count": 3,
   "metadata": {},
   "outputs": [
    {
     "data": {
      "text/html": [
       "<div>\n",
       "<style scoped>\n",
       "    .dataframe tbody tr th:only-of-type {\n",
       "        vertical-align: middle;\n",
       "    }\n",
       "\n",
       "    .dataframe tbody tr th {\n",
       "        vertical-align: top;\n",
       "    }\n",
       "\n",
       "    .dataframe thead th {\n",
       "        text-align: right;\n",
       "    }\n",
       "</style>\n",
       "<table border=\"1\" class=\"dataframe\">\n",
       "  <thead>\n",
       "    <tr style=\"text-align: right;\">\n",
       "      <th></th>\n",
       "      <th>article_id</th>\n",
       "      <th>title</th>\n",
       "      <th>url</th>\n",
       "      <th>publisher</th>\n",
       "      <th>hostname</th>\n",
       "      <th>timestamp</th>\n",
       "      <th>category</th>\n",
       "    </tr>\n",
       "  </thead>\n",
       "  <tbody>\n",
       "    <tr>\n",
       "      <th>0</th>\n",
       "      <td>1</td>\n",
       "      <td>Forex - Pound drops to one-month lows against ...</td>\n",
       "      <td>http://www.nasdaq.com/article/forex-pound-drop...</td>\n",
       "      <td>NASDAQ</td>\n",
       "      <td>www.nasdaq.com</td>\n",
       "      <td>1.390000e+12</td>\n",
       "      <td>4</td>\n",
       "    </tr>\n",
       "  </tbody>\n",
       "</table>\n",
       "</div>"
      ],
      "text/plain": [
       "   article_id                                              title  \\\n",
       "0           1  Forex - Pound drops to one-month lows against ...   \n",
       "\n",
       "                                                 url publisher  \\\n",
       "0  http://www.nasdaq.com/article/forex-pound-drop...    NASDAQ   \n",
       "\n",
       "         hostname     timestamp  category  \n",
       "0  www.nasdaq.com  1.390000e+12         4  "
      ]
     },
     "execution_count": 3,
     "metadata": {},
     "output_type": "execute_result"
    }
   ],
   "source": [
    "train_data.head(1)"
   ]
  },
  {
   "cell_type": "code",
   "execution_count": 4,
   "metadata": {
    "scrolled": true
   },
   "outputs": [
    {
     "data": {
      "text/plain": [
       "<matplotlib.axes._subplots.AxesSubplot at 0x1a1d3c1438>"
      ]
     },
     "execution_count": 4,
     "metadata": {},
     "output_type": "execute_result"
    },
    {
     "data": {
      "image/png": "[encoded data removed]",
      "text/plain": [
       "<matplotlib.figure.Figure at 0x1a1d393ba8>"
      ]
     },
     "metadata": {},
     "output_type": "display_data"
    }
   ],
   "source": [
    "train_data.category.value_counts().plot(kind='bar')"
   ]
  },
  {
   "cell_type": "markdown",
   "metadata": {},
   "source": [
    "# Housekeeping"
   ]
  },
  {
   "cell_type": "code",
   "execution_count": 5,
   "metadata": {},
   "outputs": [],
   "source": [
    "def stem(sent, stemmer_type='porter'):\n",
    "    '''\n",
    "    stemmer_type can be porter, lancaster, or snowball\n",
    "    '''\n",
    "    if stemmer_type == 'porter':\n",
    "        stemmer = PorterStemmer()\n",
    "    elif stemmer_type == 'lancaster':\n",
    "        stemmer = LancasterStemmer()\n",
    "    else:\n",
    "        stemmer = SnowballStemmer('english')\n",
    "    \n",
    "    words = gensim.utils.simple_preprocess(sent)\n",
    "    return ' '.join([stemmer.stem(word) for word in words])"
   ]
  },
  {
   "cell_type": "code",
   "execution_count": 6,
   "metadata": {
    "collapsed": true
   },
   "outputs": [],
   "source": [
    "def lemmatize(sent):\n",
    "    lemmatizer = WordNetLemmatizer()\n",
    "    \n",
    "    words = gensim.utils.simple_preprocess(sent)\n",
    "    return ' '.join([lemmatizer.lemmatize(word) for word in words])"
   ]
  },
  {
   "cell_type": "code",
   "execution_count": 7,
   "metadata": {},
   "outputs": [
    {
     "data": {
      "text/plain": [
       "'Hertz to Exit Equipment Rental Business in $2.5B Spinoff'"
      ]
     },
     "execution_count": 7,
     "metadata": {},
     "output_type": "execute_result"
    }
   ],
   "source": [
    "train_data[\"title\"][1]"
   ]
  },
  {
   "cell_type": "code",
   "execution_count": 8,
   "metadata": {},
   "outputs": [
    {
     "data": {
      "text/plain": [
       "'hertz to exit equip rental busi in spinoff'"
      ]
     },
     "execution_count": 8,
     "metadata": {},
     "output_type": "execute_result"
    }
   ],
   "source": [
    "train_data[\"title\"].apply(stem)[1]"
   ]
  },
  {
   "cell_type": "code",
   "execution_count": 9,
   "metadata": {
    "collapsed": true
   },
   "outputs": [],
   "source": [
    "# perform stemming\n",
    "train_data.loc[:, \"title\"] = train_data[\"title\"].apply(stem)\n",
    "test_data.loc[:, \"title\"] = test_data[\"title\"].apply(stem)"
   ]
  },
  {
   "cell_type": "code",
   "execution_count": 10,
   "metadata": {
    "collapsed": true
   },
   "outputs": [],
   "source": [
    "# X_train, X_test, Y_train, Y_test = train_test_split(train_data[\"title\"], train_data[\"category\"], test_size = 0.2)\n",
    "# X_train = np.array(X_train)\n",
    "# X_test = np.array(X_test)  # indeed X_valid is a more accurate name\n",
    "# Y_train = np.array(Y_train)\n",
    "# Y_test = np.array(Y_test)  # indeed Y_valid is a more accurate name"
   ]
  },
  {
   "cell_type": "code",
   "execution_count": 11,
   "metadata": {
    "collapsed": true
   },
   "outputs": [],
   "source": [
    "def train_model(classifier, feature_vector_train, label_train, feature_vector_valid, label_valid):\n",
    "    # fit the training dataset on the classifier\n",
    "    classifier.fit(feature_vector_train, label_train)\n",
    "    \n",
    "    # predict the labels on validation dataset\n",
    "    predictions = classifier.predict(feature_vector_valid)\n",
    "    \n",
    "    return metrics.accuracy_score(predictions, label_valid)"
   ]
  },
  {
   "cell_type": "code",
   "execution_count": 12,
   "metadata": {
    "collapsed": true
   },
   "outputs": [],
   "source": [
    "def cross_validation_data(train_data):\n",
    "    sss = StratifiedShuffleSplit(n_splits=10, test_size=0.2, random_state=0)\n",
    "    \n",
    "    for train_index, test_index in sss.split(train_data[\"title\"], train_data[\"category\"]):\n",
    "        X_train, X_test = train_data[\"title\"][train_index], train_data[\"title\"][test_index]\n",
    "        Y_train, Y_test = train_data[\"category\"][train_index], train_data[\"category\"][test_index]\n",
    "        yield X_train, Y_train, X_test, Y_test"
   ]
  },
  {
   "cell_type": "code",
   "execution_count": 13,
   "metadata": {
    "collapsed": true
   },
   "outputs": [],
   "source": [
    "# # Not performing well\n",
    "# def random_sample(X, y, method='RandomOverSampler'):\n",
    "#     if method == 'RandomOverSampler':\n",
    "#         sampler = RandomOverSampler()\n",
    "#     elif method == 'RandomUnderSampler':\n",
    "#         sampler = RandomUnderSampler()\n",
    "#     elif method == 'ADASYN':\n",
    "#         sampler = ADASYN()\n",
    "#     elif method == 'SMOTE':\n",
    "#         sampler = SMOTE()\n",
    "\n",
    "#     return sampler.fit_sample(X, y)"
   ]
  },
  {
   "cell_type": "code",
   "execution_count": 14,
   "metadata": {
    "collapsed": true
   },
   "outputs": [],
   "source": [
    "# le_hostname = preprocessing.LabelEncoder()\n",
    "# le_hostname.fit_transform(train_data['hostname']).shape\n",
    "\n",
    "# le_publisher = preprocessing.LabelEncoder()\n",
    "# le_publisher.fit_transform(train_data['publisher'].fillna('UNKNOWN'))"
   ]
  },
  {
   "cell_type": "markdown",
   "metadata": {},
   "source": [
    "# Count Vectorizer"
   ]
  },
  {
   "cell_type": "code",
   "execution_count": 15,
   "metadata": {},
   "outputs": [
    {
     "data": {
      "text/plain": [
       "CountVectorizer(analyzer='word', binary=False, decode_error='strict',\n",
       "        dtype=<class 'numpy.int64'>, encoding='utf-8', input='content',\n",
       "        lowercase=True, max_df=1.0, max_features=4000, min_df=1,\n",
       "        ngram_range=(1, 2), preprocessor=None, stop_words=None,\n",
       "        strip_accents=None, token_pattern='(?u)\\\\b\\\\w\\\\w+\\\\b',\n",
       "        tokenizer=None, vocabulary=None)"
      ]
     },
     "execution_count": 15,
     "metadata": {},
     "output_type": "execute_result"
    }
   ],
   "source": [
    "count_vect = CountVectorizer(analyzer='word',\n",
    "                             ngram_range=(1,2),\n",
    "                             # token_pattern=r'\\w{1,}',\n",
    "                             min_df=1,\n",
    "                             max_features=4000)\n",
    "count_vect.fit(train_data[\"title\"].tolist() + test_data[\"title\"].tolist())\n",
    "# count_vect.fit(train_data[\"title\"])"
   ]
  },
  {
   "cell_type": "code",
   "execution_count": 21,
   "metadata": {
    "scrolled": true
   },
   "outputs": [
    {
     "name": "stderr",
     "output_type": "stream",
     "text": [
      "/Users/ruizhi/anaconda/lib/python3.6/site-packages/sklearn/linear_model/logistic.py:432: FutureWarning: Default solver will be changed to 'lbfgs' in 0.22. Specify a solver to silence this warning.\n",
      "  FutureWarning)\n",
      "/Users/ruizhi/anaconda/lib/python3.6/site-packages/sklearn/linear_model/logistic.py:459: FutureWarning: Default multi_class will be changed to 'auto' in 0.22. Specify the multi_class option to silence this warning.\n",
      "  \"this warning.\", FutureWarning)\n"
     ]
    },
    {
     "name": "stdout",
     "output_type": "stream",
     "text": [
      "LR mean accuracy: 0.6437810945273632 \n",
      "\n",
      "NB mean accuracy: 0.6387230514096186 \n",
      "\n",
      "XGB mean accuracy: 0.6467661691542289 \n",
      "\n",
      "RF mean accuracy: 0.6456882255389718 \n",
      "\n"
     ]
    }
   ],
   "source": [
    "for clf_name, clf in [('LR', LogisticRegression()),\n",
    "                      ('NB', MultinomialNB()),\n",
    "                      ('XGB', xgboost.XGBClassifier(max_depth=5, n_estimators=140)),\n",
    "                      ('RF', RandomForestClassifier(n_estimators=180, criterion='entropy'))]:\n",
    "    acc_list = []\n",
    "    for X_train, Y_train, X_test, Y_test in cross_validation_data(train_data):\n",
    "        xtrain_count =  count_vect.transform(X_train)\n",
    "        xvalid_count =  count_vect.transform(X_test)\n",
    "        if clf_name == 'XGB':\n",
    "            accuracy = train_model(clf, xtrain_count.tocsc(), Y_train, xvalid_count.tocsc(), Y_test)\n",
    "        else:\n",
    "            accuracy = train_model(clf, xtrain_count, Y_train, xvalid_count, Y_test)\n",
    "        acc_list.append(accuracy)\n",
    "    # print(clf_name, \"accuracy:\", acc_list)\n",
    "    print(clf_name, \"mean accuracy:\", sum(acc_list)/len(acc_list), \"\\n\")"
   ]
  },
  {
   "cell_type": "code",
   "execution_count": 77,
   "metadata": {},
   "outputs": [],
   "source": [
    "# clf = RandomForestClassifier(n_estimators=180, criterion='entropy')\n",
    "# accuracy = train_model(clf, xtrain_count, Y_train, xvalid_count, Y_test)\n",
    "\n",
    "# Y_predict = clf.predict(xvalid_count)\n",
    "# print(fbeta_score(Y_test, Y_predict, average=None, beta=1))\n",
    "# print(fbeta_score(Y_test, Y_predict, average='macro', beta=1))\n",
    "# print(fbeta_score(Y_test, Y_predict, average='weighted', beta=1))"
   ]
  },
  {
   "cell_type": "markdown",
   "metadata": {
    "collapsed": true
   },
   "source": [
    "# TF-IDF"
   ]
  },
  {
   "cell_type": "code",
   "execution_count": 16,
   "metadata": {},
   "outputs": [
    {
     "data": {
      "text/plain": [
       "TfidfVectorizer(analyzer='word', binary=False, decode_error='strict',\n",
       "        dtype=<class 'numpy.float64'>, encoding='utf-8', input='content',\n",
       "        lowercase=True, max_df=1.0, max_features=4000, min_df=1,\n",
       "        ngram_range=(1, 2), norm='l2', preprocessor=None, smooth_idf=True,\n",
       "        stop_words=None, strip_accents=None, sublinear_tf=False,\n",
       "        token_pattern='(?u)\\\\b\\\\w\\\\w+\\\\b', tokenizer=None, use_idf=True,\n",
       "        vocabulary=None)"
      ]
     },
     "execution_count": 16,
     "metadata": {},
     "output_type": "execute_result"
    }
   ],
   "source": [
    "tfidf_vect_ngram = TfidfVectorizer(analyzer='word',\n",
    "                                   # token_pattern=r'\\w{1,}', \n",
    "                                   ngram_range=(1,2), \n",
    "                                   min_df=1,\n",
    "                                   max_features=4000)\n",
    "tfidf_vect_ngram.fit(train_data[\"title\"].tolist() + test_data[\"title\"].tolist())\n",
    "# tfidf_vect_ngram.fit(train_data[\"title\"])"
   ]
  },
  {
   "cell_type": "code",
   "execution_count": 23,
   "metadata": {
    "scrolled": true
   },
   "outputs": [
    {
     "name": "stderr",
     "output_type": "stream",
     "text": [
      "/Users/ruizhi/anaconda/lib/python3.6/site-packages/sklearn/linear_model/logistic.py:432: FutureWarning: Default solver will be changed to 'lbfgs' in 0.22. Specify a solver to silence this warning.\n",
      "  FutureWarning)\n",
      "/Users/ruizhi/anaconda/lib/python3.6/site-packages/sklearn/linear_model/logistic.py:459: FutureWarning: Default multi_class will be changed to 'auto' in 0.22. Specify the multi_class option to silence this warning.\n",
      "  \"this warning.\", FutureWarning)\n"
     ]
    },
    {
     "name": "stdout",
     "output_type": "stream",
     "text": [
      "LR mean accuracy: 0.6534825870646767 \n",
      "\n",
      "NB mean accuracy: 0.6534825870646765 \n",
      "\n",
      "XGB mean accuracy: 0.6462686567164179 \n",
      "\n",
      "RF mean accuracy: 0.6477611940298507 \n",
      "\n"
     ]
    }
   ],
   "source": [
    "for clf_name, clf in [('LR', LogisticRegression()),\n",
    "                      ('NB', MultinomialNB()),\n",
    "                      ('XGB', xgboost.XGBClassifier(max_depth=5, n_estimators=140)),\n",
    "                      ('RF', RandomForestClassifier(n_estimators=180, criterion='entropy'))]:\n",
    "    acc_list = []\n",
    "    for X_train, Y_train, X_test, Y_test in cross_validation_data(train_data):\n",
    "        xtrain_tfidf_ngram =  tfidf_vect_ngram.transform(X_train)\n",
    "        xvalid_tfidf_ngram =  tfidf_vect_ngram.transform(X_test)\n",
    "        if clf_name == 'XGB':\n",
    "            accuracy = train_model(clf, xtrain_tfidf_ngram.tocsc(), Y_train, xvalid_tfidf_ngram.tocsc(), Y_test)\n",
    "        else:\n",
    "            accuracy = train_model(clf, xtrain_tfidf_ngram, Y_train, xvalid_tfidf_ngram, Y_test)\n",
    "        acc_list.append(accuracy)\n",
    "    # print(clf_name, \"accuracy:\", acc_list)\n",
    "    print(clf_name, \"mean accuracy:\", sum(acc_list)/len(acc_list), \"\\n\")"
   ]
  },
  {
   "cell_type": "code",
   "execution_count": 185,
   "metadata": {},
   "outputs": [],
   "source": [
    "# xtrain_tfidf_resampled, Y_train_resampled = random_sample(xtrain_tfidf_ngram, Y_train, method='ADASYN')\n",
    "\n",
    "# # Extereme Gradient Boosting on Word Level TF IDF Vectors\n",
    "# accuracy = train_model(xgboost.XGBClassifier(max_depth=5, n_estimators=140), xtrain_tfidf_resampled.tocsc(), Y_train_resampled, xvalid_tfidf_ngram.tocsc(), Y_test)\n",
    "# print(\"Xgb, WordLevel TF-IDF: \", accuracy)"
   ]
  },
  {
   "cell_type": "code",
   "execution_count": 186,
   "metadata": {},
   "outputs": [],
   "source": [
    "# clf = xgboost.XGBClassifier(max_depth=5, n_estimators=140)\n",
    "# accuracy = train_model(clf, xtrain_tfidf_resampled.tocsc(), Y_train_resampled, xvalid_tfidf_ngram.tocsc(), Y_test)\n",
    "\n",
    "# Y_predict = clf.predict(xvalid_tfidf_ngram.tocsc())\n",
    "# print(fbeta_score(Y_test, Y_predict, average=None, beta=1))"
   ]
  },
  {
   "cell_type": "markdown",
   "metadata": {
    "collapsed": true
   },
   "source": [
    "# Create Submission Using Different Mothods"
   ]
  },
  {
   "cell_type": "code",
   "execution_count": 25,
   "metadata": {},
   "outputs": [],
   "source": [
    "train_tfidf_ngram =  tfidf_vect_ngram.transform(train_data[\"title\"])\n",
    "test_tfidf_ngram =  tfidf_vect_ngram.transform(test_data[\"title\"])"
   ]
  },
  {
   "cell_type": "code",
   "execution_count": 26,
   "metadata": {
    "scrolled": true
   },
   "outputs": [
    {
     "name": "stdout",
     "output_type": "stream",
     "text": [
      "XGB on training set  0.7375145180023229\n"
     ]
    }
   ],
   "source": [
    "classifier = xgboost.XGBClassifier(max_depth=5, learning_rate=0.1, n_estimators=140)\n",
    "accuracy = train_model(classifier, train_tfidf_ngram.tocsc(), train_data[\"category\"], train_tfidf_ngram.tocsc(), train_data[\"category\"])\n",
    "print(\"XGB on training set \", accuracy)\n",
    "\n",
    "test_data[\"category\"] = classifier.predict(test_tfidf_ngram.tocsc())"
   ]
  },
  {
   "cell_type": "code",
   "execution_count": 27,
   "metadata": {
    "scrolled": false
   },
   "outputs": [],
   "source": [
    "# classifier = RandomForestClassifier(n_estimators=180, criterion='entropy')\n",
    "# accuracy = train_model(classifier, train_tfidf_ngram, train_data[\"category\"], train_tfidf_ngram, train_data[\"category\"])\n",
    "# print(\"RF on training set \", accuracy)\n",
    "\n",
    "# test_data[\"category\"] = classifier.predict(test_tfidf_ngram)"
   ]
  },
  {
   "cell_type": "code",
   "execution_count": 28,
   "metadata": {
    "collapsed": true
   },
   "outputs": [],
   "source": [
    "out=pd.DataFrame(test_data,columns=['article_id','category'])\n",
    "out.to_csv('prediction.csv',index=False)"
   ]
  },
  {
   "cell_type": "code",
   "execution_count": null,
   "metadata": {
    "collapsed": true
   },
   "outputs": [],
   "source": []
  }
 ],
 "metadata": {
  "kernelspec": {
   "display_name": "Python 3",
   "language": "python",
   "name": "python3"
  },
  "language_info": {
   "codemirror_mode": {
    "name": "ipython",
    "version": 3
   },
   "file_extension": ".py",
   "mimetype": "text/x-python",
   "name": "python",
   "nbconvert_exporter": "python",
   "pygments_lexer": "ipython3",
   "version": "3.6.1"
  }
 },
 "nbformat": 4,
 "nbformat_minor": 2
}
