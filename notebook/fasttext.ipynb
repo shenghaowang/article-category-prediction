{
 "cells": [
  {
   "cell_type": "code",
   "execution_count": 1,
   "metadata": {},
   "outputs": [
    {
     "name": "stderr",
     "output_type": "stream",
     "text": [
      "/home/zqs/anaconda3/lib/python3.7/site-packages/sklearn/cross_validation.py:41: DeprecationWarning: This module was deprecated in version 0.18 in favor of the model_selection module into which all the refactored classes and functions are moved. Also note that the interface of the new CV iterators are different from that of this module. This module will be removed in 0.20.\n",
      "  \"This module will be removed in 0.20.\", DeprecationWarning)\n"
     ]
    }
   ],
   "source": [
    "import os\n",
    "import pandas as pd\n",
    "import numpy as np\n",
    "from sklearn import metrics,preprocessing\n",
    "from sklearn.cross_validation import train_test_split\n",
    "import re"
   ]
  },
  {
   "cell_type": "code",
   "execution_count": 42,
   "metadata": {},
   "outputs": [],
   "source": [
    "import matplotlib.pyplot as plt"
   ]
  },
  {
   "cell_type": "code",
   "execution_count": 5,
   "metadata": {},
   "outputs": [],
   "source": [
    "train_data = pd.read_csv(\"input/train_v2.csv\")\n",
    "test_data = pd.read_csv(\"input/test_v2.csv\")"
   ]
  },
  {
   "cell_type": "code",
   "execution_count": 6,
   "metadata": {},
   "outputs": [
    {
     "data": {
      "text/html": [
       "<div>\n",
       "<style scoped>\n",
       "    .dataframe tbody tr th:only-of-type {\n",
       "        vertical-align: middle;\n",
       "    }\n",
       "\n",
       "    .dataframe tbody tr th {\n",
       "        vertical-align: top;\n",
       "    }\n",
       "\n",
       "    .dataframe thead th {\n",
       "        text-align: right;\n",
       "    }\n",
       "</style>\n",
       "<table border=\"1\" class=\"dataframe\">\n",
       "  <thead>\n",
       "    <tr style=\"text-align: right;\">\n",
       "      <th></th>\n",
       "      <th>article_id</th>\n",
       "      <th>title</th>\n",
       "      <th>url</th>\n",
       "      <th>publisher</th>\n",
       "      <th>hostname</th>\n",
       "      <th>timestamp</th>\n",
       "      <th>category</th>\n",
       "    </tr>\n",
       "  </thead>\n",
       "  <tbody>\n",
       "    <tr>\n",
       "      <th>0</th>\n",
       "      <td>1</td>\n",
       "      <td>Forex - Pound drops to one-month lows against ...</td>\n",
       "      <td>http://www.nasdaq.com/article/forex-pound-drop...</td>\n",
       "      <td>NASDAQ</td>\n",
       "      <td>www.nasdaq.com</td>\n",
       "      <td>1.390000e+12</td>\n",
       "      <td>4</td>\n",
       "    </tr>\n",
       "    <tr>\n",
       "      <th>1</th>\n",
       "      <td>2</td>\n",
       "      <td>Hertz to Exit Equipment Rental Business in $2....</td>\n",
       "      <td>http://www.foxbusiness.com/industries/2014/03/...</td>\n",
       "      <td>Fox Business</td>\n",
       "      <td>www.foxbusiness.com</td>\n",
       "      <td>1.400000e+12</td>\n",
       "      <td>2</td>\n",
       "    </tr>\n",
       "    <tr>\n",
       "      <th>2</th>\n",
       "      <td>3</td>\n",
       "      <td>Gold ETF inflows return</td>\n",
       "      <td>http://www.resourceinvestor.com/2014/03/09/gol...</td>\n",
       "      <td>Resource Investor</td>\n",
       "      <td>www.resourceinvestor.com</td>\n",
       "      <td>1.390000e+12</td>\n",
       "      <td>4</td>\n",
       "    </tr>\n",
       "    <tr>\n",
       "      <th>3</th>\n",
       "      <td>4</td>\n",
       "      <td>Hackers call Mt. Gox CEO a liar, say he still ...</td>\n",
       "      <td>http://bgr.com/2014/03/10/mt-gox-fraud-accusat...</td>\n",
       "      <td>BGR</td>\n",
       "      <td>bgr.com</td>\n",
       "      <td>1.390000e+12</td>\n",
       "      <td>4</td>\n",
       "    </tr>\n",
       "    <tr>\n",
       "      <th>4</th>\n",
       "      <td>5</td>\n",
       "      <td>Gold Climbs To Near 6-Month High On Concerns A...</td>\n",
       "      <td>http://www.forbes.com/sites/kitconews/2014/03/...</td>\n",
       "      <td>Forbes</td>\n",
       "      <td>www.forbes.com</td>\n",
       "      <td>1.390000e+12</td>\n",
       "      <td>4</td>\n",
       "    </tr>\n",
       "  </tbody>\n",
       "</table>\n",
       "</div>"
      ],
      "text/plain": [
       "   article_id                                              title  \\\n",
       "0           1  Forex - Pound drops to one-month lows against ...   \n",
       "1           2  Hertz to Exit Equipment Rental Business in $2....   \n",
       "2           3                            Gold ETF inflows return   \n",
       "3           4  Hackers call Mt. Gox CEO a liar, say he still ...   \n",
       "4           5  Gold Climbs To Near 6-Month High On Concerns A...   \n",
       "\n",
       "                                                 url          publisher  \\\n",
       "0  http://www.nasdaq.com/article/forex-pound-drop...             NASDAQ   \n",
       "1  http://www.foxbusiness.com/industries/2014/03/...       Fox Business   \n",
       "2  http://www.resourceinvestor.com/2014/03/09/gol...  Resource Investor   \n",
       "3  http://bgr.com/2014/03/10/mt-gox-fraud-accusat...                BGR   \n",
       "4  http://www.forbes.com/sites/kitconews/2014/03/...             Forbes   \n",
       "\n",
       "                   hostname     timestamp  category  \n",
       "0            www.nasdaq.com  1.390000e+12         4  \n",
       "1       www.foxbusiness.com  1.400000e+12         2  \n",
       "2  www.resourceinvestor.com  1.390000e+12         4  \n",
       "3                   bgr.com  1.390000e+12         4  \n",
       "4            www.forbes.com  1.390000e+12         4  "
      ]
     },
     "execution_count": 6,
     "metadata": {},
     "output_type": "execute_result"
    }
   ],
   "source": [
    "train_data.head()"
   ]
  },
  {
   "cell_type": "code",
   "execution_count": 7,
   "metadata": {},
   "outputs": [],
   "source": [
    "train_data['label']=\"__label__\"+train_data.category.map(str)\n",
    "#df['bar'] = df.bar.map(str) + \" is \" + df.foo"
   ]
  },
  {
   "cell_type": "code",
   "execution_count": 8,
   "metadata": {},
   "outputs": [
    {
     "data": {
      "text/html": [
       "<div>\n",
       "<style scoped>\n",
       "    .dataframe tbody tr th:only-of-type {\n",
       "        vertical-align: middle;\n",
       "    }\n",
       "\n",
       "    .dataframe tbody tr th {\n",
       "        vertical-align: top;\n",
       "    }\n",
       "\n",
       "    .dataframe thead th {\n",
       "        text-align: right;\n",
       "    }\n",
       "</style>\n",
       "<table border=\"1\" class=\"dataframe\">\n",
       "  <thead>\n",
       "    <tr style=\"text-align: right;\">\n",
       "      <th></th>\n",
       "      <th>article_id</th>\n",
       "      <th>title</th>\n",
       "      <th>url</th>\n",
       "      <th>publisher</th>\n",
       "      <th>hostname</th>\n",
       "      <th>timestamp</th>\n",
       "      <th>category</th>\n",
       "      <th>label</th>\n",
       "    </tr>\n",
       "  </thead>\n",
       "  <tbody>\n",
       "    <tr>\n",
       "      <th>0</th>\n",
       "      <td>1</td>\n",
       "      <td>Forex - Pound drops to one-month lows against ...</td>\n",
       "      <td>http://www.nasdaq.com/article/forex-pound-drop...</td>\n",
       "      <td>NASDAQ</td>\n",
       "      <td>www.nasdaq.com</td>\n",
       "      <td>1.390000e+12</td>\n",
       "      <td>4</td>\n",
       "      <td>__label__4</td>\n",
       "    </tr>\n",
       "    <tr>\n",
       "      <th>1</th>\n",
       "      <td>2</td>\n",
       "      <td>Hertz to Exit Equipment Rental Business in $2....</td>\n",
       "      <td>http://www.foxbusiness.com/industries/2014/03/...</td>\n",
       "      <td>Fox Business</td>\n",
       "      <td>www.foxbusiness.com</td>\n",
       "      <td>1.400000e+12</td>\n",
       "      <td>2</td>\n",
       "      <td>__label__2</td>\n",
       "    </tr>\n",
       "    <tr>\n",
       "      <th>2</th>\n",
       "      <td>3</td>\n",
       "      <td>Gold ETF inflows return</td>\n",
       "      <td>http://www.resourceinvestor.com/2014/03/09/gol...</td>\n",
       "      <td>Resource Investor</td>\n",
       "      <td>www.resourceinvestor.com</td>\n",
       "      <td>1.390000e+12</td>\n",
       "      <td>4</td>\n",
       "      <td>__label__4</td>\n",
       "    </tr>\n",
       "    <tr>\n",
       "      <th>3</th>\n",
       "      <td>4</td>\n",
       "      <td>Hackers call Mt. Gox CEO a liar, say he still ...</td>\n",
       "      <td>http://bgr.com/2014/03/10/mt-gox-fraud-accusat...</td>\n",
       "      <td>BGR</td>\n",
       "      <td>bgr.com</td>\n",
       "      <td>1.390000e+12</td>\n",
       "      <td>4</td>\n",
       "      <td>__label__4</td>\n",
       "    </tr>\n",
       "    <tr>\n",
       "      <th>4</th>\n",
       "      <td>5</td>\n",
       "      <td>Gold Climbs To Near 6-Month High On Concerns A...</td>\n",
       "      <td>http://www.forbes.com/sites/kitconews/2014/03/...</td>\n",
       "      <td>Forbes</td>\n",
       "      <td>www.forbes.com</td>\n",
       "      <td>1.390000e+12</td>\n",
       "      <td>4</td>\n",
       "      <td>__label__4</td>\n",
       "    </tr>\n",
       "  </tbody>\n",
       "</table>\n",
       "</div>"
      ],
      "text/plain": [
       "   article_id                                              title  \\\n",
       "0           1  Forex - Pound drops to one-month lows against ...   \n",
       "1           2  Hertz to Exit Equipment Rental Business in $2....   \n",
       "2           3                            Gold ETF inflows return   \n",
       "3           4  Hackers call Mt. Gox CEO a liar, say he still ...   \n",
       "4           5  Gold Climbs To Near 6-Month High On Concerns A...   \n",
       "\n",
       "                                                 url          publisher  \\\n",
       "0  http://www.nasdaq.com/article/forex-pound-drop...             NASDAQ   \n",
       "1  http://www.foxbusiness.com/industries/2014/03/...       Fox Business   \n",
       "2  http://www.resourceinvestor.com/2014/03/09/gol...  Resource Investor   \n",
       "3  http://bgr.com/2014/03/10/mt-gox-fraud-accusat...                BGR   \n",
       "4  http://www.forbes.com/sites/kitconews/2014/03/...             Forbes   \n",
       "\n",
       "                   hostname     timestamp  category       label  \n",
       "0            www.nasdaq.com  1.390000e+12         4  __label__4  \n",
       "1       www.foxbusiness.com  1.400000e+12         2  __label__2  \n",
       "2  www.resourceinvestor.com  1.390000e+12         4  __label__4  \n",
       "3                   bgr.com  1.390000e+12         4  __label__4  \n",
       "4            www.forbes.com  1.390000e+12         4  __label__4  "
      ]
     },
     "execution_count": 8,
     "metadata": {},
     "output_type": "execute_result"
    }
   ],
   "source": [
    "train_data.head()"
   ]
  },
  {
   "cell_type": "code",
   "execution_count": 9,
   "metadata": {},
   "outputs": [],
   "source": [
    "with open('train.txt', 'w',errors='ignore') as myfile:\n",
    "    for i in range(len(train_data['label'])):\n",
    "        myfile.write(train_data['label'][i] +\" \"+train_data['title'][i]+ '\\n')"
   ]
  },
  {
   "cell_type": "code",
   "execution_count": 10,
   "metadata": {},
   "outputs": [],
   "source": [
    "with open('test.txt', 'w',errors='ignore') as myfile:\n",
    "    for i in range(len(test_data['title'])):\n",
    "        myfile.write(test_data['title'][i]+ '\\n')"
   ]
  },
  {
   "cell_type": "code",
   "execution_count": null,
   "metadata": {},
   "outputs": [],
   "source": []
  },
  {
   "cell_type": "code",
   "execution_count": 12,
   "metadata": {},
   "outputs": [],
   "source": [
    "with open('train_full.txt', 'w',errors='ignore') as myfile:\n",
    "    for i in range(len(train_data['label'])):\n",
    "        filename='raw_train/'+str(i+1)+'.txt'\n",
    "        if os.path.exists(filename):\n",
    "            with open(filename, 'r',errors='ignore') as data_file:\n",
    "                data=data_file.read().replace('\\n', '')\n",
    "            myfile.write(train_data['label'][i] +\" \"+train_data['title'][i]+\" \"+data+ '\\n')\n",
    "        else:\n",
    "            myfile.write(train_data['label'][i] +\" \"+train_data['title'][i]+ '\\n')"
   ]
  },
  {
   "cell_type": "code",
   "execution_count": 15,
   "metadata": {},
   "outputs": [],
   "source": [
    "#v2: remove numbers and punctuations\n",
    "whitelist = set('abcdefghijklmnopqrstuvwxyz ABCDEFGHIJKLMNOPQRSTUVWXYZ')\n",
    "with open('train_full_clean.txt', 'w',errors='ignore') as myfile:\n",
    "    for i in range(len(train_data['label'])):\n",
    "        filename='raw_train/'+str(i+1)+'.txt'\n",
    "        title=train_data['title'][i]\n",
    "        title = re.sub(r\"[,:.;@#\\?\\-\\%\\/!&$]+\\ *\", \" \", title)\n",
    "        title = ''.join(filter(whitelist.__contains__, title)).lower()\n",
    "        title = ' '.join(title.split())\n",
    "        if os.path.exists(filename):\n",
    "            with open(filename, 'r',errors='ignore') as data_file:\n",
    "                data=data_file.read().replace('\\n', '')\n",
    "                data = re.sub(r\"[,:.;@#\\?\\-\\%\\/!&$]+\\ *\", \" \", data)\n",
    "                data = ''.join(filter(whitelist.__contains__, data)).lower()\n",
    "                data=' '.join(data.split())\n",
    "            myfile.write(train_data['label'][i] +\" \"+title+\" \"+data+ '\\n')\n",
    "        else:\n",
    "            myfile.write(train_data['label'][i] +\" \"+title+ '\\n')"
   ]
  },
  {
   "cell_type": "code",
   "execution_count": 16,
   "metadata": {},
   "outputs": [],
   "source": [
    "with open('test_full.txt', 'w',errors='ignore') as myfile:\n",
    "    for i in range(len(test_data['title'])):\n",
    "        filename='raw_test/'+str(i+1)+'.txt'\n",
    "        if os.path.exists(filename):\n",
    "            with open(filename, 'r',errors='ignore') as data_file:\n",
    "                data=data_file.read().replace('\\n', '')\n",
    "            myfile.write(test_data['title'][i]+\" \"+data+ '\\n')\n",
    "        else:\n",
    "            myfile.write(test_data['title'][i]+ '\\n')"
   ]
  },
  {
   "cell_type": "code",
   "execution_count": 17,
   "metadata": {},
   "outputs": [],
   "source": [
    "#v2 remove numbers and punctuations\n",
    "whitelist = set('abcdefghijklmnopqrstuvwxyz ABCDEFGHIJKLMNOPQRSTUVWXYZ')\n",
    "with open('test_full_clean.txt', 'w',errors='ignore') as myfile:\n",
    "    for i in range(len(test_data['title'])):\n",
    "        filename='raw_test/'+str(i+1)+'.txt'\n",
    "        title=test_data['title'][i]\n",
    "        title = re.sub(r\"[,:.;@#\\?\\-\\%\\/!&$]+\\ *\", \" \", title)\n",
    "        title = ''.join(filter(whitelist.__contains__, title)).lower()\n",
    "        title = ' '.join(title.split())\n",
    "        if os.path.exists(filename):\n",
    "            with open(filename, 'r',errors='ignore') as data_file:\n",
    "                data=data_file.read().replace('\\n', '')\n",
    "                data = re.sub(r\"[,:.;@#\\?\\-\\%\\/!&$]+\\ *\", \" \", data)\n",
    "                data = ''.join(filter(whitelist.__contains__, data)).lower()\n",
    "                data=' '.join(data.split())\n",
    "            myfile.write(title +\" \"+data+ '\\n')\n",
    "        else:\n",
    "            myfile.write(title + '\\n')"
   ]
  },
  {
   "cell_type": "markdown",
   "metadata": {},
   "source": [
    "#code to test text preprocessing. remove numbers and punctuations\n",
    "i=0\n",
    "import re\n",
    "#import pattern.en as en\n",
    "whitelist = set('abcdefghijklmnopqrstuvwxyz ABCDEFGHIJKLMNOPQRSTUVWXYZ')\n",
    "filename='raw_train/'+str(i+1)+'.txt'\n",
    "with open(filename, 'r') as myfile:\n",
    "    data=myfile.read().replace('\\n', '')\n",
    "    print(data)\n",
    "    clean = re.sub(r\"[,:.;@#\\?\\-\\%\\/!&$]+\\ *\", \" \", data)\n",
    "    data = ''.join(filter(whitelist.__contains__, clean)).lower()#.replace('  ', ' ')\n",
    "    #data = ''.join(filter(whitelist.__contains__, data))#.replace('  ', ' ')\n",
    "    words=data.split()\n",
    "    #for i in range(len(words)):\n",
    "        #words[i]=en.lemma(words[i])\n",
    "    #words=en.lemma(words)\n",
    "    data=' '.join(words)\n",
    "    \n",
    "#base_form = en.lemma('Ate') # base_form == \"eat\"\n",
    "#print(base_form)\n",
    "    print(data)"
   ]
  },
  {
   "cell_type": "code",
   "execution_count": null,
   "metadata": {},
   "outputs": [],
   "source": [
    "## generate "
   ]
  },
  {
   "cell_type": "code",
   "execution_count": null,
   "metadata": {},
   "outputs": [],
   "source": []
  },
  {
   "cell_type": "code",
   "execution_count": null,
   "metadata": {},
   "outputs": [],
   "source": []
  },
  {
   "cell_type": "markdown",
   "metadata": {},
   "source": [
    "# Do classification using fasttext"
   ]
  },
  {
   "cell_type": "code",
   "execution_count": 2,
   "metadata": {},
   "outputs": [],
   "source": [
    "#trainf='train_full_clean.txt'\n",
    "trainf='train_full.txt'\n",
    "#X = pd.read_csv(trainf,header=None,sep=\",\",names=['data'])\n",
    "with open(trainf) as f:\n",
    "    X = f.read().splitlines()"
   ]
  },
  {
   "cell_type": "code",
   "execution_count": 3,
   "metadata": {},
   "outputs": [
    {
     "data": {
      "text/html": [
       "<div>\n",
       "<style scoped>\n",
       "    .dataframe tbody tr th:only-of-type {\n",
       "        vertical-align: middle;\n",
       "    }\n",
       "\n",
       "    .dataframe tbody tr th {\n",
       "        vertical-align: top;\n",
       "    }\n",
       "\n",
       "    .dataframe thead th {\n",
       "        text-align: right;\n",
       "    }\n",
       "</style>\n",
       "<table border=\"1\" class=\"dataframe\">\n",
       "  <thead>\n",
       "    <tr style=\"text-align: right;\">\n",
       "      <th></th>\n",
       "      <th>data</th>\n",
       "    </tr>\n",
       "  </thead>\n",
       "  <tbody>\n",
       "    <tr>\n",
       "      <th>0</th>\n",
       "      <td>__label__4 Forex - Pound drops to one-month lo...</td>\n",
       "    </tr>\n",
       "    <tr>\n",
       "      <th>1</th>\n",
       "      <td>__label__2 Hertz to Exit Equipment Rental Busi...</td>\n",
       "    </tr>\n",
       "    <tr>\n",
       "      <th>2</th>\n",
       "      <td>__label__4 Gold ETF inflows return Stock-marke...</td>\n",
       "    </tr>\n",
       "    <tr>\n",
       "      <th>3</th>\n",
       "      <td>__label__4 Hackers call Mt. Gox CEO a liar, sa...</td>\n",
       "    </tr>\n",
       "    <tr>\n",
       "      <th>4</th>\n",
       "      <td>__label__4 Gold Climbs To Near 6-Month High On...</td>\n",
       "    </tr>\n",
       "  </tbody>\n",
       "</table>\n",
       "</div>"
      ],
      "text/plain": [
       "                                                data\n",
       "0  __label__4 Forex - Pound drops to one-month lo...\n",
       "1  __label__2 Hertz to Exit Equipment Rental Busi...\n",
       "2  __label__4 Gold ETF inflows return Stock-marke...\n",
       "3  __label__4 Hackers call Mt. Gox CEO a liar, sa...\n",
       "4  __label__4 Gold Climbs To Near 6-Month High On..."
      ]
     },
     "execution_count": 3,
     "metadata": {},
     "output_type": "execute_result"
    }
   ],
   "source": [
    "X = pd.DataFrame({\"data\": X})\n",
    "X.head()"
   ]
  },
  {
   "cell_type": "markdown",
   "metadata": {},
   "source": [
    "X_train, X_vali= train_test_split(X['data'].values,test_size = 0.2)\n",
    "with open('train_data.txt', 'w',errors='ignore') as myfile:\n",
    "    for i in range(len(X_train)):\n",
    "        myfile.write(X_train[i]+ '\\n')\n",
    "with open('vali_data.txt', 'w',errors='ignore') as myfile:\n",
    "    for i in range(len(X_vali)):\n",
    "        myfile.write(X_vali[i]+ '\\n')"
   ]
  },
  {
   "cell_type": "code",
   "execution_count": null,
   "metadata": {},
   "outputs": [],
   "source": []
  },
  {
   "cell_type": "code",
   "execution_count": 4,
   "metadata": {},
   "outputs": [],
   "source": [
    "from sklearn.model_selection import KFold\n",
    "kf = KFold(n_splits=5)"
   ]
  },
  {
   "cell_type": "code",
   "execution_count": 5,
   "metadata": {},
   "outputs": [],
   "source": [
    "import fasttext"
   ]
  },
  {
   "cell_type": "code",
   "execution_count": 6,
   "metadata": {},
   "outputs": [
    {
     "name": "stdout",
     "output_type": "stream",
     "text": [
      "P@1: 0.5265339966832504\n",
      "R@1: 0.5265339966832504\n",
      "Number of examples: 1206\n",
      "P@1: 0.511608623548922\n",
      "R@1: 0.511608623548922\n",
      "Number of examples: 1206\n",
      "P@1: 0.5161825726141079\n",
      "R@1: 0.5161825726141079\n",
      "Number of examples: 1205\n",
      "P@1: 0.6838174273858921\n",
      "R@1: 0.6838174273858921\n",
      "Number of examples: 1205\n",
      "P@1: 0.8572614107883817\n",
      "R@1: 0.8572614107883817\n",
      "Number of examples: 1205\n"
     ]
    }
   ],
   "source": [
    "for train_index, test_index in kf.split(X):\n",
    "    #print(len(train_index), len(test_index))\n",
    "    X_train, X_test = X['data'][train_index].values, X['data'][test_index].values\n",
    "    with open('train_temp.txt', 'w',errors='ignore') as myfile:\n",
    "        for i in range(len(X_train)):\n",
    "            myfile.write(X_train[i]+ '\\n')\n",
    "    with open('vali_temp.txt', 'w',errors='ignore') as myfile:\n",
    "        for i in range(len(X_test)):\n",
    "            myfile.write(X_test[i]+ '\\n')\n",
    "    classifier = fasttext.supervised('train_temp.txt', 'model',epoch=30,lr=0.1,loss='softmax')\n",
    "    result = classifier.test('vali_temp.txt')\n",
    "    print ('P@1:', result.precision)\n",
    "    print ('R@1:', result.recall)\n",
    "    print ('Number of examples:', result.nexamples)\n"
   ]
  },
  {
   "cell_type": "code",
   "execution_count": 27,
   "metadata": {},
   "outputs": [],
   "source": []
  },
  {
   "cell_type": "code",
   "execution_count": null,
   "metadata": {},
   "outputs": [],
   "source": []
  },
  {
   "cell_type": "code",
   "execution_count": null,
   "metadata": {},
   "outputs": [],
   "source": []
  },
  {
   "cell_type": "code",
   "execution_count": 84,
   "metadata": {},
   "outputs": [
    {
     "name": "stdout",
     "output_type": "stream",
     "text": [
      "5\n"
     ]
    }
   ],
   "source": [
    "print(classifier.epoch)"
   ]
  },
  {
   "cell_type": "code",
   "execution_count": null,
   "metadata": {},
   "outputs": [],
   "source": [
    "texts = ['example very long text 1', 'example very longtext 2']\n",
    "labels = classifier.predict(texts,k)\n",
    "print labels\n",
    "\n",
    "# Or with the probability\n",
    "labels = classifier.predict_proba(texts)\n",
    "print labels"
   ]
  },
  {
   "cell_type": "code",
   "execution_count": null,
   "metadata": {},
   "outputs": [],
   "source": []
  },
  {
   "cell_type": "code",
   "execution_count": null,
   "metadata": {},
   "outputs": [],
   "source": []
  },
  {
   "cell_type": "markdown",
   "metadata": {},
   "source": [
    "# convert fasttext prediction to desired label format and save to prediction file"
   ]
  },
  {
   "cell_type": "code",
   "execution_count": 94,
   "metadata": {},
   "outputs": [],
   "source": [
    "prediction = pd.read_csv(\"prediction_clean.txt\",names=['colA'])"
   ]
  },
  {
   "cell_type": "code",
   "execution_count": 95,
   "metadata": {},
   "outputs": [
    {
     "data": {
      "text/html": [
       "<div>\n",
       "<style scoped>\n",
       "    .dataframe tbody tr th:only-of-type {\n",
       "        vertical-align: middle;\n",
       "    }\n",
       "\n",
       "    .dataframe tbody tr th {\n",
       "        vertical-align: top;\n",
       "    }\n",
       "\n",
       "    .dataframe thead th {\n",
       "        text-align: right;\n",
       "    }\n",
       "</style>\n",
       "<table border=\"1\" class=\"dataframe\">\n",
       "  <thead>\n",
       "    <tr style=\"text-align: right;\">\n",
       "      <th></th>\n",
       "      <th>colA</th>\n",
       "    </tr>\n",
       "  </thead>\n",
       "  <tbody>\n",
       "    <tr>\n",
       "      <th>0</th>\n",
       "      <td>__label__4</td>\n",
       "    </tr>\n",
       "    <tr>\n",
       "      <th>1</th>\n",
       "      <td>__label__0</td>\n",
       "    </tr>\n",
       "    <tr>\n",
       "      <th>2</th>\n",
       "      <td>__label__4</td>\n",
       "    </tr>\n",
       "    <tr>\n",
       "      <th>3</th>\n",
       "      <td>__label__4</td>\n",
       "    </tr>\n",
       "    <tr>\n",
       "      <th>4</th>\n",
       "      <td>__label__4</td>\n",
       "    </tr>\n",
       "  </tbody>\n",
       "</table>\n",
       "</div>"
      ],
      "text/plain": [
       "         colA\n",
       "0  __label__4\n",
       "1  __label__0\n",
       "2  __label__4\n",
       "3  __label__4\n",
       "4  __label__4"
      ]
     },
     "execution_count": 95,
     "metadata": {},
     "output_type": "execute_result"
    }
   ],
   "source": [
    "prediction.head()"
   ]
  },
  {
   "cell_type": "code",
   "execution_count": 96,
   "metadata": {},
   "outputs": [],
   "source": [
    "prediction['label'] = prediction.colA.str[9:]"
   ]
  },
  {
   "cell_type": "code",
   "execution_count": 97,
   "metadata": {},
   "outputs": [
    {
     "data": {
      "text/html": [
       "<div>\n",
       "<style scoped>\n",
       "    .dataframe tbody tr th:only-of-type {\n",
       "        vertical-align: middle;\n",
       "    }\n",
       "\n",
       "    .dataframe tbody tr th {\n",
       "        vertical-align: top;\n",
       "    }\n",
       "\n",
       "    .dataframe thead th {\n",
       "        text-align: right;\n",
       "    }\n",
       "</style>\n",
       "<table border=\"1\" class=\"dataframe\">\n",
       "  <thead>\n",
       "    <tr style=\"text-align: right;\">\n",
       "      <th></th>\n",
       "      <th>colA</th>\n",
       "      <th>label</th>\n",
       "    </tr>\n",
       "  </thead>\n",
       "  <tbody>\n",
       "    <tr>\n",
       "      <th>0</th>\n",
       "      <td>__label__4</td>\n",
       "      <td>4</td>\n",
       "    </tr>\n",
       "    <tr>\n",
       "      <th>1</th>\n",
       "      <td>__label__0</td>\n",
       "      <td>0</td>\n",
       "    </tr>\n",
       "    <tr>\n",
       "      <th>2</th>\n",
       "      <td>__label__4</td>\n",
       "      <td>4</td>\n",
       "    </tr>\n",
       "    <tr>\n",
       "      <th>3</th>\n",
       "      <td>__label__4</td>\n",
       "      <td>4</td>\n",
       "    </tr>\n",
       "    <tr>\n",
       "      <th>4</th>\n",
       "      <td>__label__4</td>\n",
       "      <td>4</td>\n",
       "    </tr>\n",
       "  </tbody>\n",
       "</table>\n",
       "</div>"
      ],
      "text/plain": [
       "         colA label\n",
       "0  __label__4     4\n",
       "1  __label__0     0\n",
       "2  __label__4     4\n",
       "3  __label__4     4\n",
       "4  __label__4     4"
      ]
     },
     "execution_count": 97,
     "metadata": {},
     "output_type": "execute_result"
    }
   ],
   "source": [
    "prediction.head()"
   ]
  },
  {
   "cell_type": "code",
   "execution_count": 98,
   "metadata": {},
   "outputs": [],
   "source": [
    "prediction['num_label']=pd.to_numeric(prediction['label'])"
   ]
  },
  {
   "cell_type": "code",
   "execution_count": 99,
   "metadata": {},
   "outputs": [
    {
     "data": {
      "text/html": [
       "<div>\n",
       "<style scoped>\n",
       "    .dataframe tbody tr th:only-of-type {\n",
       "        vertical-align: middle;\n",
       "    }\n",
       "\n",
       "    .dataframe tbody tr th {\n",
       "        vertical-align: top;\n",
       "    }\n",
       "\n",
       "    .dataframe thead th {\n",
       "        text-align: right;\n",
       "    }\n",
       "</style>\n",
       "<table border=\"1\" class=\"dataframe\">\n",
       "  <thead>\n",
       "    <tr style=\"text-align: right;\">\n",
       "      <th></th>\n",
       "      <th>colA</th>\n",
       "      <th>label</th>\n",
       "      <th>num_label</th>\n",
       "    </tr>\n",
       "  </thead>\n",
       "  <tbody>\n",
       "    <tr>\n",
       "      <th>0</th>\n",
       "      <td>__label__4</td>\n",
       "      <td>4</td>\n",
       "      <td>4</td>\n",
       "    </tr>\n",
       "    <tr>\n",
       "      <th>1</th>\n",
       "      <td>__label__0</td>\n",
       "      <td>0</td>\n",
       "      <td>0</td>\n",
       "    </tr>\n",
       "    <tr>\n",
       "      <th>2</th>\n",
       "      <td>__label__4</td>\n",
       "      <td>4</td>\n",
       "      <td>4</td>\n",
       "    </tr>\n",
       "    <tr>\n",
       "      <th>3</th>\n",
       "      <td>__label__4</td>\n",
       "      <td>4</td>\n",
       "      <td>4</td>\n",
       "    </tr>\n",
       "    <tr>\n",
       "      <th>4</th>\n",
       "      <td>__label__4</td>\n",
       "      <td>4</td>\n",
       "      <td>4</td>\n",
       "    </tr>\n",
       "  </tbody>\n",
       "</table>\n",
       "</div>"
      ],
      "text/plain": [
       "         colA label  num_label\n",
       "0  __label__4     4          4\n",
       "1  __label__0     0          0\n",
       "2  __label__4     4          4\n",
       "3  __label__4     4          4\n",
       "4  __label__4     4          4"
      ]
     },
     "execution_count": 99,
     "metadata": {},
     "output_type": "execute_result"
    }
   ],
   "source": [
    "prediction.head()"
   ]
  },
  {
   "cell_type": "code",
   "execution_count": 100,
   "metadata": {},
   "outputs": [
    {
     "data": {
      "text/html": [
       "<div>\n",
       "<style scoped>\n",
       "    .dataframe tbody tr th:only-of-type {\n",
       "        vertical-align: middle;\n",
       "    }\n",
       "\n",
       "    .dataframe tbody tr th {\n",
       "        vertical-align: top;\n",
       "    }\n",
       "\n",
       "    .dataframe thead th {\n",
       "        text-align: right;\n",
       "    }\n",
       "</style>\n",
       "<table border=\"1\" class=\"dataframe\">\n",
       "  <thead>\n",
       "    <tr style=\"text-align: right;\">\n",
       "      <th></th>\n",
       "      <th>num_label</th>\n",
       "    </tr>\n",
       "  </thead>\n",
       "  <tbody>\n",
       "    <tr>\n",
       "      <th>count</th>\n",
       "      <td>3826.000000</td>\n",
       "    </tr>\n",
       "    <tr>\n",
       "      <th>mean</th>\n",
       "      <td>2.513068</td>\n",
       "    </tr>\n",
       "    <tr>\n",
       "      <th>std</th>\n",
       "      <td>1.547661</td>\n",
       "    </tr>\n",
       "    <tr>\n",
       "      <th>min</th>\n",
       "      <td>0.000000</td>\n",
       "    </tr>\n",
       "    <tr>\n",
       "      <th>25%</th>\n",
       "      <td>1.000000</td>\n",
       "    </tr>\n",
       "    <tr>\n",
       "      <th>50%</th>\n",
       "      <td>3.000000</td>\n",
       "    </tr>\n",
       "    <tr>\n",
       "      <th>75%</th>\n",
       "      <td>4.000000</td>\n",
       "    </tr>\n",
       "    <tr>\n",
       "      <th>max</th>\n",
       "      <td>4.000000</td>\n",
       "    </tr>\n",
       "  </tbody>\n",
       "</table>\n",
       "</div>"
      ],
      "text/plain": [
       "         num_label\n",
       "count  3826.000000\n",
       "mean      2.513068\n",
       "std       1.547661\n",
       "min       0.000000\n",
       "25%       1.000000\n",
       "50%       3.000000\n",
       "75%       4.000000\n",
       "max       4.000000"
      ]
     },
     "execution_count": 100,
     "metadata": {},
     "output_type": "execute_result"
    }
   ],
   "source": [
    "prediction.describe()"
   ]
  },
  {
   "cell_type": "code",
   "execution_count": 101,
   "metadata": {},
   "outputs": [],
   "source": [
    "test_data['category']=prediction['num_label']"
   ]
  },
  {
   "cell_type": "code",
   "execution_count": 102,
   "metadata": {},
   "outputs": [
    {
     "data": {
      "text/plain": [
       "dtype('int64')"
      ]
     },
     "execution_count": 102,
     "metadata": {},
     "output_type": "execute_result"
    }
   ],
   "source": [
    "test_data['category'].dtype"
   ]
  },
  {
   "cell_type": "code",
   "execution_count": 104,
   "metadata": {},
   "outputs": [],
   "source": [
    "out=pd.DataFrame(test_data,columns=['article_id','category'])\n",
    "out.to_csv('prediction_clean.csv',index=False)"
   ]
  },
  {
   "cell_type": "code",
   "execution_count": null,
   "metadata": {},
   "outputs": [],
   "source": []
  },
  {
   "cell_type": "code",
   "execution_count": null,
   "metadata": {},
   "outputs": [],
   "source": []
  },
  {
   "cell_type": "markdown",
   "metadata": {},
   "source": [
    "# embedding"
   ]
  },
  {
   "cell_type": "code",
   "execution_count": 182,
   "metadata": {},
   "outputs": [],
   "source": [
    "prediction1 = pd.read_csv(\"prediction_full_ng2.1.txt\",delimiter=' ',names=['label1',\"conf1\",'label2',\"conf2\",'label3',\"conf3\",'label4',\"conf4\",'label5',\"conf5\"])"
   ]
  },
  {
   "cell_type": "code",
   "execution_count": 183,
   "metadata": {},
   "outputs": [
    {
     "data": {
      "text/html": [
       "<div>\n",
       "<style scoped>\n",
       "    .dataframe tbody tr th:only-of-type {\n",
       "        vertical-align: middle;\n",
       "    }\n",
       "\n",
       "    .dataframe tbody tr th {\n",
       "        vertical-align: top;\n",
       "    }\n",
       "\n",
       "    .dataframe thead th {\n",
       "        text-align: right;\n",
       "    }\n",
       "</style>\n",
       "<table border=\"1\" class=\"dataframe\">\n",
       "  <thead>\n",
       "    <tr style=\"text-align: right;\">\n",
       "      <th></th>\n",
       "      <th>label1</th>\n",
       "      <th>conf1</th>\n",
       "      <th>label2</th>\n",
       "      <th>conf2</th>\n",
       "      <th>label3</th>\n",
       "      <th>conf3</th>\n",
       "      <th>label4</th>\n",
       "      <th>conf4</th>\n",
       "      <th>label5</th>\n",
       "      <th>conf5</th>\n",
       "    </tr>\n",
       "  </thead>\n",
       "  <tbody>\n",
       "    <tr>\n",
       "      <th>0</th>\n",
       "      <td>__label__2</td>\n",
       "      <td>0.615234</td>\n",
       "      <td>__label__4</td>\n",
       "      <td>0.285156</td>\n",
       "      <td>__label__3</td>\n",
       "      <td>0.050781</td>\n",
       "      <td>__label__0</td>\n",
       "      <td>0.027344</td>\n",
       "      <td>__label__1</td>\n",
       "      <td>0.015625</td>\n",
       "    </tr>\n",
       "    <tr>\n",
       "      <th>1</th>\n",
       "      <td>__label__0</td>\n",
       "      <td>0.322266</td>\n",
       "      <td>__label__2</td>\n",
       "      <td>0.277344</td>\n",
       "      <td>__label__4</td>\n",
       "      <td>0.263672</td>\n",
       "      <td>__label__1</td>\n",
       "      <td>0.074219</td>\n",
       "      <td>__label__3</td>\n",
       "      <td>0.058594</td>\n",
       "    </tr>\n",
       "    <tr>\n",
       "      <th>2</th>\n",
       "      <td>__label__4</td>\n",
       "      <td>0.328125</td>\n",
       "      <td>__label__2</td>\n",
       "      <td>0.253906</td>\n",
       "      <td>__label__1</td>\n",
       "      <td>0.154297</td>\n",
       "      <td>__label__3</td>\n",
       "      <td>0.134766</td>\n",
       "      <td>__label__0</td>\n",
       "      <td>0.123047</td>\n",
       "    </tr>\n",
       "    <tr>\n",
       "      <th>3</th>\n",
       "      <td>__label__4</td>\n",
       "      <td>0.617188</td>\n",
       "      <td>__label__2</td>\n",
       "      <td>0.210938</td>\n",
       "      <td>__label__3</td>\n",
       "      <td>0.070312</td>\n",
       "      <td>__label__0</td>\n",
       "      <td>0.050781</td>\n",
       "      <td>__label__1</td>\n",
       "      <td>0.046875</td>\n",
       "    </tr>\n",
       "    <tr>\n",
       "      <th>4</th>\n",
       "      <td>__label__4</td>\n",
       "      <td>0.945312</td>\n",
       "      <td>__label__2</td>\n",
       "      <td>0.039062</td>\n",
       "      <td>__label__1</td>\n",
       "      <td>0.005859</td>\n",
       "      <td>__label__3</td>\n",
       "      <td>0.003906</td>\n",
       "      <td>__label__0</td>\n",
       "      <td>0.001953</td>\n",
       "    </tr>\n",
       "  </tbody>\n",
       "</table>\n",
       "</div>"
      ],
      "text/plain": [
       "       label1     conf1      label2     conf2      label3     conf3  \\\n",
       "0  __label__2  0.615234  __label__4  0.285156  __label__3  0.050781   \n",
       "1  __label__0  0.322266  __label__2  0.277344  __label__4  0.263672   \n",
       "2  __label__4  0.328125  __label__2  0.253906  __label__1  0.154297   \n",
       "3  __label__4  0.617188  __label__2  0.210938  __label__3  0.070312   \n",
       "4  __label__4  0.945312  __label__2  0.039062  __label__1  0.005859   \n",
       "\n",
       "       label4     conf4      label5     conf5  \n",
       "0  __label__0  0.027344  __label__1  0.015625  \n",
       "1  __label__1  0.074219  __label__3  0.058594  \n",
       "2  __label__3  0.134766  __label__0  0.123047  \n",
       "3  __label__0  0.050781  __label__1  0.046875  \n",
       "4  __label__3  0.003906  __label__0  0.001953  "
      ]
     },
     "execution_count": 183,
     "metadata": {},
     "output_type": "execute_result"
    }
   ],
   "source": [
    "prediction1.head()"
   ]
  },
  {
   "cell_type": "code",
   "execution_count": 186,
   "metadata": {},
   "outputs": [],
   "source": [
    "resultList1=[]\n",
    "for i in range(prediction1.shape[0]):\n",
    "    result=dict()\n",
    "    result[prediction1.label1[i]]=prediction1.conf1[i]\n",
    "    result[prediction1.label2[i]]=prediction1.conf2[i]\n",
    "    result[prediction1.label3[i]]=prediction1.conf3[i]\n",
    "    result[prediction1.label4[i]]=prediction1.conf4[i]\n",
    "    result[prediction1.label5[i]]=prediction1.conf5[i]\n",
    "    resultList1.append(result)"
   ]
  },
  {
   "cell_type": "code",
   "execution_count": 187,
   "metadata": {},
   "outputs": [
    {
     "name": "stdout",
     "output_type": "stream",
     "text": [
      "[{'__label__2': 0.6152340000000001, '__label__4': 0.285156, '__label__3': 0.0507813, '__label__0': 0.027343799999999998, '__label__1': 0.015625}, {'__label__0': 0.322266, '__label__2': 0.277344, '__label__4': 0.26367199999999996, '__label__1': 0.0742188, '__label__3': 0.0585938}]\n"
     ]
    }
   ],
   "source": [
    "print(resultList1[0:2])"
   ]
  },
  {
   "cell_type": "code",
   "execution_count": 189,
   "metadata": {},
   "outputs": [
    {
     "data": {
      "text/plain": [
       "3826"
      ]
     },
     "execution_count": 189,
     "metadata": {},
     "output_type": "execute_result"
    }
   ],
   "source": [
    "len(resultList1)"
   ]
  },
  {
   "cell_type": "code",
   "execution_count": 181,
   "metadata": {},
   "outputs": [],
   "source": [
    "prediction2 = pd.read_csv(\"prediction_full_30.1.txt\",delimiter=' ',names=['label1',\"conf1\",'label2',\"conf2\",'label3',\"conf3\",'label4',\"conf4\",'label5',\"conf5\"])"
   ]
  },
  {
   "cell_type": "code",
   "execution_count": 184,
   "metadata": {},
   "outputs": [
    {
     "data": {
      "text/html": [
       "<div>\n",
       "<style scoped>\n",
       "    .dataframe tbody tr th:only-of-type {\n",
       "        vertical-align: middle;\n",
       "    }\n",
       "\n",
       "    .dataframe tbody tr th {\n",
       "        vertical-align: top;\n",
       "    }\n",
       "\n",
       "    .dataframe thead th {\n",
       "        text-align: right;\n",
       "    }\n",
       "</style>\n",
       "<table border=\"1\" class=\"dataframe\">\n",
       "  <thead>\n",
       "    <tr style=\"text-align: right;\">\n",
       "      <th></th>\n",
       "      <th>label1</th>\n",
       "      <th>conf1</th>\n",
       "      <th>label2</th>\n",
       "      <th>conf2</th>\n",
       "      <th>label3</th>\n",
       "      <th>conf3</th>\n",
       "      <th>label4</th>\n",
       "      <th>conf4</th>\n",
       "      <th>label5</th>\n",
       "      <th>conf5</th>\n",
       "    </tr>\n",
       "  </thead>\n",
       "  <tbody>\n",
       "    <tr>\n",
       "      <th>0</th>\n",
       "      <td>__label__2</td>\n",
       "      <td>0.476563</td>\n",
       "      <td>__label__4</td>\n",
       "      <td>0.447266</td>\n",
       "      <td>__label__3</td>\n",
       "      <td>0.035156</td>\n",
       "      <td>__label__0</td>\n",
       "      <td>0.023438</td>\n",
       "      <td>__label__1</td>\n",
       "      <td>0.011719</td>\n",
       "    </tr>\n",
       "    <tr>\n",
       "      <th>1</th>\n",
       "      <td>__label__0</td>\n",
       "      <td>0.322266</td>\n",
       "      <td>__label__4</td>\n",
       "      <td>0.292969</td>\n",
       "      <td>__label__2</td>\n",
       "      <td>0.246094</td>\n",
       "      <td>__label__1</td>\n",
       "      <td>0.082031</td>\n",
       "      <td>__label__3</td>\n",
       "      <td>0.052734</td>\n",
       "    </tr>\n",
       "    <tr>\n",
       "      <th>2</th>\n",
       "      <td>__label__4</td>\n",
       "      <td>0.378906</td>\n",
       "      <td>__label__2</td>\n",
       "      <td>0.294922</td>\n",
       "      <td>__label__1</td>\n",
       "      <td>0.134766</td>\n",
       "      <td>__label__3</td>\n",
       "      <td>0.103516</td>\n",
       "      <td>__label__0</td>\n",
       "      <td>0.080078</td>\n",
       "    </tr>\n",
       "    <tr>\n",
       "      <th>3</th>\n",
       "      <td>__label__4</td>\n",
       "      <td>0.628906</td>\n",
       "      <td>__label__2</td>\n",
       "      <td>0.218750</td>\n",
       "      <td>__label__3</td>\n",
       "      <td>0.058594</td>\n",
       "      <td>__label__0</td>\n",
       "      <td>0.056641</td>\n",
       "      <td>__label__1</td>\n",
       "      <td>0.033203</td>\n",
       "    </tr>\n",
       "    <tr>\n",
       "      <th>4</th>\n",
       "      <td>__label__4</td>\n",
       "      <td>0.921875</td>\n",
       "      <td>__label__2</td>\n",
       "      <td>0.058594</td>\n",
       "      <td>__label__1</td>\n",
       "      <td>0.007813</td>\n",
       "      <td>__label__3</td>\n",
       "      <td>0.003906</td>\n",
       "      <td>__label__0</td>\n",
       "      <td>0.001953</td>\n",
       "    </tr>\n",
       "  </tbody>\n",
       "</table>\n",
       "</div>"
      ],
      "text/plain": [
       "       label1     conf1      label2     conf2      label3     conf3  \\\n",
       "0  __label__2  0.476563  __label__4  0.447266  __label__3  0.035156   \n",
       "1  __label__0  0.322266  __label__4  0.292969  __label__2  0.246094   \n",
       "2  __label__4  0.378906  __label__2  0.294922  __label__1  0.134766   \n",
       "3  __label__4  0.628906  __label__2  0.218750  __label__3  0.058594   \n",
       "4  __label__4  0.921875  __label__2  0.058594  __label__1  0.007813   \n",
       "\n",
       "       label4     conf4      label5     conf5  \n",
       "0  __label__0  0.023438  __label__1  0.011719  \n",
       "1  __label__1  0.082031  __label__3  0.052734  \n",
       "2  __label__3  0.103516  __label__0  0.080078  \n",
       "3  __label__0  0.056641  __label__1  0.033203  \n",
       "4  __label__3  0.003906  __label__0  0.001953  "
      ]
     },
     "execution_count": 184,
     "metadata": {},
     "output_type": "execute_result"
    }
   ],
   "source": [
    "prediction2.head()"
   ]
  },
  {
   "cell_type": "code",
   "execution_count": 188,
   "metadata": {},
   "outputs": [],
   "source": [
    "resultList2=[]\n",
    "for i in range(prediction1.shape[0]):\n",
    "    result=dict()\n",
    "    result[prediction2.label1[i]]=prediction2.conf1[i]\n",
    "    result[prediction2.label2[i]]=prediction2.conf2[i]\n",
    "    result[prediction2.label3[i]]=prediction2.conf3[i]\n",
    "    result[prediction2.label4[i]]=prediction2.conf4[i]\n",
    "    result[prediction2.label5[i]]=prediction2.conf5[i]\n",
    "    resultList2.append(result)"
   ]
  },
  {
   "cell_type": "code",
   "execution_count": 190,
   "metadata": {},
   "outputs": [
    {
     "data": {
      "text/plain": [
       "3826"
      ]
     },
     "execution_count": 190,
     "metadata": {},
     "output_type": "execute_result"
    }
   ],
   "source": [
    "len(resultList2)"
   ]
  },
  {
   "cell_type": "code",
   "execution_count": 192,
   "metadata": {},
   "outputs": [],
   "source": [
    "predictList=[]\n",
    "for i in range(len(resultList2)):\n",
    "    final=[0.0,0.0,0.0,0.0,0.0]\n",
    "    final[0]=resultList1[i][\"__label__0\"]+resultList2[i][\"__label__0\"]\n",
    "    final[1]=resultList1[i][\"__label__1\"]+resultList2[i][\"__label__1\"]\n",
    "    final[2]=resultList1[i][\"__label__2\"]+resultList2[i][\"__label__2\"]\n",
    "    final[3]=resultList1[i][\"__label__3\"]+resultList2[i][\"__label__3\"]\n",
    "    final[4]=resultList1[i][\"__label__4\"]+resultList2[i][\"__label__4\"]\n",
    "    max_value = max(final)\n",
    "    max_index = final.index(max_value)\n",
    "    predictList.append(max_index)\n",
    "    \n",
    "    "
   ]
  },
  {
   "cell_type": "code",
   "execution_count": 193,
   "metadata": {},
   "outputs": [
    {
     "data": {
      "text/plain": [
       "[2, 0, 4, 4, 4, 4, 4, 4, 2, 4]"
      ]
     },
     "execution_count": 193,
     "metadata": {},
     "output_type": "execute_result"
    }
   ],
   "source": [
    "predictList[0:10]"
   ]
  },
  {
   "cell_type": "code",
   "execution_count": 194,
   "metadata": {},
   "outputs": [],
   "source": [
    "test_data['category']=np.asarray(predictList)"
   ]
  },
  {
   "cell_type": "code",
   "execution_count": 195,
   "metadata": {},
   "outputs": [
    {
     "data": {
      "text/plain": [
       "dtype('int32')"
      ]
     },
     "execution_count": 195,
     "metadata": {},
     "output_type": "execute_result"
    }
   ],
   "source": [
    "test_data['category'].dtype"
   ]
  },
  {
   "cell_type": "code",
   "execution_count": 196,
   "metadata": {},
   "outputs": [],
   "source": [
    "out=pd.DataFrame(test_data,columns=['article_id','category'])\n",
    "out.to_csv('prediction_full_embedding.csv',index=False)"
   ]
  },
  {
   "cell_type": "code",
   "execution_count": null,
   "metadata": {},
   "outputs": [],
   "source": []
  },
  {
   "cell_type": "code",
   "execution_count": null,
   "metadata": {},
   "outputs": [],
   "source": []
  },
  {
   "cell_type": "code",
   "execution_count": null,
   "metadata": {},
   "outputs": [],
   "source": []
  }
 ],
 "metadata": {
  "kernelspec": {
   "display_name": "Python 3",
   "language": "python",
   "name": "python3"
  },
  "language_info": {
   "codemirror_mode": {
    "name": "ipython",
    "version": 3
   },
   "file_extension": ".py",
   "mimetype": "text/x-python",
   "name": "python",
   "nbconvert_exporter": "python",
   "pygments_lexer": "ipython3",
   "version": "3.7.0"
  }
 },
 "nbformat": 4,
 "nbformat_minor": 2
}
